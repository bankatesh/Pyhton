{
 "cells": [
  {
   "cell_type": "code",
   "execution_count": 1,
   "metadata": {},
   "outputs": [
    {
     "name": "stdout",
     "output_type": "stream",
     "text": [
      "Hello World\n"
     ]
    }
   ],
   "source": [
    "print(\"Hello World\")"
   ]
  },
  {
   "cell_type": "code",
   "execution_count": 23,
   "metadata": {},
   "outputs": [
    {
     "name": "stdout",
     "output_type": "stream",
     "text": [
      "15.5\n",
      "37.0\n",
      "5.0\n",
      "2.1\n",
      "32.550000000000004\n",
      "Nizam\n",
      "5\n",
      "10.5\n"
     ]
    }
   ],
   "source": [
    "a = 5\n",
    "b = 10.5\n",
    "\n",
    "c = a+b\n",
    "d = (a+b)*(b/a)\n",
    "print(c)\n",
    "z = \"Nizam\"\n",
    "print(a*b-c)\n",
    "print(a%b)\n",
    "print(b/a)\n",
    "print(d)\n",
    "print(z)\n",
    "print(a)\n",
    "print(b)"
   ]
  },
  {
   "cell_type": "code",
   "execution_count": 17,
   "metadata": {},
   "outputs": [
    {
     "data": {
      "text/plain": [
       "float"
      ]
     },
     "execution_count": 17,
     "metadata": {},
     "output_type": "execute_result"
    }
   ],
   "source": [
    "\n",
    "type(b)"
   ]
  },
  {
   "cell_type": "code",
   "execution_count": 61,
   "metadata": {},
   "outputs": [
    {
     "data": {
      "text/plain": [
       "'Hel'"
      ]
     },
     "execution_count": 61,
     "metadata": {},
     "output_type": "execute_result"
    }
   ],
   "source": [
    "j = 'Hello'\n",
    "a[:3]"
   ]
  },
  {
   "cell_type": "code",
   "execution_count": 47,
   "metadata": {},
   "outputs": [
    {
     "data": {
      "text/plain": [
       "'10.5'"
      ]
     },
     "execution_count": 47,
     "metadata": {},
     "output_type": "execute_result"
    }
   ],
   "source": [
    "l = str(b)\n",
    "\n",
    "z\n",
    "l"
   ]
  },
  {
   "cell_type": "code",
   "execution_count": 40,
   "metadata": {},
   "outputs": [
    {
     "data": {
      "text/plain": [
       "18"
      ]
     },
     "execution_count": 40,
     "metadata": {},
     "output_type": "execute_result"
    }
   ],
   "source": [
    "A = 18.5\n",
    "z = int(A)\n",
    "z"
   ]
  },
  {
   "cell_type": "code",
   "execution_count": 60,
   "metadata": {},
   "outputs": [
    {
     "data": {
      "text/plain": [
       "10"
      ]
     },
     "execution_count": 60,
     "metadata": {},
     "output_type": "execute_result"
    }
   ],
   "source": [
    "t = \"NizamHello\"\n",
    "len(t)"
   ]
  },
  {
   "cell_type": "code",
   "execution_count": 69,
   "metadata": {},
   "outputs": [
    {
     "data": {
      "text/plain": [
       "'muhammad nizam ali'"
      ]
     },
     "execution_count": 69,
     "metadata": {},
     "output_type": "execute_result"
    }
   ],
   "source": [
    "e = 'Muhammad Nizam Ali'\n",
    "e.lower()\n",
    "\n"
   ]
  },
  {
   "cell_type": "code",
   "execution_count": 68,
   "metadata": {},
   "outputs": [
    {
     "data": {
      "text/plain": [
       "'MUHAMMAD NIZAM ALI'"
      ]
     },
     "execution_count": 68,
     "metadata": {},
     "output_type": "execute_result"
    }
   ],
   "source": [
    "e.upper()"
   ]
  },
  {
   "cell_type": "code",
   "execution_count": 82,
   "metadata": {},
   "outputs": [
    {
     "data": {
      "text/plain": [
       "' Heklaleo '"
      ]
     },
     "execution_count": 82,
     "metadata": {},
     "output_type": "execute_result"
    }
   ],
   "source": [
    "f = ' Helllllo '\n",
    "f.replace('elllll','eklale')"
   ]
  },
  {
   "cell_type": "code",
   "execution_count": 72,
   "metadata": {},
   "outputs": [
    {
     "name": "stdout",
     "output_type": "stream",
     "text": [
      "Python Source To Explore New World\n"
     ]
    }
   ],
   "source": [
    "string = 'Python Help To Explore New World'\n",
    "print(string.replace(\"Help\", \"Source\"))  "
   ]
  },
  {
   "cell_type": "code",
   "execution_count": 83,
   "metadata": {},
   "outputs": [
    {
     "data": {
      "text/plain": [
       "'22'"
      ]
     },
     "execution_count": 83,
     "metadata": {},
     "output_type": "execute_result"
    }
   ],
   "source": [
    "a = '2'\n",
    "b = '2'\n",
    "c = a+b\n",
    "c"
   ]
  },
  {
   "cell_type": "code",
   "execution_count": 98,
   "metadata": {},
   "outputs": [
    {
     "data": {
      "text/plain": [
       "'My age is 19'"
      ]
     },
     "execution_count": 98,
     "metadata": {},
     "output_type": "execute_result"
    }
   ],
   "source": [
    "a = '19'\n",
    "b = \"My age is \"\n",
    "c = b +a\n",
    "c"
   ]
  },
  {
   "cell_type": "code",
   "execution_count": 99,
   "metadata": {},
   "outputs": [
    {
     "data": {
      "text/plain": [
       "[1, 2, 3, 4, 5, 6]"
      ]
     },
     "execution_count": 99,
     "metadata": {},
     "output_type": "execute_result"
    }
   ],
   "source": [
    "l = [1,2,3,4,5,6]\n",
    "l"
   ]
  },
  {
   "cell_type": "code",
   "execution_count": 100,
   "metadata": {},
   "outputs": [
    {
     "ename": "TypeError",
     "evalue": "'list' object is not callable",
     "output_type": "error",
     "traceback": [
      "\u001b[1;31m---------------------------------------------------------------------------\u001b[0m",
      "\u001b[1;31mTypeError\u001b[0m                                 Traceback (most recent call last)",
      "\u001b[1;32m<ipython-input-100-3504c1cfd3d9>\u001b[0m in \u001b[0;36m<module>\u001b[1;34m\u001b[0m\n\u001b[1;32m----> 1\u001b[1;33m \u001b[0ml\u001b[0m\u001b[1;33m(\u001b[0m\u001b[1;36m1\u001b[0m\u001b[1;33m)\u001b[0m\u001b[1;33m\u001b[0m\u001b[1;33m\u001b[0m\u001b[0m\n\u001b[0m",
      "\u001b[1;31mTypeError\u001b[0m: 'list' object is not callable"
     ]
    }
   ],
   "source": [
    "l(1)"
   ]
  },
  {
   "cell_type": "code",
   "execution_count": 101,
   "metadata": {},
   "outputs": [
    {
     "data": {
      "text/plain": [
       "4"
      ]
     },
     "execution_count": 101,
     "metadata": {},
     "output_type": "execute_result"
    }
   ],
   "source": [
    "l[3]"
   ]
  },
  {
   "cell_type": "code",
   "execution_count": 104,
   "metadata": {},
   "outputs": [
    {
     "name": "stdout",
     "output_type": "stream",
     "text": [
      "(1, 2, 3, 4, 5, 6)\n"
     ]
    }
   ],
   "source": [
    "m = (1,2,3,4,5,6)\n",
    "print(m)"
   ]
  },
  {
   "cell_type": "code",
   "execution_count": 106,
   "metadata": {},
   "outputs": [
    {
     "data": {
      "text/plain": [
       "4"
      ]
     },
     "execution_count": 106,
     "metadata": {},
     "output_type": "execute_result"
    }
   ],
   "source": [
    "m[3]"
   ]
  },
  {
   "cell_type": "code",
   "execution_count": 108,
   "metadata": {},
   "outputs": [
    {
     "data": {
      "text/plain": [
       "[1, 2, 4, 4, 5, 6]"
      ]
     },
     "execution_count": 108,
     "metadata": {},
     "output_type": "execute_result"
    }
   ],
   "source": [
    "l[2] = l[3]\n",
    "l"
   ]
  },
  {
   "cell_type": "code",
   "execution_count": 109,
   "metadata": {},
   "outputs": [
    {
     "ename": "TypeError",
     "evalue": "'tuple' object does not support item assignment",
     "output_type": "error",
     "traceback": [
      "\u001b[1;31m---------------------------------------------------------------------------\u001b[0m",
      "\u001b[1;31mTypeError\u001b[0m                                 Traceback (most recent call last)",
      "\u001b[1;32m<ipython-input-109-520e87a20595>\u001b[0m in \u001b[0;36m<module>\u001b[1;34m\u001b[0m\n\u001b[1;32m----> 1\u001b[1;33m \u001b[0mm\u001b[0m\u001b[1;33m[\u001b[0m\u001b[1;36m2\u001b[0m\u001b[1;33m]\u001b[0m \u001b[1;33m=\u001b[0m \u001b[0mm\u001b[0m\u001b[1;33m[\u001b[0m\u001b[1;36m3\u001b[0m\u001b[1;33m]\u001b[0m\u001b[1;33m\u001b[0m\u001b[1;33m\u001b[0m\u001b[0m\n\u001b[0m\u001b[0;32m      2\u001b[0m \u001b[0mm\u001b[0m\u001b[1;33m\u001b[0m\u001b[1;33m\u001b[0m\u001b[0m\n",
      "\u001b[1;31mTypeError\u001b[0m: 'tuple' object does not support item assignment"
     ]
    }
   ],
   "source": [
    "m[2] = m[3]\n",
    "m"
   ]
  },
  {
   "cell_type": "code",
   "execution_count": 110,
   "metadata": {},
   "outputs": [
    {
     "data": {
      "text/plain": [
       "[1, 2, 4, 4, 5, 6, 8]"
      ]
     },
     "execution_count": 110,
     "metadata": {},
     "output_type": "execute_result"
    }
   ],
   "source": [
    "l.append(8)\n",
    "l"
   ]
  },
  {
   "cell_type": "code",
   "execution_count": 111,
   "metadata": {},
   "outputs": [
    {
     "data": {
      "text/plain": [
       "7"
      ]
     },
     "execution_count": 111,
     "metadata": {},
     "output_type": "execute_result"
    }
   ],
   "source": [
    "len(l)"
   ]
  },
  {
   "cell_type": "code",
   "execution_count": 112,
   "metadata": {},
   "outputs": [
    {
     "data": {
      "text/plain": [
       "4"
      ]
     },
     "execution_count": 112,
     "metadata": {},
     "output_type": "execute_result"
    }
   ],
   "source": [
    "l.pop(2)"
   ]
  },
  {
   "cell_type": "code",
   "execution_count": 113,
   "metadata": {},
   "outputs": [
    {
     "data": {
      "text/plain": [
       "6"
      ]
     },
     "execution_count": 113,
     "metadata": {},
     "output_type": "execute_result"
    }
   ],
   "source": [
    "len(l)"
   ]
  },
  {
   "cell_type": "code",
   "execution_count": 115,
   "metadata": {},
   "outputs": [
    {
     "data": {
      "text/plain": [
       "[1, 2, 4, 9, 9, 5, 6, 8]"
      ]
     },
     "execution_count": 115,
     "metadata": {},
     "output_type": "execute_result"
    }
   ],
   "source": [
    "l.insert(3,9)\n",
    "l"
   ]
  },
  {
   "cell_type": "code",
   "execution_count": 116,
   "metadata": {},
   "outputs": [
    {
     "data": {
      "text/plain": [
       "[1, 2, 4, 9, 9, 5, 6, 8]"
      ]
     },
     "execution_count": 116,
     "metadata": {},
     "output_type": "execute_result"
    }
   ],
   "source": [
    "l"
   ]
  },
  {
   "cell_type": "code",
   "execution_count": 117,
   "metadata": {},
   "outputs": [],
   "source": [
    "l.insert(3,0)\n"
   ]
  },
  {
   "cell_type": "code",
   "execution_count": 118,
   "metadata": {},
   "outputs": [
    {
     "data": {
      "text/plain": [
       "[1, 2, 4, 0, 9, 9, 5, 6, 8]"
      ]
     },
     "execution_count": 118,
     "metadata": {},
     "output_type": "execute_result"
    }
   ],
   "source": [
    "l"
   ]
  },
  {
   "cell_type": "code",
   "execution_count": 119,
   "metadata": {},
   "outputs": [],
   "source": [
    "l.remove(9)"
   ]
  },
  {
   "cell_type": "code",
   "execution_count": 120,
   "metadata": {},
   "outputs": [
    {
     "data": {
      "text/plain": [
       "[1, 2, 4, 0, 9, 5, 6, 8]"
      ]
     },
     "execution_count": 120,
     "metadata": {},
     "output_type": "execute_result"
    }
   ],
   "source": [
    "l"
   ]
  },
  {
   "cell_type": "code",
   "execution_count": 121,
   "metadata": {},
   "outputs": [
    {
     "ename": "AttributeError",
     "evalue": "'tuple' object has no attribute 'insert'",
     "output_type": "error",
     "traceback": [
      "\u001b[1;31m---------------------------------------------------------------------------\u001b[0m",
      "\u001b[1;31mAttributeError\u001b[0m                            Traceback (most recent call last)",
      "\u001b[1;32m<ipython-input-121-15d3bd820e0e>\u001b[0m in \u001b[0;36m<module>\u001b[1;34m\u001b[0m\n\u001b[1;32m----> 1\u001b[1;33m \u001b[0mm\u001b[0m\u001b[1;33m.\u001b[0m\u001b[0minsert\u001b[0m\u001b[1;33m(\u001b[0m\u001b[1;36m2\u001b[0m\u001b[1;33m,\u001b[0m\u001b[1;36m4\u001b[0m\u001b[1;33m)\u001b[0m\u001b[1;33m\u001b[0m\u001b[1;33m\u001b[0m\u001b[0m\n\u001b[0m",
      "\u001b[1;31mAttributeError\u001b[0m: 'tuple' object has no attribute 'insert'"
     ]
    }
   ],
   "source": [
    "m.insert(2,4)"
   ]
  },
  {
   "cell_type": "code",
   "execution_count": 122,
   "metadata": {},
   "outputs": [],
   "source": [
    "del(l)"
   ]
  },
  {
   "cell_type": "code",
   "execution_count": 123,
   "metadata": {},
   "outputs": [
    {
     "data": {
      "text/plain": [
       "[1, 2, 3, 4, 5, 6, 7, 8]"
      ]
     },
     "execution_count": 123,
     "metadata": {},
     "output_type": "execute_result"
    }
   ],
   "source": [
    "l = [1,2,3,4,5,6,7,8]\n",
    "l"
   ]
  },
  {
   "cell_type": "code",
   "execution_count": 126,
   "metadata": {},
   "outputs": [],
   "source": [
    "k = l.copy()"
   ]
  },
  {
   "cell_type": "code",
   "execution_count": 129,
   "metadata": {},
   "outputs": [
    {
     "data": {
      "text/plain": [
       "[1, 2, 3, 4, 5, 6, 7, 8, 10, 10]"
      ]
     },
     "execution_count": 129,
     "metadata": {},
     "output_type": "execute_result"
    }
   ],
   "source": [
    "k.append(10)\n",
    "k"
   ]
  },
  {
   "cell_type": "code",
   "execution_count": 130,
   "metadata": {},
   "outputs": [
    {
     "data": {
      "text/plain": [
       "[1, 2, 3, 4, 5, 6, 7, 8, 10, 10]"
      ]
     },
     "execution_count": 130,
     "metadata": {},
     "output_type": "execute_result"
    }
   ],
   "source": [
    "k"
   ]
  },
  {
   "cell_type": "code",
   "execution_count": 131,
   "metadata": {},
   "outputs": [
    {
     "data": {
      "text/plain": [
       "[1, 2, 3, 4, 5, 6, 7, 8, 10, 10]"
      ]
     },
     "execution_count": 131,
     "metadata": {},
     "output_type": "execute_result"
    }
   ],
   "source": [
    "k"
   ]
  },
  {
   "cell_type": "code",
   "execution_count": 132,
   "metadata": {},
   "outputs": [
    {
     "data": {
      "text/plain": [
       "[5, 1, 2, 3, 4, 5, 6, 7, 8, 10, 10]"
      ]
     },
     "execution_count": 132,
     "metadata": {},
     "output_type": "execute_result"
    }
   ],
   "source": [
    "k.insert(0,5)\n",
    "k"
   ]
  },
  {
   "cell_type": "code",
   "execution_count": 133,
   "metadata": {},
   "outputs": [
    {
     "data": {
      "text/plain": [
       "[5, 1, 2, 3, 4, 5, 6, 7, 8, 10, 10, 11]"
      ]
     },
     "execution_count": 133,
     "metadata": {},
     "output_type": "execute_result"
    }
   ],
   "source": [
    "k.append(11)\n",
    "k"
   ]
  },
  {
   "cell_type": "code",
   "execution_count": 134,
   "metadata": {},
   "outputs": [
    {
     "data": {
      "text/plain": [
       "[5, 1, 2, 3, 4, 5, 6, 7, 8, 10, 10, 11]"
      ]
     },
     "execution_count": 134,
     "metadata": {},
     "output_type": "execute_result"
    }
   ],
   "source": [
    "p=k.copy()\n",
    "p"
   ]
  },
  {
   "cell_type": "code",
   "execution_count": 135,
   "metadata": {},
   "outputs": [
    {
     "data": {
      "text/plain": [
       "<function list.append(object, /)>"
      ]
     },
     "execution_count": 135,
     "metadata": {},
     "output_type": "execute_result"
    }
   ],
   "source": [
    "p.append()"
   ]
  },
  {
   "cell_type": "code",
   "execution_count": 136,
   "metadata": {},
   "outputs": [
    {
     "data": {
      "text/plain": [
       "[5, 1, 2, 3, 4, 5, 6, 7, 8, 10, 10, 11, 100]"
      ]
     },
     "execution_count": 136,
     "metadata": {},
     "output_type": "execute_result"
    }
   ],
   "source": [
    "p.append(100)\n",
    "p"
   ]
  },
  {
   "cell_type": "code",
   "execution_count": 137,
   "metadata": {},
   "outputs": [
    {
     "data": {
      "text/plain": [
       "['My', 'name', 'is', 'khan']"
      ]
     },
     "execution_count": 137,
     "metadata": {},
     "output_type": "execute_result"
    }
   ],
   "source": [
    "f = 'My name is khan'\n",
    "f.split()"
   ]
  },
  {
   "cell_type": "code",
   "execution_count": 138,
   "metadata": {},
   "outputs": [
    {
     "data": {
      "text/plain": [
       "[1, 2, 3, 4, 5, 5, 6, 7, 8, 10, 10, 11, 100]"
      ]
     },
     "execution_count": 138,
     "metadata": {},
     "output_type": "execute_result"
    }
   ],
   "source": [
    "p.sort()\n",
    "p"
   ]
  },
  {
   "cell_type": "code",
   "execution_count": 141,
   "metadata": {},
   "outputs": [
    {
     "data": {
      "text/plain": [
       "[100, 11, 10, 10, 8, 7, 6, 5, 5, 4, 3, 2, 1]"
      ]
     },
     "execution_count": 141,
     "metadata": {},
     "output_type": "execute_result"
    }
   ],
   "source": [
    "p.sort(reverse = True)\n",
    "p\n"
   ]
  },
  {
   "cell_type": "code",
   "execution_count": 142,
   "metadata": {},
   "outputs": [],
   "source": [
    "g = {\"Geek\" : \"Odd or unsual Personality\",\"Exception\" : \"Diffrent from othert\"}"
   ]
  },
  {
   "cell_type": "code",
   "execution_count": 143,
   "metadata": {},
   "outputs": [
    {
     "data": {
      "text/plain": [
       "{'Geek': 'Odd or unsual Personality', 'Exception': 'Diffrent from othert'}"
      ]
     },
     "execution_count": 143,
     "metadata": {},
     "output_type": "execute_result"
    }
   ],
   "source": [
    "g"
   ]
  },
  {
   "cell_type": "code",
   "execution_count": 148,
   "metadata": {},
   "outputs": [
    {
     "data": {
      "text/plain": [
       "'Odd or unsual Personality'"
      ]
     },
     "execution_count": 148,
     "metadata": {},
     "output_type": "execute_result"
    }
   ],
   "source": [
    "g['Geek']"
   ]
  },
  {
   "cell_type": "code",
   "execution_count": 151,
   "metadata": {},
   "outputs": [
    {
     "ename": "SyntaxError",
     "evalue": "invalid syntax (<ipython-input-151-982644c03b25>, line 1)",
     "output_type": "error",
     "traceback": [
      "\u001b[1;36m  File \u001b[1;32m\"<ipython-input-151-982644c03b25>\"\u001b[1;36m, line \u001b[1;32m1\u001b[0m\n\u001b[1;33m    g.insert(2,\"Ball\":\"A circular Shape\")\u001b[0m\n\u001b[1;37m                     ^\u001b[0m\n\u001b[1;31mSyntaxError\u001b[0m\u001b[1;31m:\u001b[0m invalid syntax\n"
     ]
    }
   ],
   "source": [
    "g.pop"
   ]
  },
  {
   "cell_type": "code",
   "execution_count": 152,
   "metadata": {},
   "outputs": [],
   "source": [
    "g['Exception'] = 'Sepearate from other'"
   ]
  },
  {
   "cell_type": "code",
   "execution_count": 153,
   "metadata": {},
   "outputs": [
    {
     "data": {
      "text/plain": [
       "{'Geek': 'Odd or unsual Personality', 'Exception': 'Sepearate from other'}"
      ]
     },
     "execution_count": 153,
     "metadata": {},
     "output_type": "execute_result"
    }
   ],
   "source": [
    "g"
   ]
  },
  {
   "cell_type": "code",
   "execution_count": 155,
   "metadata": {},
   "outputs": [
    {
     "data": {
      "text/plain": [
       "'Odd or unsual Personality'"
      ]
     },
     "execution_count": 155,
     "metadata": {},
     "output_type": "execute_result"
    }
   ],
   "source": [
    "g.pop('Geek')"
   ]
  },
  {
   "cell_type": "code",
   "execution_count": null,
   "metadata": {},
   "outputs": [],
   "source": []
  },
  {
   "cell_type": "code",
   "execution_count": 156,
   "metadata": {},
   "outputs": [
    {
     "ename": "AttributeError",
     "evalue": "'dict' object has no attribute 'len'",
     "output_type": "error",
     "traceback": [
      "\u001b[1;31m---------------------------------------------------------------------------\u001b[0m",
      "\u001b[1;31mAttributeError\u001b[0m                            Traceback (most recent call last)",
      "\u001b[1;32m<ipython-input-156-e0b83b009f55>\u001b[0m in \u001b[0;36m<module>\u001b[1;34m\u001b[0m\n\u001b[1;32m----> 1\u001b[1;33m \u001b[0mg\u001b[0m\u001b[1;33m.\u001b[0m\u001b[0mlen\u001b[0m\u001b[1;33m(\u001b[0m\u001b[1;34m'Geek'\u001b[0m\u001b[1;33m)\u001b[0m\u001b[1;33m\u001b[0m\u001b[1;33m\u001b[0m\u001b[0m\n\u001b[0m",
      "\u001b[1;31mAttributeError\u001b[0m: 'dict' object has no attribute 'len'"
     ]
    }
   ],
   "source": [
    "g.len('Geek')"
   ]
  },
  {
   "cell_type": "code",
   "execution_count": 157,
   "metadata": {},
   "outputs": [
    {
     "data": {
      "text/plain": [
       "1"
      ]
     },
     "execution_count": 157,
     "metadata": {},
     "output_type": "execute_result"
    }
   ],
   "source": [
    "len('g')"
   ]
  },
  {
   "cell_type": "code",
   "execution_count": 158,
   "metadata": {},
   "outputs": [],
   "source": [
    "h = g.copy()"
   ]
  },
  {
   "cell_type": "code",
   "execution_count": 159,
   "metadata": {},
   "outputs": [
    {
     "data": {
      "text/plain": [
       "{'Exception': 'Sepearate from other'}"
      ]
     },
     "execution_count": 159,
     "metadata": {},
     "output_type": "execute_result"
    }
   ],
   "source": [
    "h"
   ]
  },
  {
   "cell_type": "code",
   "execution_count": 161,
   "metadata": {},
   "outputs": [
    {
     "data": {
      "text/plain": [
       "('Exception', 'Sepearate from other')"
      ]
     },
     "execution_count": 161,
     "metadata": {},
     "output_type": "execute_result"
    }
   ],
   "source": [
    "h.popitem()"
   ]
  },
  {
   "cell_type": "code",
   "execution_count": 162,
   "metadata": {},
   "outputs": [
    {
     "data": {
      "text/plain": [
       "{}"
      ]
     },
     "execution_count": 162,
     "metadata": {},
     "output_type": "execute_result"
    }
   ],
   "source": [
    "h"
   ]
  },
  {
   "cell_type": "code",
   "execution_count": 167,
   "metadata": {},
   "outputs": [
    {
     "ename": "AttributeError",
     "evalue": "'dict' object has no attribute 'key'",
     "output_type": "error",
     "traceback": [
      "\u001b[1;31m---------------------------------------------------------------------------\u001b[0m",
      "\u001b[1;31mAttributeError\u001b[0m                            Traceback (most recent call last)",
      "\u001b[1;32m<ipython-input-167-dc22c71a9799>\u001b[0m in \u001b[0;36m<module>\u001b[1;34m\u001b[0m\n\u001b[1;32m----> 1\u001b[1;33m \u001b[0mg\u001b[0m\u001b[1;33m.\u001b[0m\u001b[0mkey\u001b[0m\u001b[1;33m(\u001b[0m\u001b[1;34m'Exception'\u001b[0m\u001b[1;33m)\u001b[0m\u001b[1;33m\u001b[0m\u001b[1;33m\u001b[0m\u001b[0m\n\u001b[0m",
      "\u001b[1;31mAttributeError\u001b[0m: 'dict' object has no attribute 'key'"
     ]
    }
   ],
   "source": [
    "g.key('Exception')"
   ]
  },
  {
   "cell_type": "code",
   "execution_count": 168,
   "metadata": {},
   "outputs": [
    {
     "data": {
      "text/plain": [
       "{'Exception': 'Sepearate from other'}"
      ]
     },
     "execution_count": 168,
     "metadata": {},
     "output_type": "execute_result"
    }
   ],
   "source": [
    "g"
   ]
  },
  {
   "cell_type": "code",
   "execution_count": 170,
   "metadata": {},
   "outputs": [
    {
     "data": {
      "text/plain": [
       "dict_keys(['Exception'])"
      ]
     },
     "execution_count": 170,
     "metadata": {},
     "output_type": "execute_result"
    }
   ],
   "source": [
    "g.keys()"
   ]
  },
  {
   "cell_type": "code",
   "execution_count": 171,
   "metadata": {},
   "outputs": [
    {
     "data": {
      "text/plain": [
       "dict_values(['Sepearate from other'])"
      ]
     },
     "execution_count": 171,
     "metadata": {},
     "output_type": "execute_result"
    }
   ],
   "source": [
    "g.values()"
   ]
  },
  {
   "cell_type": "code",
   "execution_count": 172,
   "metadata": {},
   "outputs": [
    {
     "ename": "TypeError",
     "evalue": "keys() takes no arguments (1 given)",
     "output_type": "error",
     "traceback": [
      "\u001b[1;31m---------------------------------------------------------------------------\u001b[0m",
      "\u001b[1;31mTypeError\u001b[0m                                 Traceback (most recent call last)",
      "\u001b[1;32m<ipython-input-172-c54ec9ffb53f>\u001b[0m in \u001b[0;36m<module>\u001b[1;34m\u001b[0m\n\u001b[1;32m----> 1\u001b[1;33m \u001b[0mg\u001b[0m\u001b[1;33m.\u001b[0m\u001b[0mkeys\u001b[0m\u001b[1;33m(\u001b[0m\u001b[1;34m'Exception'\u001b[0m\u001b[1;33m)\u001b[0m\u001b[1;33m\u001b[0m\u001b[1;33m\u001b[0m\u001b[0m\n\u001b[0m",
      "\u001b[1;31mTypeError\u001b[0m: keys() takes no arguments (1 given)"
     ]
    }
   ],
   "source": [
    "g.keys('Exception')"
   ]
  },
  {
   "cell_type": "code",
   "execution_count": 174,
   "metadata": {},
   "outputs": [],
   "source": [
    "h = {\"Breed\" : \"to produce\",\"Breed\" : \"Same Genetics living\"}"
   ]
  },
  {
   "cell_type": "code",
   "execution_count": 175,
   "metadata": {},
   "outputs": [
    {
     "data": {
      "text/plain": [
       "{'Breed': 'Same Genetics living'}"
      ]
     },
     "execution_count": 175,
     "metadata": {},
     "output_type": "execute_result"
    }
   ],
   "source": [
    "h"
   ]
  },
  {
   "cell_type": "code",
   "execution_count": 176,
   "metadata": {},
   "outputs": [
    {
     "data": {
      "text/plain": [
       "1"
      ]
     },
     "execution_count": 176,
     "metadata": {},
     "output_type": "execute_result"
    }
   ],
   "source": [
    "len(h)"
   ]
  },
  {
   "cell_type": "code",
   "execution_count": 1,
   "metadata": {},
   "outputs": [],
   "source": [
    " import webbrowser as wb"
   ]
  },
  {
   "cell_type": "code",
   "execution_count": 6,
   "metadata": {},
   "outputs": [
    {
     "name": "stdout",
     "output_type": "stream",
     "text": [
      "udaariya\n"
     ]
    },
    {
     "data": {
      "text/plain": [
       "True"
      ]
     },
     "execution_count": 6,
     "metadata": {},
     "output_type": "execute_result"
    }
   ],
   "source": [
    "a = input()\n",
    "wb.open_new_tab('https://www.youtube.com/search?q=%s'%a)"
   ]
  },
  {
   "cell_type": "code",
   "execution_count": 8,
   "metadata": {},
   "outputs": [
    {
     "name": "stdout",
     "output_type": "stream",
     "text": [
      "pirate bey\n"
     ]
    },
    {
     "data": {
      "text/plain": [
       "True"
      ]
     },
     "execution_count": 8,
     "metadata": {},
     "output_type": "execute_result"
    }
   ],
   "source": [
    "a = input()\n",
    "wb.open_new_tab('https://www.google.com/search?q=%s'%a)"
   ]
  },
  {
   "cell_type": "code",
   "execution_count": 7,
   "metadata": {},
   "outputs": [
    {
     "name": "stdout",
     "output_type": "stream",
     "text": [
      "enter no.+917742652560\n",
      "enter messageHello world\n"
     ]
    },
    {
     "data": {
      "text/plain": [
       "True"
      ]
     },
     "execution_count": 7,
     "metadata": {},
     "output_type": "execute_result"
    }
   ],
   "source": [
    "a = input(\"enter no.\")\n",
    "b = input(\"enter message\")\n",
    "wb.open_new_tab(\"https://api.whatsapp.com/send?phone=\"+a+'&text='+b+'&source=&data=')"
   ]
  },
  {
   "cell_type": "code",
   "execution_count": 11,
   "metadata": {},
   "outputs": [
    {
     "name": "stdout",
     "output_type": "stream",
     "text": [
      "b is a greater number\n"
     ]
    }
   ],
   "source": [
    "a =5\n",
    "b=19\n",
    "if(b>a):\n",
    "    print(\"b is a greater number\")\n",
    "\n",
    "else:\n",
    "    print(\"a is a greater number\")"
   ]
  },
  {
   "cell_type": "code",
   "execution_count": 16,
   "metadata": {},
   "outputs": [],
   "source": [
    "a = 5\n",
    "b = 5\n",
    "if(a!=b):\n",
    "    print(\"Hello High Five\")"
   ]
  },
  {
   "cell_type": "code",
   "execution_count": 18,
   "metadata": {},
   "outputs": [
    {
     "name": "stdout",
     "output_type": "stream",
     "text": [
      "Dam Boy Are You Mad..\n"
     ]
    }
   ],
   "source": [
    "a = 5\n",
    "b = 51\n",
    "if(a==b):\n",
    "    print(\"Hello High Five\")\n",
    "else:\n",
    "    print(\"Dam Boy Are You Mad..\")"
   ]
  },
  {
   "cell_type": "code",
   "execution_count": 19,
   "metadata": {},
   "outputs": [
    {
     "name": "stdout",
     "output_type": "stream",
     "text": [
      "Dam Boy Are You Mad..\n"
     ]
    }
   ],
   "source": [
    "a = 5\n",
    "b = 51\n",
    "if(a>=b):\n",
    "    print(\"Hello High Five\")\n",
    "else:\n",
    "    print(\"Dam Boy Are You Mad..\")"
   ]
  },
  {
   "cell_type": "code",
   "execution_count": 20,
   "metadata": {},
   "outputs": [
    {
     "name": "stdout",
     "output_type": "stream",
     "text": [
      "Hello High Five\n"
     ]
    }
   ],
   "source": [
    "a = 5\n",
    "b = 51\n",
    "if(a<=b):\n",
    "    print(\"Hello High Five\")\n",
    "else:\n",
    "    print(\"Dam Boy Are You Mad..\")"
   ]
  },
  {
   "cell_type": "code",
   "execution_count": 21,
   "metadata": {},
   "outputs": [
    {
     "name": "stdout",
     "output_type": "stream",
     "text": [
      "Hello High Five\n"
     ]
    }
   ],
   "source": [
    "a = 5\n",
    "b = 51\n",
    "if(a<b):\n",
    "    print(\"Hello High Five\")\n",
    "else:\n",
    "    print(\"Dam Boy Are You Mad..\")"
   ]
  },
  {
   "cell_type": "code",
   "execution_count": 27,
   "metadata": {},
   "outputs": [
    {
     "name": "stdout",
     "output_type": "stream",
     "text": [
      "B is a greater Number\n"
     ]
    }
   ],
   "source": [
    "a = 10\n",
    "b = 18\n",
    "c = 15\n",
    "if(a>b):\n",
    "    if(a>c):\n",
    "        print(\"A is a greater Number\")\n",
    "    else:\n",
    "        print(\"c is greater\")\n",
    "elif(b>c):\n",
    "    print(\"B is a greater Number\")\n",
    "else:\n",
    "    print(\"C is a greater Number\")"
   ]
  },
  {
   "cell_type": "code",
   "execution_count": 33,
   "metadata": {},
   "outputs": [
    {
     "name": "stdout",
     "output_type": "stream",
     "text": [
      "B is a greater Number\n"
     ]
    }
   ],
   "source": [
    "a = 10\n",
    "b = 18\n",
    "c = 15\n",
    "if(a>b):\n",
    "    if(a>c):\n",
    "        print(\"A is a greater Number\")\n",
    "    else:\n",
    "        print(\"c is greater\")\n",
    "elif(b>c):\n",
    "         print(\"B is a greater Number\")\n",
    "else:\n",
    "        print(\"C is a greater Number\")"
   ]
  },
  {
   "cell_type": "code",
   "execution_count": 1,
   "metadata": {},
   "outputs": [
    {
     "name": "stdout",
     "output_type": "stream",
     "text": [
      "rose\n"
     ]
    }
   ],
   "source": [
    "a = 1\n",
    "b= 10\n",
    "while(a<=b):\n",
    "    print(\"rose\")\n",
    "    break\n",
    "    a+=1\n",
    "   "
   ]
  },
  {
   "cell_type": "code",
   "execution_count": 2,
   "metadata": {},
   "outputs": [],
   "source": [
    "List = [1,2,3,4,5,6,7,8,9]"
   ]
  },
  {
   "cell_type": "code",
   "execution_count": 3,
   "metadata": {},
   "outputs": [
    {
     "data": {
      "text/plain": [
       "[1, 2, 3, 4, 5, 6, 7, 8, 9]"
      ]
     },
     "execution_count": 3,
     "metadata": {},
     "output_type": "execute_result"
    }
   ],
   "source": [
    "List"
   ]
  },
  {
   "cell_type": "code",
   "execution_count": 7,
   "metadata": {},
   "outputs": [
    {
     "name": "stdout",
     "output_type": "stream",
     "text": [
      "1\n",
      "2\n",
      "3\n",
      "4\n",
      "5\n",
      "6\n",
      "7\n",
      "8\n",
      "9\n"
     ]
    }
   ],
   "source": [
    "for i in List:\n",
    "    print(i)"
   ]
  },
  {
   "cell_type": "code",
   "execution_count": 8,
   "metadata": {},
   "outputs": [],
   "source": [
    "List2 = ['Nizam','Himanshu','Rose','Sawpnil']"
   ]
  },
  {
   "cell_type": "code",
   "execution_count": 9,
   "metadata": {},
   "outputs": [
    {
     "data": {
      "text/plain": [
       "['Nizam', 'Himanshu', 'Rose', 'Sawpnil']"
      ]
     },
     "execution_count": 9,
     "metadata": {},
     "output_type": "execute_result"
    }
   ],
   "source": [
    "List2"
   ]
  },
  {
   "cell_type": "code",
   "execution_count": 10,
   "metadata": {},
   "outputs": [
    {
     "name": "stdout",
     "output_type": "stream",
     "text": [
      "Nizam\n",
      "Himanshu\n",
      "Rose\n",
      "Sawpnil\n"
     ]
    }
   ],
   "source": [
    "for i in List2:\n",
    "    print(i)"
   ]
  },
  {
   "cell_type": "code",
   "execution_count": 20,
   "metadata": {},
   "outputs": [
    {
     "name": "stdout",
     "output_type": "stream",
     "text": [
      "1 Nizam\n",
      "1 Himanshu\n",
      "1 Rose\n",
      "1 Sawpnil\n",
      "2 Nizam\n",
      "2 Himanshu\n",
      "2 Rose\n",
      "2 Sawpnil\n",
      "3 Nizam\n",
      "3 Himanshu\n",
      "3 Rose\n",
      "3 Sawpnil\n",
      "4 Nizam\n",
      "4 Himanshu\n",
      "4 Rose\n",
      "4 Sawpnil\n",
      "5 Nizam\n",
      "5 Himanshu\n",
      "5 Rose\n",
      "5 Sawpnil\n",
      "6 Nizam\n",
      "6 Himanshu\n",
      "6 Rose\n",
      "6 Sawpnil\n",
      "7 Nizam\n",
      "7 Himanshu\n",
      "7 Rose\n",
      "7 Sawpnil\n",
      "8 Nizam\n",
      "8 Himanshu\n",
      "8 Rose\n",
      "8 Sawpnil\n",
      "9 Nizam\n",
      "9 Himanshu\n",
      "9 Rose\n",
      "9 Sawpnil\n"
     ]
    }
   ],
   "source": [
    "\n",
    "for i in List:\n",
    "      for j in List2:\n",
    "            print(i,j)\n",
    "   \n",
    "    "
   ]
  },
  {
   "cell_type": "code",
   "execution_count": 24,
   "metadata": {},
   "outputs": [
    {
     "name": "stdout",
     "output_type": "stream",
     "text": [
      "K 1\n",
      "h 1\n",
      "a 1\n",
      "n 1\n"
     ]
    }
   ],
   "source": [
    "a = 'Khan'\n",
    "b = [1]\n",
    "for i in a:\n",
    "    for j in b:\n",
    "        print(i,j)\n",
    "    "
   ]
  },
  {
   "cell_type": "code",
   "execution_count": 26,
   "metadata": {},
   "outputs": [
    {
     "name": "stdout",
     "output_type": "stream",
     "text": [
      "N\n",
      "i\n",
      "z\n",
      "a\n",
      "m\n"
     ]
    }
   ],
   "source": [
    "for i in 'Nizam':\n",
    "    print(i)"
   ]
  },
  {
   "cell_type": "code",
   "execution_count": 39,
   "metadata": {},
   "outputs": [
    {
     "name": "stdout",
     "output_type": "stream",
     "text": [
      "N\n",
      "i\n",
      "z\n",
      "a\n",
      "m\n",
      "H\n",
      "i\n",
      "m\n",
      "a\n",
      "n\n",
      "s\n",
      "h\n",
      "u\n",
      "R\n",
      "o\n",
      "s\n",
      "e\n",
      "S\n",
      "a\n",
      "w\n",
      "p\n",
      "n\n",
      "i\n",
      "l\n"
     ]
    }
   ],
   "source": [
    "for i in List2:\n",
    "    for j in i:\n",
    "        print(j)"
   ]
  },
  {
   "cell_type": "code",
   "execution_count": 57,
   "metadata": {},
   "outputs": [
    {
     "name": "stdout",
     "output_type": "stream",
     "text": [
      "Nizam\n",
      "Get\n"
     ]
    }
   ],
   "source": [
    "for i in List2:\n",
    "    if(i == 'Nizam'):\n",
    "        print(i)\n",
    "    elif(i=='Swapnil'):\n",
    "        continue\n",
    "    \n",
    "    else:\n",
    "        print(\"Get\")\n",
    "        break\n",
    "        \n",
    "             \n",
    "       \n",
    "        \n",
    "    "
   ]
  },
  {
   "cell_type": "code",
   "execution_count": 63,
   "metadata": {},
   "outputs": [
    {
     "name": "stdout",
     "output_type": "stream",
     "text": [
      "S\n",
      "a\n",
      "w\n",
      "p\n",
      "n\n",
      "i\n",
      "l\n"
     ]
    }
   ],
   "source": [
    "for i in List2:\n",
    "    if(i == 'Sawpnil'):\n",
    "        for k in i:\n",
    "            print(k)\n",
    "            "
   ]
  },
  {
   "cell_type": "code",
   "execution_count": 64,
   "metadata": {},
   "outputs": [
    {
     "name": "stdout",
     "output_type": "stream",
     "text": [
      "S\n"
     ]
    }
   ],
   "source": [
    "for i in List2:\n",
    "    if(i == 'Sawpnil'):\n",
    "        for k in i:\n",
    "            print(k)\n",
    "            break"
   ]
  },
  {
   "cell_type": "code",
   "execution_count": 68,
   "metadata": {},
   "outputs": [],
   "source": [
    "def xyz():\n",
    "    for i in List2:\n",
    "        if(i == 'Sawpnil'):\n",
    "            for k in i:\n",
    "                print(k)\n",
    "            \n",
    "    "
   ]
  },
  {
   "cell_type": "code",
   "execution_count": 69,
   "metadata": {},
   "outputs": [
    {
     "name": "stdout",
     "output_type": "stream",
     "text": [
      "S\n",
      "a\n",
      "w\n",
      "p\n",
      "n\n",
      "i\n",
      "l\n"
     ]
    }
   ],
   "source": [
    "xyz()"
   ]
  },
  {
   "cell_type": "code",
   "execution_count": 77,
   "metadata": {},
   "outputs": [],
   "source": [
    "r = 'Bro'\n",
    "def x(r):\n",
    "    print(\"Hello World \" +r)"
   ]
  },
  {
   "cell_type": "code",
   "execution_count": 84,
   "metadata": {},
   "outputs": [
    {
     "data": {
      "text/plain": [
       "[1, 2, 34, 5]"
      ]
     },
     "execution_count": 84,
     "metadata": {},
     "output_type": "execute_result"
    }
   ],
   "source": [
    "li =[1,2,34,5]\n",
    "li"
   ]
  },
  {
   "cell_type": "code",
   "execution_count": 107,
   "metadata": {},
   "outputs": [],
   "source": [
    "def x(b):\n",
    "    for i in b:\n",
    "        if(i == 2):\n",
    "            print(i)\n",
    "        \n",
    "      \n",
    "                    \n",
    "    "
   ]
  },
  {
   "cell_type": "code",
   "execution_count": 108,
   "metadata": {},
   "outputs": [
    {
     "name": "stdout",
     "output_type": "stream",
     "text": [
      "2\n"
     ]
    }
   ],
   "source": [
    "x(li)"
   ]
  },
  {
   "cell_type": "code",
   "execution_count": 109,
   "metadata": {},
   "outputs": [],
   "source": [
    "def g(f):\n",
    "    return(f)"
   ]
  },
  {
   "cell_type": "code",
   "execution_count": 120,
   "metadata": {},
   "outputs": [
    {
     "data": {
      "text/plain": [
       "[1, 2, 34, 5]"
      ]
     },
     "execution_count": 120,
     "metadata": {},
     "output_type": "execute_result"
    }
   ],
   "source": [
    "g(li) "
   ]
  },
  {
   "cell_type": "code",
   "execution_count": 116,
   "metadata": {},
   "outputs": [
    {
     "name": "stdout",
     "output_type": "stream",
     "text": [
      "10\n",
      "12\n",
      "14\n",
      "16\n",
      "18\n"
     ]
    }
   ],
   "source": [
    "for i in range(10,20,2):\n",
    "                print(i)"
   ]
  },
  {
   "cell_type": "code",
   "execution_count": 117,
   "metadata": {},
   "outputs": [],
   "source": [
    "def x(b):\n",
    "    for i in b:\n",
    "        print(b)\n",
    "        "
   ]
  },
  {
   "cell_type": "code",
   "execution_count": 119,
   "metadata": {},
   "outputs": [
    {
     "name": "stdout",
     "output_type": "stream",
     "text": [
      "[1, 2, 34, 5]\n",
      "[1, 2, 34, 5]\n",
      "[1, 2, 34, 5]\n",
      "[1, 2, 34, 5]\n"
     ]
    },
    {
     "ename": "TypeError",
     "evalue": "unsupported operand type(s) for *: 'NoneType' and 'int'",
     "output_type": "error",
     "traceback": [
      "\u001b[1;31m---------------------------------------------------------------------------\u001b[0m",
      "\u001b[1;31mTypeError\u001b[0m                                 Traceback (most recent call last)",
      "\u001b[1;32m<ipython-input-119-f5d02d7cadf1>\u001b[0m in \u001b[0;36m<module>\u001b[1;34m\u001b[0m\n\u001b[1;32m----> 1\u001b[1;33m \u001b[0mx\u001b[0m\u001b[1;33m(\u001b[0m\u001b[0mli\u001b[0m\u001b[1;33m)\u001b[0m\u001b[1;33m*\u001b[0m\u001b[1;36m10\u001b[0m\u001b[1;33m\u001b[0m\u001b[1;33m\u001b[0m\u001b[0m\n\u001b[0m",
      "\u001b[1;31mTypeError\u001b[0m: unsupported operand type(s) for *: 'NoneType' and 'int'"
     ]
    }
   ],
   "source": [
    "x(li)"
   ]
  },
  {
   "cell_type": "code",
   "execution_count": 3,
   "metadata": {},
   "outputs": [],
   "source": [
    "import xyz                                                                                                                                                                                                                                                                                                                                                                                                                                                                                                                                                                                                                                                                                                                                                                                                                                                                                                                                                                                                                                                                                                                                                                                                                                                                                                                                                                                                                                                                                                                                                                                                                                                                                                                                                                                                                                                                           "
   ]
  },
  {
   "cell_type": "code",
   "execution_count": 4,
   "metadata": {},
   "outputs": [
    {
     "name": "stdout",
     "output_type": "stream",
     "text": [
      "Nizam\n"
     ]
    }
   ],
   "source": [
    "xyz.x('Nizam')"
   ]
  },
  {
   "cell_type": "code",
   "execution_count": 6,
   "metadata": {},
   "outputs": [],
   "source": [
    "import datetime as dt"
   ]
  },
  {
   "cell_type": "code",
   "execution_count": 7,
   "metadata": {},
   "outputs": [
    {
     "data": {
      "text/plain": [
       "datetime.datetime(2019, 6, 27, 15, 56, 37, 138939)"
      ]
     },
     "execution_count": 7,
     "metadata": {},
     "output_type": "execute_result"
    }
   ],
   "source": [
    "dt.datetime.now()"
   ]
  },
  {
   "cell_type": "code",
   "execution_count": 8,
   "metadata": {},
   "outputs": [],
   "source": [
    "x = dt.datetime.now()"
   ]
  },
  {
   "cell_type": "code",
   "execution_count": 10,
   "metadata": {},
   "outputs": [
    {
     "data": {
      "text/plain": [
       "datetime.datetime(2019, 6, 27, 15, 58, 36, 562487)"
      ]
     },
     "execution_count": 10,
     "metadata": {},
     "output_type": "execute_result"
    }
   ],
   "source": [
    "x"
   ]
  },
  {
   "cell_type": "code",
   "execution_count": 11,
   "metadata": {},
   "outputs": [
    {
     "data": {
      "text/plain": [
       "2019"
      ]
     },
     "execution_count": 11,
     "metadata": {},
     "output_type": "execute_result"
    }
   ],
   "source": [
    "x.year"
   ]
  },
  {
   "cell_type": "code",
   "execution_count": 13,
   "metadata": {},
   "outputs": [
    {
     "data": {
      "text/plain": [
       "36"
      ]
     },
     "execution_count": 13,
     "metadata": {},
     "output_type": "execute_result"
    }
   ],
   "source": [
    "x.second"
   ]
  },
  {
   "cell_type": "code",
   "execution_count": 14,
   "metadata": {},
   "outputs": [
    {
     "data": {
      "text/plain": [
       "58"
      ]
     },
     "execution_count": 14,
     "metadata": {},
     "output_type": "execute_result"
    }
   ],
   "source": [
    "x.minute"
   ]
  },
  {
   "cell_type": "code",
   "execution_count": 15,
   "metadata": {},
   "outputs": [],
   "source": [
    "import time"
   ]
  },
  {
   "cell_type": "code",
   "execution_count": 18,
   "metadata": {},
   "outputs": [
    {
     "data": {
      "text/plain": [
       "'Thu Jun 27 16:00:35 2019'"
      ]
     },
     "execution_count": 18,
     "metadata": {},
     "output_type": "execute_result"
    }
   ],
   "source": [
    "time.ctime()"
   ]
  },
  {
   "cell_type": "code",
   "execution_count": 6,
   "metadata": {},
   "outputs": [
    {
     "name": "stdout",
     "output_type": "stream",
     "text": [
      "Try again\n"
     ]
    }
   ],
   "source": [
    "try:\n",
    "    a =7\n",
    "    b= 8\n",
    "    if(a>b):\n",
    "        print(a)\n",
    "except:\n",
    "    print('page not found')\n",
    "finally:\n",
    "    print('Try again')"
   ]
  },
  {
   "cell_type": "code",
   "execution_count": 7,
   "metadata": {},
   "outputs": [],
   "source": [
    "import pyqrcode"
   ]
  },
  {
   "cell_type": "code",
   "execution_count": 8,
   "metadata": {},
   "outputs": [],
   "source": [
    "url = pyqrcode.create('www.goingplaces360.com')"
   ]
  },
  {
   "cell_type": "code",
   "execution_count": 9,
   "metadata": {},
   "outputs": [],
   "source": [
    "url.svg(\"myqr.svg\",scale = 8)"
   ]
  },
  {
   "cell_type": "code",
   "execution_count": 10,
   "metadata": {},
   "outputs": [],
   "source": [
    "import os"
   ]
  },
  {
   "cell_type": "code",
   "execution_count": 11,
   "metadata": {},
   "outputs": [
    {
     "data": {
      "text/plain": [
       "0"
      ]
     },
     "execution_count": 11,
     "metadata": {},
     "output_type": "execute_result"
    }
   ],
   "source": [
    "os.system('mkdir a')"
   ]
  },
  {
   "cell_type": "code",
   "execution_count": 12,
   "metadata": {},
   "outputs": [
    {
     "data": {
      "text/plain": [
       "0"
      ]
     },
     "execution_count": 12,
     "metadata": {},
     "output_type": "execute_result"
    }
   ],
   "source": [
    "os.system('rmdir a')"
   ]
  },
  {
   "cell_type": "code",
   "execution_count": 16,
   "metadata": {},
   "outputs": [],
   "source": [
    "file = open('file.txt', mode = 'a')"
   ]
  },
  {
   "cell_type": "code",
   "execution_count": 20,
   "metadata": {},
   "outputs": [
    {
     "ename": "AttributeError",
     "evalue": "'_io.TextIOWrapper' object has no attribute 'print'",
     "output_type": "error",
     "traceback": [
      "\u001b[1;31m---------------------------------------------------------------------------\u001b[0m",
      "\u001b[1;31mAttributeError\u001b[0m                            Traceback (most recent call last)",
      "\u001b[1;32m<ipython-input-20-23974ec5bc58>\u001b[0m in \u001b[0;36m<module>\u001b[1;34m\u001b[0m\n\u001b[0;32m      1\u001b[0m \u001b[0mfile\u001b[0m \u001b[1;33m=\u001b[0m \u001b[0mopen\u001b[0m\u001b[1;33m(\u001b[0m\u001b[1;34m'file.txt'\u001b[0m\u001b[1;33m,\u001b[0m\u001b[0mmode\u001b[0m \u001b[1;33m=\u001b[0m\u001b[1;34m'w'\u001b[0m\u001b[1;33m)\u001b[0m\u001b[1;33m\u001b[0m\u001b[1;33m\u001b[0m\u001b[0m\n\u001b[0;32m      2\u001b[0m \u001b[0mfile\u001b[0m\u001b[1;33m.\u001b[0m\u001b[0mwrite\u001b[0m\u001b[1;33m(\u001b[0m\u001b[1;34m'Himanshu get the fuck out from hare'\u001b[0m\u001b[1;33m)\u001b[0m\u001b[1;33m\u001b[0m\u001b[1;33m\u001b[0m\u001b[0m\n\u001b[1;32m----> 3\u001b[1;33m \u001b[0mfile\u001b[0m\u001b[1;33m.\u001b[0m\u001b[0mprint\u001b[0m\u001b[1;33m(\u001b[0m\u001b[0mfile\u001b[0m\u001b[1;33m)\u001b[0m\u001b[1;33m\u001b[0m\u001b[1;33m\u001b[0m\u001b[0m\n\u001b[0m",
      "\u001b[1;31mAttributeError\u001b[0m: '_io.TextIOWrapper' object has no attribute 'print'"
     ]
    }
   ],
   "source": [
    "file = open('file.txt',mode ='w')\n",
    "file.write('Himanshu get the fuck out from hare')\n",
    "file.print(file)"
   ]
  },
  {
   "cell_type": "code",
   "execution_count": 22,
   "metadata": {},
   "outputs": [
    {
     "data": {
      "text/plain": [
       "'Himanshu get the fuck out from hare'"
      ]
     },
     "execution_count": 22,
     "metadata": {},
     "output_type": "execute_result"
    }
   ],
   "source": [
    "file = open('file.txt',mode = 'r')\n",
    "file.read()"
   ]
  },
  {
   "cell_type": "code",
   "execution_count": 24,
   "metadata": {},
   "outputs": [],
   "source": [
    "file.close()"
   ]
  },
  {
   "cell_type": "code",
   "execution_count": 25,
   "metadata": {},
   "outputs": [],
   "source": [
    "os.remove('file.txt')"
   ]
  },
  {
   "cell_type": "code",
   "execution_count": 26,
   "metadata": {},
   "outputs": [],
   "source": [
    "import re"
   ]
  },
  {
   "cell_type": "code",
   "execution_count": 32,
   "metadata": {},
   "outputs": [
    {
     "name": "stdout",
     "output_type": "stream",
     "text": [
      "YES! We have a match!\n"
     ]
    }
   ],
   "source": [
    "txt = \"The rain in Spain\"\n",
    "x = re.search(\"^The.*Spain$\", txt)\n",
    "\n",
    "if (x):\n",
    "  print(\"YES! We have a match!\")\n",
    "else:\n",
    "  print(\"No match\")\n"
   ]
  },
  {
   "cell_type": "code",
   "execution_count": 2,
   "metadata": {},
   "outputs": [],
   "source": [
    "list = [1,2,3,4]"
   ]
  },
  {
   "cell_type": "code",
   "execution_count": 1,
   "metadata": {},
   "outputs": [],
   "source": [
    "def func(py):\n",
    "    print(py)"
   ]
  },
  {
   "cell_type": "code",
   "execution_count": 13,
   "metadata": {},
   "outputs": [],
   "source": [
    "a=78\n",
    "b=79\n",
    "def funy(p):\n",
    "    print(p)"
   ]
  },
  {
   "cell_type": "code",
   "execution_count": 5,
   "metadata": {},
   "outputs": [
    {
     "name": "stdout",
     "output_type": "stream",
     "text": [
      "[1, 2, 3, 4]\n"
     ]
    }
   ],
   "source": [
    "func(list)"
   ]
  },
  {
   "cell_type": "code",
   "execution_count": 7,
   "metadata": {},
   "outputs": [
    {
     "name": "stdout",
     "output_type": "stream",
     "text": [
      "135\n"
     ]
    }
   ],
   "source": [
    "func(45+90)"
   ]
  },
  {
   "cell_type": "code",
   "execution_count": 14,
   "metadata": {},
   "outputs": [
    {
     "name": "stdout",
     "output_type": "stream",
     "text": [
      "157\n"
     ]
    }
   ],
   "source": [
    "funy(a+b)"
   ]
  },
  {
   "cell_type": "code",
   "execution_count": 16,
   "metadata": {},
   "outputs": [],
   "source": [
    "import threading"
   ]
  },
  {
   "cell_type": "code",
   "execution_count": 22,
   "metadata": {},
   "outputs": [
    {
     "name": "stdout",
     "output_type": "stream",
     "text": [
      "My name is Khan\n",
      "Himanshu Pagal Lauda hai\n"
     ]
    }
   ],
   "source": [
    "if __name__=='__main__':\n",
    "    t1 = threading.Thread(target = funy,args=('My name is Khan',))\n",
    "    t2 = threading.Thread(target = func,args=('Himanshu Pagal Lauda hai',))\n",
    "    t1.start()\n",
    "    t2.start()\n",
    "    t1.join()\n",
    "    t2.join()"
   ]
  },
  {
   "cell_type": "code",
   "execution_count": 50,
   "metadata": {},
   "outputs": [
    {
     "name": "stdout",
     "output_type": "stream",
     "text": [
      "4\n",
      "7\n",
      "9\n",
      "9\n",
      "Try again\n"
     ]
    }
   ],
   "source": [
    "try:\n",
    "    a =input()\n",
    "    b= input()\n",
    "    c= input()\n",
    "    if(a>b):\n",
    "        print(a)\n",
    "    elif(b>c):\n",
    "        print(b)\n",
    "    else:\n",
    "        print(c)\n",
    "except:\n",
    "    print('page not found')\n",
    "finally:\n",
    "    print('Try again')\n"
   ]
  },
  {
   "cell_type": "code",
   "execution_count": 48,
   "metadata": {},
   "outputs": [],
   "source": [
    "def funo(a):\n",
    "    print(a)\n",
    "    "
   ]
  },
  {
   "cell_type": "code",
   "execution_count": null,
   "metadata": {},
   "outputs": [],
   "source": [
    " if __name__=='__main__':\n",
    "        t1 = threading.Thread(target = tr,args=(a,))\n",
    "        t1.start()\n",
    "        t1.join()"
   ]
  },
  {
   "cell_type": "code",
   "execution_count": 1,
   "metadata": {},
   "outputs": [],
   "source": [
    "from bs4 import BeautifulSoup"
   ]
  },
  {
   "cell_type": "code",
   "execution_count": 3,
   "metadata": {},
   "outputs": [],
   "source": [
    "import requests"
   ]
  },
  {
   "cell_type": "code",
   "execution_count": 4,
   "metadata": {},
   "outputs": [],
   "source": [
    "url = requests.get('http://www.cricbuzz.com')"
   ]
  },
  {
   "cell_type": "code",
   "execution_count": 5,
   "metadata": {},
   "outputs": [
    {
     "name": "stdout",
     "output_type": "stream",
     "text": [
      "<Response [200]>\n"
     ]
    }
   ],
   "source": [
    "print(url)"
   ]
  },
  {
   "cell_type": "code",
   "execution_count": 6,
   "metadata": {},
   "outputs": [
    {
     "data": {
      "text/plain": [
       "'\\r\\n\\r\\n<!DOCTYPE html><html lang=\"en\" itemscope itemtype=\"http://schema.org/WebPage\"><head><meta charset=\"utf-8\"><script>var is_mobile = /symbian|tizen|midp|uc(web|browser)|MSIE (5.0|6.0|7.0|8.0)|tablet/i.test(navigator.userAgent);\\tif(is_mobile && window.location.hostname != \"www1.cricbuzz.com\") window.location.hostname = \"m.cricbuzz.com\";</script><style>body{background:#E3E6E3; font-family: helvetica,\"Segoe UI\",Arial,sans-serif;color:#222;font-size:14px; line-height: 1.5; margin:0;}\\tbody, .cb-comm-pg, .cb-hm-mid {min-height:1000px}\\t.container{width:980px;margin:0 auto;}\\t.page{max-width: 980px;margin: 0 auto;position: relative;}\\t.cb-col-8 {width:8%;}\\t.cb-col-10 {width:10%;}\\t.cb-col-14 {width:14%;}\\t.cb-col-16 {width:16%;}\\t.cb-col-20 {width:20%;}\\t.cb-col-25 {width:25%;}\\t.cb-col-27 {width:27%;}\\t.cb-col-33 {width:33%;}\\t.cb-col-40 {width:40%;}\\t.cb-col-46 {width:46%;}\\t.cb-col-47 {width:47%;}\\t.cb-col-50 {width:50%;}\\t.cb-col-60 {width:60%;}\\t.cb-col-66 {width:66%;}\\t.cb-col-67 {width:67%;}\\t.cb-col-73 {width:73%;}\\t.cb-col-75 {width:75%;}\\t.cb-col-84 {width:84%;}\\t.cb-col-80 {width:80%;}\\t.cb-col-90{width:90%;}\\t.cb-col-100 {width:100%;}\\t.cb-col {display: inline-block;box-sizing: border-box;float: left; min-height: 1px;}\\th1 {font-size: 36px;line-height: 42px; margin:0;}\\th2 {font-size: 24px; margin:0; line-height: 30px;}\\th3 {font-size: 18px;line-height: 24px; margin:0; }\\th4 {font-size: 16px; margin:0; }\\th5 {font-size: 14px; margin: 0;}\\t.cb-font-18 {font-size:18px;}\\timg{border-radius: 4px;}\\ta {text-decoration: none; color:#222;}\\ta, a:hover, a:active, a:focus {outline: medium none;}\\t.text-center {text-align: center;}\\t.cb-nws-lft-col{padding:15px 20px;}\\t.cb-nws-dtl-lft-col {padding: 10px 30px 0 30px;border-right: 1px solid #ecebeb ;}\\t.cb-nws-lst-rt{padding-left: 10px;}\\t.cb-srs-lst-itm {padding: 10px 0;}\\t.cb-lst-itm-sm{padding:10px 0 5px;}\\t.cb-scrd-lft-col{padding:15px 10px;} .cb-col-rt{padding: 10px;}\\t.text-white{color: #fff;}\\t.cb-scrd-hdr-rw, .cb-nav-pill-1.active {background: #028062 ;color: #fff;}\\t.cb-nav{position:relative; height:48px;background: #009270;}\\t.cb-hm-mnu-itm{padding: 16px 6px 11px; color:#fff; display:inline-block;}\\t.cb-hm-text{padding:10px 18px 10px 20px;}\\t.cb-hm-rght{padding: 15px;}\\t.cb-subnav .cb-sub-navigation {display: none; position: absolute;}\\t.cb-mat-mnu{background:#4a4a4a; width:980px; font-size: 0;}\\t.cb-mat-mnu-itm{font-size:12px; color:#fff; padding:10px; cursor: pointer; display:inline-block; max-width: 140px;}\\t.cb-mat-mnu-ttl{background: #333; padding: 10px 20px;}\\t.cb-mat-mnu-wrp{margin-bottom: 10px;}\\t.cb-ovr-flo{overflow: hidden; white-space: nowrap; text-overflow: ellipsis;}\\t.cb-mat-mnu-all{text-align: center; float: right; width:60px;}\\t.cb-nav-main{border-bottom:1px solid #e3e6e3;padding:0 0 5px 20px;}\\t.cb-nav-bar{padding-top:10px;clear:both;}\\t.cb-lst-itm, .cb-bg-white{background: #fff;}\\t.cb-nav-tab.active, .cb-nav-tab-hm.active{ font-weight: bold; color: #028062;}\\t.cb-nav-tab.active {border-bottom: 3px solid #028062; line-height: 24px; }\\t.cb-nav-tab-hm.active{ border-bottom:2px solid #028062; line-height: 22px;}\\t.cb-nav-tab{margin-right:20px;padding-bottom:6px;}\\t.cb-nav-tab-hm{margin-right:15px;padding-bottom:6px;}\\t.cb-nav-hdr{padding-top:15px}\\t.cb-nav-subhdr{padding:5px 0 10px 0;}\\t.cb-lv-scr-mtch-hdr{line-height: 21px;font-size: 16px;}\\t.disp-none{display:none;}\\t.disp-blck{display:block;}\\t.cb-font-24{font-size: 24px;}\\t.line-ht30{line-height: 30px;}\\t.line-ht24{line-height: 24px;}\\t.cb-hm-scg-blk{background: #fff; margin-bottom: 5px; height:90px;}\\t.mrgn-btm-5{margin-bottom : 5px;}\\t#scagTabContent .show{display: block; visibility: visible;}\\t#scagTabContent .hide{display: none; visibility: hidden;}\\t[ng\\\\:cloak], [ng-cloak], [data-ng-cloak], [x-ng-cloak], .ng-cloak, .x-ng-cloak { display: none !important;}\\t.cb-hm-lft{margin-bottom:5px;padding:0 15px;}\\t.cb-hm-lft-hdr{margin:0; padding:15px 15px 0; color: #009270;} .cb-hm-mid {border-left: 5px solid #e3e6e3 ;border-right: 5px solid #e3e6e3 ;padding: 0 15px;} .cb-mtch-blk {border-right: 1px solid #ecebeb ;line-height: 1.4;margin: 15px 0;padding: 0 20px;}\\t.crd-cntxt{font-size: 12px; color:#666; padding-bottom: 10px;}\\t.big-crd-main{border-top: 1px solid #ecebeb;padding:15px 0 5px; margin-bottom: 1px;clear: both;} .big-crd-reltd-itm {margin: 0 0 10px; width:100%; display: inline-block;}\\t.cb-nws-time{font-size:12px; padding-bottom: 5px;}\\t.cb-nws-hdln-ancr{padding-bottom: 5px;}\\t.cb-hmscg-bwl-txt, .cb-hmscg-bat-txt{font-weight:bold; padding-bottom:4px; height:18px;}\\t.cb-hmscg-bwl-txt{color:#666;}\\t.sml-crd-main{padding: 15px 0 5px; width: 100%;}\\t.big-crd-hdln{margin: 10px 0;}\\t.big-crd-rltd-txt {font-weight: bold; margin:10px 0; color:#1866DB;} .cb-nws-intr {color: #666;padding-bottom: 5px;} .cb-lv-scrs-well {background: #f5f5f5 ;display: inline-block;margin: 10px 0;padding: 10px 5px;}\\t.cb-hm-mtch-crd-width{min-width:300px;}\\t.cb-mr-30{margin-right: 30px;} .cb-schdl-hdr {margin: 0;padding: 15px 0 10px 10px;} .cb-lst-itm-lg {padding: 20px 0;} .cb-left-pad {padding: 20px 10px 0;}\\t.cb-nav-pill-1 {background: #CFE0DB;border-radius: 20px;color: #222;cursor: pointer;margin-right: 15px;padding: 5px 20px;} .cb-mtch-lst {padding: 15px 0;}\\t.cb-nws-min-cntr{padding: 10px; background: #f5f5f5; color:#333; margin:10px 0 15px;}\\t.sml-crd-subtxt{margin:0 10px 10px;}\\t/*-------------------------Live Pages -----------------------*/\\t.cb-scrcrd-status{padding:0 0 10px 10px;}\\t.cb-scrd-hdr-rw{padding:8px 10px;}\\t.cb-bg-gray{background: #ecebeb;}\\t.cb-lv-grn-strip{background: #ecebeb;}\\t.cb-min-hdr-rw, .cb-scrd-sub-hdr{padding: 4px 10px; font-size: 12px; color: #666;}\\t.cb-scrd-itms{padding: 4px 10px; font-size: 13px;}\\t.cb-text-link {color: #1866DB;}\\t.text-bold{font-weight: bold;}\\t.text-normal{font-weight: normal;}\\t.cb-mat-fct-itm{padding: 5px 0;}\\t.cb-min-bat-rw{padding-bottom: 5px;}\\t.cb-nws-sub-txt, .cb-nws-sub-txt, .cb-font-12{font-size:12px;}\\t.cb-font-16{font-size:16px;}\\t.cb-font-20{font-size:20px;}\\t.cb-min-inf{padding-top:10px; margin-left: -10px; display: inline-block;}\\t.cb-min-itm-rw{padding:5px 10px 0;}\\t.text-right{text-align:right;}\\t.cb-key-st-lst{padding: 10px 0 0 5px; }\\t.cb-min-prw-time{padding:20px 0 0;}\\t.cb-toss-sts{padding: 10px 0 30px;}\\t.cb-min-rcnt{padding: 7px 10px; margin: 0 -10px 0;}\\t.cb-key-lst-wrp{border: 1px solid #ecebeb; padding-bottom: 15px; margin-right: -10px;}\\t.cb-min-tm{font-size: 18px; font-weight: bold;}\\t.cb-min-stts{padding: 20px 0;}\\t.cb-mom-itm{padding: 0 0 10px;}\\t.cb-lv-grn-strip {padding: 10px 10px 5px;}\\t.cb-ovr-num{padding-top:2px;}\\t.cb-min-pad{padding-left: 5px;}\\t/*Upcoming Series*/\\t.cb-mnth{margin-top: 10px; padding: 0 10px;}\\t.cb-sch-lst-itm {padding:10px 0; margin-left: 20px;border-bottom: 1px solid #ecebeb;}\\t/*Matches By Day*/\\t.cb-mtchs-dy{padding:20px 20px 20px 10px ;}\\t.cb-mtchs-dy-tm,.cb-mtchs-dy-vnu{padding:20px 20px 20px 0px;}\\t/*Schedule Teams*/\\t.cb-lv-upcom-strip{padding: 5px 10px;background: #ecebeb;}\\t/*Archives*/\\t.cb-srs-cat{padding:10px; color:#028062; }\\t.pad-left{padding-left:30px;}\\t.cb-arcv-yr{font-size:20px; padding: 0 0 5px 10px;font-weight: bold}\\t.cb-yr-tmline{padding: 2px 15px 15px 0;}\\t.cb-sch-tms-widgt{padding: 5px 10px; margin:5px 2px 2px 2px; background: #f5f5f5; border-radius: 0; border:0; display: inline-block;}\\t/*Photos*/\\t.cb-thmb-dark {background: #333333; box-shadow:none; border-radius:4px; border:none; padding:0;color:#CCC;}\\t.cb-pht-main {padding:20px 15px;margin: 0 -10px;}\\t.cb-pht-block{padding:9px;float:left;height:280px;box-sizing: border-box;} .cb-gallery-pht-block{padding: 9px 9px 9px 16px;}\\t.img-responsive{height:auto; max-width:100%;}\\t.center-block{margin-right: auto;margin-left: auto;}\\t.cb-schdl{padding:0 10px;line-height: 1.5;}\\t.cb-caret-up, .cb-caret-down{display: inline-block; width: 0; height: 0; margin-left: 4px; margin-bottom: 1px; border-right: 4px solid transparent; border-left: 4px solid transparent;}\\t.cb-caret-up{border-bottom: 4px solid;}\\t.cb-caret-down{border-top: 4px solid;}\\t.cb-hm-rt-itm{margin: 0 0 5px; padding: 10px 10px 5px;}\\t.cb-hmscg-tm-nm{display:inline-block; width: 60px;}\\t.pull-right,.cb-all-mtch-tab{float:right;}\\t.cb-skin-ads-close{display: none;}\\t.cb-nws-sub-txt{padding-top:10px;}\\t.nws-dtl-hdln{margin-top:10px;}\\t.cb-min-lv{min-height:270px}\\t.cb-min-comp{min-height:150px;}\\t.cb-ttl-vts{margin-top:20px;}\\t.cb-poll-radio{width: 5%;margin:4px 10px 0 0;}\\t.cb-mini-tim{padding-bottom:20px;}\\t.cb-com-ln{margin: 0 0 10px; line-height: 24px;}\\t.cb-comm-static{min-height:31px; margin: 0 -10px 10px;}\\t.cb-com-ovr-sum-ad{min-height: 31px;}\\t.cb-comm-static-anchr{margin:5px 10px; display: block;}\\t.ad-unit-rendered{margin-bottom: 5px;}\\t.cb-mm-wrp { max-height: 0px; -webkit-transition: max-height 0.35s ease; transition: max-height 0.35s ease; overflow: hidden; }\\t.cb-mm-wrp.down { max-height: 1000px; transition: max-height 0.75s ease; -webkit-transition: max-height 0.75s ease; overflow: hidden;} .cb-srs-hstry-dtl {padding:10px 15px;margin-top:20px; border-radius: 4px;}\\t.cb-qck-lnk{margin-bottom: 5px; padding:10px 15px;}\\t.cb-qck-hdr{padding-right: 15px; border-right: 1px solid #ecebeb ;}\\t.cb-qck-ancr{margin-left: 15px;}\\t.cb-lst-vid-rw{padding-bottom: 0; height: 64px; border: 1px solid #ecebeb; margin-right: -10px;}\\t.cb-auth-img{border-radius: 100%;}\\t.cb-expt-athr{vertical-align: top; padding: 5px 0 0 0; display: inline-block; font-size: 16px}\\t.inline-block{display: inline-block;}\\t.cb-exprt-athr-hdr{text-align: right;font-size: 42px;font-family: bodani; color: #fff;padding-right: 15px;line-height:44px;text-transform:uppercase;}\\t.cb-exprt-athr-hdr-tag{text-align: right;font-size: 24px;font-family: bodani; color: #fff;padding-right: 15px;font-style:italic;}\\t.cb-athr-wgt-wrp{border:1px solid #ecebeb; padding:15px; margin-bottom:20px;background:#f5f5f5;}\\t.cb-exprt-athr-hdr-img{background: url(\"/images/harsha-banner.jpg\") no-repeat scroll; height:80px;}\\t.cb-overflow-hidden{overflow: hidden;}\\t/*Videos*/\\t.cb-vid-sm-ply-api {color: #fff;line-height: 34px;font-size: 18px;margin-left: 3px;}\\t.cb-vid-sml-card-api {margin-top: 10px;height: auto;padding: 0 12px 0 11px;}\\t.cb-cat-head-wrap {padding: 0 12px 0 11px;}\\t.cb-cat-head-text {margin-top: 5px;line-height: 20px;}\\t.cb-more-btn {padding: 8px 20px;border-radius: 2px;color: #fff;background: #009270;border: 0;cursor: pointer;}\\t.cb-cat-head-link {float: right;padding: 5px 25px;margin-top: 10px;border-radius: 4px;}\\t.cb-pos-rel{position: relative;}\\t.cb-videos-cat {border-bottom: 1px solid #ecebeb;padding: 10px 3px 15px 4px;}\\t.cb-cat-head-text-wrap {float: left;}\\t.cb-cat-head-count {margin: 0;color: #666;}\\th2.cb-cat-head-text{font-size : 18px}\\t.cb-vid-sml-card-api-head {font-size: 14px;font-weight: bold;line-height: 18px;max-height: 55px;margin: 2px 0 5px;overflow: hidden;}\\t.cb-cen {position: absolute;top: 50%;left: 50%;opacity: .8;transform: translateX(-50%) translateY(-50%);-webkit-transform: translateX(-50%) translateY(-50%);-moz-transform: translateX(-50%) translateY(-50%);-ms-transform: translateX(-50%) translateY(-50%);-o-transform: translateX(-50%) translateY(-50%);background: #222;text-align: center;height: 35px;width: 35px;border-radius: 50px;}\\t.cb-cen:hover{opacity: 1;}\\t.padding-handling-errors{padding: 20px 0px 10px 15px;border-bottom: 1px solid #ecebeb;}\\t.cb-col .cb-align-cen{float: none; text-align: center; padding: 7px 25px; margin-top: 20px;}\\t.cb-align-cen{padding-top: 10px;}\\t.cb-hot-cat{max-width: 90px; text-align: center; padding-right: 0;}\\t.cb-hot-cat-img{width: 72px;}\\t.cb-vid-slider-arrs{position: absolute; top: 52px; left: 0; right: 0; z-index: 5;}\\t.cb-vid-slider-arr{position: absolute; z-index: 5; height: 43px; width: 43px; border-radius: 50%; cursor: pointer;}\\t.cb-vid-slider-arr-prev{display: none; left: 0;}\\t.cb-vid-slider-arr-next{right: 0;}\\t.videos-list-carousal{overflow: hidden; position: relative; height: 220px;}\\t.videos-carousal-wrapper{float: none; list-style: none; padding: 0; margin: 0; transition: all 0.3s ease; display: flex; flex-direction: row; position: absolute; left: 0;}\\t.videos-carousal-item{min-width: 25%; justify-content: center; align-items: center;}\\t.cb-vid-more{float: right; color: #2C3E9A; font-size: 18px;}\\t.cb-vid-more:hover{text-decoration: underline;}\\t.cat-vid-carousal{height: 135px !important;}\\t.cat-vid-carousal .videos-carousal-item{min-width: auto;}\\t.cat-vid-carousal .cb-vid-slider-arrs{top: 24px;}\\t.cb-srs-sqd-box{min-height: 700px; background: #fff;}\\t.cb-float-none{float: none;}\\t.cb-margin-top-10{margin-top: 10px;}\\t.cb-schdl-nvtb {margin: 0 0 10px 0;padding: 10px;}\\t.cb-carousal-item-small {padding: 0 0 0 16px;}\\t.cb-carousal-item-small:first-child {padding-left: 11px;}\\t.cb-carousal-item-large {padding: 0 11px;}\\t.cb-carousal-item-small .cb-vid-txt-wrp{font-size: 12px;}\\t.cb-hot-cat .cb-vid-txt-wrp{display: -webkit-box; -webkit-box-orient: vertical; -webkit-line-clamp: 2; overflow: hidden; max-height: 40px;}\\t/*Rankings*/\\t.cb-ranking-nav.active{line-height: 21px}\\t.cb-rank-plyr{padding-left:15px}\\t.text-left{text-align:left;}\\t.cb-rank-tabs{padding-left: 10px;}\\t.cb-plyr-tbody{padding:5px 0;}\\t.cb-padding-left0{padding-left: 0;}\\t.cb-rank-hdr{margin-top: 15px; padding: 5px 0;}\\t.cb-bg-grey{background: #f5f5f5;}\\t/*Players*/\\t.cb-player-name-wrap{padding-top: 90px;}\\t.cb-plyr-tbl{margin-top: 30px}\\t.cb-font-40{font-size:40px;}\\t/*Teams*/\\t.cb-cursor-pointer{cursor: pointer;}\\t.cb-team-stats-btn{margin-top: 21px;}\\t.cb-upper-text{text-transform: capitalize;}</style><script>function getCookie(c_name){\\tvar i,x,y,ARRcookies=document.cookie.split(\";\");\\tfor (i=0;i<ARRcookies.length;i++){\\tx=ARRcookies[i].substr(0,ARRcookies[i].indexOf(\"=\"));\\ty=ARRcookies[i].substr(ARRcookies[i].indexOf(\"=\")+1);\\tx=x.replace(/^\\\\s+|\\\\s+$/g,\"\");\\tif (x==c_name){\\treturn unescape(y);\\t}\\t}\\t}\\tvar cbads_value = getCookie(\"cbzads\");\\tif(cbads_value != null && cbads_value.indexOf(\\'IN|AS\\') >= 0){\\tdocument.write(\"<style>.cb-geo-in-50{height:50px}</style>\")\\t}\\t/*polifill for remove function*/\\tif (!(\\'remove\\' in Element.prototype)) {\\tElement.prototype[\\'remove\\'] = function () {\\tif (this.parentNode) {\\tthis.parentNode.removeChild(this);\\t}\\t};\\t}</script><meta http-equiv=\"X-UA-Compatible\" content=\"IE=edge\" /><meta name=\"author\" content=\"\"><link rel=\"shortcut icon\" type=\"image/x-icon\" href=\"/images/cric_ball.ico\" /><meta name=\"google-signin-client_id\" content=\"125255339112-d594jen12o0j854sufu8jfn2gbbnaskj.apps.googleusercontent.com\"><LINK REL=\"apple-touch-icon\" href=\"/images/apple-touch-icon.png\" /> <title itemprop=\"name\">World Cup 2019, Cricket Score, Schedule, Latest News, Stats & Videos | Cricbuzz.com</title><meta name=\"description\" itemprop=\"description\" content=\"Get Live Cricket Score, Scorecard, Schedules of International, Domestic and World Cup matches along with Latest News, Videos and ICC Cricket Rankings of Players on Cricbuzz.\"><link rel=\"alternate\" href=\"android-app://com.cricbuzz.android/http/www.cricbuzz.com/\"><link rel=\"alternate\" href=\"//m.cricbuzz.com/\" media=\"only screen and (max-width: 640px)\"><meta name=\"robots\" content=\"index, follow\"><meta name=\"googlebot\" content=\"index, follow\"><meta name=\"google-site-verification\" content=\"google89fd37b1258ef4b9.html\"><meta name=\"p:domain_verify\" content=\"fd560568b43f31382de30f628c8430bd\"><meta name=\"msvalidate.01\" content=\"A509FA8BAE50018F9DF2553AEDEDF77B\"> <meta property=\"og:title\" content=\"World Cup 2019, Cricket Score, Schedule, Latest News, Stats &amp; Videos\"><meta property=\"og:description\" content=\"Get Live Cricket Score, Scorecard, Schedules of International, Domestic and World Cup matches along with Latest News, Videos and ICC Cricket Rankings of Players on Cricbuzz.\"><meta property=\"og:image\" content=\"http://www.cricbuzz.com\"><meta property=\"og:image:secure_url\" content=\"https://www.cricbuzz.com\"><meta property=\"fb:app_id\" content=\"30119633160\"><meta property=\"og:site_name\" content=\"Cricbuzz\"> <meta property=\"twitter:title\" content=\"World Cup 2019, Cricket Score, Schedule, Latest News, Stats &amp; Videos\"><meta property=\"twitter:description\" content=\"Get Live Cricket Score, Scorecard, Schedules of International, Domestic and World Cup matches along with Latest News, Videos and ICC Cricket Rankings of Players on Cricbuzz.\"><meta property=\"twitter:image\" content=\"https://www.cricbuzz.com\"><meta name=\"twitter:site\" content=\"@cricbuzz\"><meta name=\"twitter:domain\" content=\"cricbuzz.com\"><meta name=\"twitter:app:name:iphone\" content=\"Cricbuzz\"><meta name=\"twitter:app:id:iphone\" content=\"360466413\"><meta name=\"twitter:app:name:googleplay\" content=\"Cricbuzz\"><meta name=\"twitter:app:id:googleplay\" content=\"com.cricbuzz.android\"><meta name=\"twitter:widgets:csp\" content=\"on\"><meta property=\"fb:pages\" content=\"178697151159\" /><meta name=\"keywords\" content=\"\"><meta name=\"news_keywords\" content=\"\"><link rel=\"canonical\" href=\"https://www.cricbuzz.com\"><meta name=\"msapplication-config\" content=\"none\"/><script>var PAGE_NAME = \"cb-homepage\";\\tvar PAGE_TARGETS = {};\\tvar CBQueue = CBQueue || [];\\tvar CBQueueOnLoad = CBQueueOnLoad || [];\\t/*CBQueue.push(function(){roadblock(2,{country:[\"US\",\"CA\", \"ZA\", \"AU\"], continent:[\"EU\"]});});*/\\tCBQueue.push(function(){roadblock(2,{country:[\"US\"]});});\\t_udn = \"cricbuzz.com\";</script><script>(function(w){\\t\"use strict\";\\tvar loadCSS = function( href, before, media ){\\tvar doc = w.document;\\tvar ss = doc.createElement( \"link\" );\\tvar ref;\\tif( before ){\\tref = before;\\t}\\telse {\\tvar refs = ( doc.body || doc.getElementsByTagName( \"head\" )[ 0 ] ).childNodes;\\tref = refs[ refs.length - 1];\\t}\\tvar sheets = doc.styleSheets;\\tss.rel = \"stylesheet\";\\tss.href = href;\\tss.media = \"only x\";\\tref.parentNode.insertBefore( ss, ( before ? ref : ref.nextSibling ) );\\tvar onloadcssdefined = function( cb ){\\tvar resolvedHref = ss.href;\\tvar i = sheets.length;\\twhile( i-- ){\\tif( sheets[ i ].href === resolvedHref ){\\treturn cb();\\t}\\t}\\tsetTimeout(function() {\\tonloadcssdefined( cb );\\t});\\t};\\tss.onloadcssdefined = onloadcssdefined;\\tonloadcssdefined(function() {\\tss.media = media || \"all\";\\t});\\treturn ss;\\t};\\tif( typeof module !== \"undefined\" ){\\tmodule.exports = loadCSS;\\t}\\telse {\\tw.loadCSS = loadCSS;\\t}\\t}( typeof global !== \"undefined\" ? global : this ));\\tloadCSS( \"/dist/css/cricbuzz.min.6501.css\" );</script><noscript><link rel=\"stylesheet\" type=\"text/css\" href=\"/dist/css/cricbuzz.min.6501.css\"></noscript></head><body><a href=\"https://plus.google.com/104502282508811467249\" rel=\"publisher\"></a><a id=\"ad-skin\" target=\"_blank\" href=\"Javascript:void(0)\" class=\"cb-skin-ads-link cb-skin-ads-link-fixed ad-skin\"></a><a href=\"Javascript:void(0)\" class=\"cb-skin-ads-close cb-font-18 ad-skin-close\" style=\"position:fixed; z-index:1001; color:#FFF; background:#000; padding:2px 5px; right:2px;\">&#x2716;</a><header id=\"top\" style=\"z-index: 1000;position: relative;padding-top:10px;width:980px;margin:0 auto;\" itemscope itemtype=\"http://schema.org/WPHeader\"><div class=\"container\"><div id=\"leaderboard\" class=\"ad-unit text-center center-block\" style=\"min-height:90px;margin-bottom:10px;\"></div><div id=\"countdown\" class=\"ad-unit\" style=\"margin:-10px 15px 0px;float:right;position:absolute;\"></div><div class=\"toi-branding toi-referral\"></div><nav class=\"cb-nav cb-col cb-col-100\" id=\"cb-main-menu\"><a href=\"/\" target=\"_self\" class=\"cb-hm-text\"><img itemprop=\"image\" height=\"30\" width=\"101\" style=\"bottom: -4px; position: relative;\" alt=\"Cricbuzz Logo\" title=\"Cricbuzz Logo\" src=\"/images/cbz-logo.png\"></a><a class=\"cb-hm-mnu-itm\" target=\"_self\" href=\"/cricket-match/live-scores\" title=\"Live Cricket Score\">Live Scores</a><a class=\"cb-hm-mnu-itm\" target=\"_self\" href=\"/cricket-schedule/upcoming-series/international\" title=\"Cricket Schedule\">Schedule</a><a class=\"cb-hm-mnu-itm\" target=\"_self\" href=\"/cricket-scorecard-archives\" title=\"Cricket Scorecard Archives\">Archives</a><div class=\"cb-subnav cb-hm-mnu-itm feature-button cursor-pointer\" id=\"newsDropDown\"><a class=\"text-white\" target=\"_self\" href=\"/cricket-news\" >News</a><span class =\"cb-caret-down\"></span><nav class=\"cb-sub-navigation\"><a class=\"cb-subnav-item\" target=\"_self\" href=\"/cricket-news\" title=\"Latest Cricket News\">All Stories</a><a class=\"cb-subnav-item\" target=\"_self\" href=\"/cricket-news/latest-news\" title=\"Latest Cricket News\">Latest News</a><a class=\"cb-subnav-item\" target=\"_self\" href=\"/cricket-news/info/\" title=\"Latest Cricket Topics\">Topics</a><a class=\"cb-subnav-item\" target=\"_self\" href=\"/cricket-news/editorial/spotlight\" title=\"Cricket Editorials and Specials\">Spotlight</a><a class=\"cb-subnav-item\" target=\"_self\" href=\"/cricket-news/editorial/editorial-list\" title=\"Latest Cricket Opinions & Editorials\">Opinions</a><a class=\"cb-subnav-item\" target=\"_self\" href=\"/cricket-news/editorial/specials\" title=\"Latest Cricket Specials\">Specials</a><a class=\"cb-subnav-item\" target=\"_self\" href=\"/cricket-news/editorial/stats-analysis\" title=\"Latest Cricket Stats & Analysis\">Stats & Analysis</a><a class=\"cb-subnav-item\" target=\"_self\" href=\"/cricket-news/editorial/interviews\" title=\"Latest Cricket Player Interviews\">Interviews</a><a class=\"cb-subnav-item\" target=\"_self\" href=\"/cricket-news/editorial/live-blogs\" title=\"Latest Cricket Match live blogs\">Live Blogs</a><a class=\"cb-subnav-item\" target=\"_self\" href=\"/cricket-news/experts/harsha-bhogle/170\" title=\"Articles and Videos by Harsha Bhogle\">Harsha Bhogle</a></nav></div><div class=\"cb-subnav cb-hm-mnu-itm feature-button cursor-pointer\" id=\"seriesDropDown\"><a class=\"text-white\" target=\"_self\" href=\"/cricket-schedule/series\" >Series</a><span class =\"cb-caret-down\"></span><nav class=\"cb-sub-navigation\"><a class=\"cb-subnav-item\" target=\"_self\" href=\"/cricket-series/2697/icc-cricket-world-cup-2019\" title=\"ICC Cricket World Cup 2019\">ICC Cricket World Cup 2019</a><a class=\"cb-subnav-item\" target=\"_self\" href=\"/cricket-series/2818/zimbabwe-tour-of-netherlands-2019\" title=\"Zimbabwe tour of Netherlands, 2019\">Zimbabwe tour of Netherlands, 2019</a><a class=\"cb-subnav-item\" target=\"_self\" href=\"/cricket-series/2844/malaysia-tri-series-2019\" title=\"Malaysia Tri-Series 2019\">Malaysia Tri-Series 2019</a><a class=\"cb-subnav-item\" target=\"_self\" href=\"/cricket-series/2793/zimbabwe-tour-of-ireland-2019\" title=\"Zimbabwe tour of Ireland, 2019\">Zimbabwe tour of Ireland, 2019</a><a class=\"cb-subnav-item\" target=\"_self\" href=\"/cricket-series/2777/west-indies-women-tour-of-england-2019\" title=\"West Indies Women tour of England, 2019\">West Indies Women tour of England, 2019</a><a class=\"cb-subnav-item\" target=\"_self\" href=\"/cricket-series/2780/county-championship-division-one-2019\" title=\"County Championship Division One 2019\">County Championship Division One 2019</a></nav></div><div class=\"cb-subnav cb-hm-mnu-itm feature-button cursor-pointer\" id=\"teamDropDown\"><a class=\"text-white\" target=\"_self\" href=\"/cricket-team\" >Teams</a><span class =\"cb-caret-down\"></span><nav class=\"cb-sub-navigation cb-sub-lg\"> <div class=\"cb-sub-lg-outer\"> <div class=\"cb-sub-lg-sec\"> <h4 class=\"cb-sub-lg-sec-head\">Test Teams</h4> <a class=\"cb-subnav-item cb-sub-lg-sec-item\" target=\"_self\" href=\"/cricket-team/india/2\" title=\"India Cricket Team\">India</a> <a class=\"cb-subnav-item cb-sub-lg-sec-item\" target=\"_self\" href=\"/cricket-team/pakistan/3\" title=\"Pakistan Cricket Team\">Pakistan</a> <a class=\"cb-subnav-item cb-sub-lg-sec-item\" target=\"_self\" href=\"/cricket-team/australia/4\" title=\"Australia Cricket Team\">Australia</a> <a class=\"cb-subnav-item cb-sub-lg-sec-item\" target=\"_self\" href=\"/cricket-team/sri-lanka/5\" title=\"Sri Lanka Cricket Team\">Sri Lanka</a> <a class=\"cb-subnav-item cb-sub-lg-sec-item\" target=\"_self\" href=\"/cricket-team/bangladesh/6\" title=\"Bangladesh Cricket Team\">Bangladesh</a> <a class=\"cb-subnav-item cb-sub-lg-sec-item\" target=\"_self\" href=\"/cricket-team/england/9\" title=\"England Cricket Team\">England</a> <a class=\"cb-subnav-item cb-sub-lg-sec-item\" target=\"_self\" href=\"/cricket-team/west-indies/10\" title=\"West Indies Cricket Team\">West Indies</a> <a class=\"cb-subnav-item cb-sub-lg-sec-item\" target=\"_self\" href=\"/cricket-team/south-africa/11\" title=\"South Africa Cricket Team\">South Africa</a> <a class=\"cb-subnav-item cb-sub-lg-sec-item\" target=\"_self\" href=\"/cricket-team/zimbabwe/12\" title=\"Zimbabwe Cricket Team\">Zimbabwe</a> <a class=\"cb-subnav-item cb-sub-lg-sec-item\" target=\"_self\" href=\"/cricket-team/new-zealand/13\" title=\"New Zealand Cricket Team\">New Zealand</a> <a class=\"cb-subnav-item cb-sub-lg-sec-item\" target=\"_self\" href=\"/cricket-team/ireland/27\" title=\"Ireland Cricket Team\">Ireland</a> <a class=\"cb-subnav-item cb-sub-lg-sec-item\" target=\"_self\" href=\"/cricket-team/afghanistan/96\" title=\"Afghanistan Cricket Team\">Afghanistan</a> </div> <div class=\"cb-sub-lg-sec\"> <h4 class=\"cb-sub-lg-sec-head\">Associate</h4> <a class=\"cb-subnav-item cb-sub-lg-sec-item\" target=\"_self\" href=\"/cricket-team/united-arab-emirates/7\" title=\"United Arab Emirates Cricket Team\">United Arab Emirates</a> <a class=\"cb-subnav-item cb-sub-lg-sec-item\" target=\"_self\" href=\"/cricket-team/hong-kong/8\" title=\"Hong Kong Cricket Team\">Hong Kong</a> <a class=\"cb-subnav-item cb-sub-lg-sec-item\" target=\"_self\" href=\"/cricket-team/kenya/14\" title=\"Kenya Cricket Team\">Kenya</a> <a class=\"cb-subnav-item cb-sub-lg-sec-item\" target=\"_self\" href=\"/cricket-team/united-states/15\" title=\"United States Cricket Team\">United States</a> <a class=\"cb-subnav-item cb-sub-lg-sec-item\" target=\"_self\" href=\"/cricket-team/scotland/23\" title=\"Scotland Cricket Team\">Scotland</a> <a class=\"cb-subnav-item cb-sub-lg-sec-item\" target=\"_self\" href=\"/cricket-team/netherlands/24\" title=\"Netherlands Cricket Team\">Netherlands</a> <a class=\"cb-subnav-item cb-sub-lg-sec-item\" target=\"_self\" href=\"/cricket-team/bermuda/25\" title=\"Bermuda Cricket Team\">Bermuda</a> <a class=\"cb-subnav-item cb-sub-lg-sec-item\" target=\"_self\" href=\"/cricket-team/canada/26\" title=\"Canada Cricket Team\">Canada</a> <a class=\"cb-subnav-item cb-sub-lg-sec-item\" target=\"_self\" href=\"/cricket-team/uganda/44\" title=\"Uganda Cricket Team\">Uganda</a> <a class=\"cb-subnav-item cb-sub-lg-sec-item\" target=\"_self\" href=\"/cricket-team/malaysia/71\" title=\"Malaysia Cricket Team\">Malaysia</a> <a class=\"cb-subnav-item cb-sub-lg-sec-item\" target=\"_self\" href=\"/cricket-team/nepal/72\" title=\"Nepal Cricket Team\">Nepal</a> <a class=\"cb-subnav-item cb-sub-lg-sec-item\" target=\"_self\" href=\"/cricket-team/germany/77\" title=\"Germany Cricket Team\">Germany</a> </div> </div> <a target=\"_self\" href=\"/cricket-team\" class=\"cb-sub-lg-more\">More...</a></nav></div> <div class=\"cb-subnav cb-hm-mnu-itm feature-button cursor-pointer\" id=\"videosDropDown\"><a class=\"text-white\" target=\"_self\" href=\"/cricket-videos\">Videos</a><span class =\"cb-caret-down\"></span> <nav class=\"cb-sub-navigation\"> <a target=\"_self\" class=\"cb-subnav-item\" href=\"/cricket-videos\" title=\"All Cricket Videos\">All Videos</a> <a target=\"_self\" class=\"cb-subnav-item\" href=\"/cricket-videos/categories\" title=\"Cricket Videos Categories\">Categories</a> <a target=\"_self\" class=\"cb-subnav-item\" href=\"/cricket-videos/playlists\" title=\"Cricket Videos Playlists\">Playlists</a> </nav> </div> <div class=\"cb-subnav cb-hm-mnu-itm feature-button cursor-pointer\" id=\"rankingDropDown\"><a class=\"text-white\" href=\"/cricket-stats/icc-rankings/men/batting\">Rankings</a><span class =\"cb-caret-down\"></span><nav class=\"cb-sub-navigation\"><a class=\"cb-subnav-item\" target=\"_self\" href=\"/cricket-stats/icc-rankings/men/batting\" title=\"ICC Rankings Men\">ICC Rankings - Men</a><a class=\"cb-subnav-item\" target=\"_self\" href=\"/cricket-stats/icc-rankings/women/batting\" title=\"ICC Rankings Women\">ICC Rankings - Women</a></nav></div> <div class=\"cb-subnav cb-hm-mnu-itm feature-button cursor-pointer\">More<span class =\"cb-caret-down\"></span><nav class=\"cb-sub-navigation\" style=\"right:0px;\"> <a class=\"cb-subnav-item\" target=\"_self\" href=\"/cricket-photo-gallery\" title=\"Photo Gallery\">Photos</a> <a class=\"cb-subnav-item\" target=\"_self\" href=\"/mobileapps\" title=\"Mobile Apps\">Mobile Apps</a><a class=\"cb-subnav-item\" target=\"_self\" href=\"/careers\" title=\"Careers\">Careers</a><a class=\"cb-subnav-item\" target=\"_self\" href=\"/info/contact\" title=\"Contact Us\">Contact Us</a></nav></div> <div ng-controller=\"SearchCtrl\" ng-init=\" init(-1, 61, 76, 350, \\'\\', \\'nav\\')\"> <div class=\"cb-nav-search-wrap\" ng-style=\"{width: inputFocus?\\'830px\\':\\'170px\\'}\"> <div class=\"cb-col-100 cb-col cb-srch-bar cb-srch-bar-nav\"> <form ng-submit=\"search_results(false, false)\" name=\"form\" class=\"cb-search-form\" ng-cloak> <div class=\"cb-search-input-nav\"> <div class=\"cb-search-outer\"> <div class=\"cb-search-input-wrap\"> <input type=\"text\" class=\"js-cb-search-input cb-search-input-elem cb-search-input-elem-nav form-control cb-car-inp cb-srch-bg\" ng-change=\"suggest_search()\" maxlength=\"500\" ng-model=\"searchText\" id=\"search_bar\" name=\"search\" value=\"suggest.title\" autocomplete=\"off\" ng-class=\"{\\'cb-search-input-elem-error-nav\\':errorText, \\'cb-srch-high-zIndex\\':dropdownVisible, \\'cb-srch-input-focus\\':inputFocus}\" placeholder=\"{{errorText?errorText:(source == \\'nav\\' && inputFocus) || source == \\'search-page\\'?\\'Search for Player, Series, Team, News or Video. eg: Windies tour of India\\': \\'Search\\'}}\" ng-keydown=\"onKeyPress($event)\" ng-focus=\"onInputFocus()\" ng-blur=\"loseInputFocus()\" ng-model-options=\"{ debounce: 400 }\"/> <span class=\"cb-ico cb-search-input-icon cb-search-input-icon-nav\"></span> <span class=\"cb-srch-cross-new cb-srch-cross-new-nav cb-font-14\" ng-class=\"{\\'cb-srch-cross-focus\\': inputFocus, \\'cb-srch-high-zIndex\\':dropdownVisible}\" ng-click=\"reset_form(\\'view\\');\" ng-show=\"searchText.length > 0\">â\\x9c\\x96</span> </div> <div ng-show=\"dropdownVisible\" class=\"cb-srch-backdrop\" ng-click=\"hideDropdown()\"></div> <div ng-show=\"dropdownVisible && searchText.length >= 2 && search_ftr_suggst.length > 0\" class=\"cb-main-srch-box-wrap\"> <ul class=\"cb-main-srch-box\" id=\"searchBox_nav\"> <li class=\"cb-main-srch-box-item {{selected_suggestions == $index?\\'highlight\\':\\'\\'}}\" id=\"search_item_{{$index}}\" ng-click=\"search_results()\" ng-repeat=\"suggest in search_ftr_suggst track by $index\" ng-show=\"suggestions && searchText.length > 0 && inputFocus\" ng-mouseover=\"highlight_item_mouse_hover($index)\" ng-class=\"{\\'cb-main-srch-box-item-border\\':suggest.hasBorder, \\'cb-big\\': suggest.isSearchItem}\" > <a ng-if=\"!suggest.isSearchItem\" class=\"text-black cb-srch-suggest-link\"> <div class=\"cb-srch-suggest-img\" ng-class=\"{\\'cb-srch-suggest-img-teams\\': suggest.type == \\'Teams\\'}\"> <div ng-if=\"suggest.imgUrl\" class=\"\"> <img class=\"cb-srch-suggest-icon-img\" ng-src=\"{{suggest.imgUrl}}\" /> </div> <div ng-if=\"!suggest.imgUrl\" class=\"cb-srch-sugggest-icon {{suggest.iconClass}} cb-ico\"> </div> </div> <div class=\"cb-srch-suggest-content\"> <p class=\"cb-srch-suggest-content-title\" ng-bind-html=\"suggest | searchfilter:oldText\"></p> <p class=\"cb-srch-suggest-content-subtitle cb-font-12 cb-text-gray\">{{suggest.tag}}</p> </div> </a> <a ng-if=\"suggest.isSearchItem\" href=\"javascript:void(0)\" class=\"text-black cb-srch-suggest-link\"> <div class=\"cb-srch-suggest-img\"> <div class=\"cb-srch-sugggest-icon cb-srch-sugggest-icon-search cb-ico\"> </div> </div> <div class=\"cb-srch-suggest-content cb-center-text\"> <p class=\"cb-srch-suggest-content-title\">Search for &#8220;<span ng-bind=\"searchText\"></span>&#8221;</p> </div> </a> </li> </ul> </div> </div> </div> <div class=\"cb-search-submit-nav\" ng-class=\"{\\'cb-search-submit-input-focus\\': inputFocus, \\'cb-search-submit-error\\': errorText}\"> <a class=\"text-white cb-srch-bttn\" ng-class=\"{\\'cb-srch-high-zIndex\\':dropdownVisible}\" ng-click=\"search_results(false, true)\">SEARCH</a> </div> </form></div><style>.cb-srch-ico{margin: 0}</style> </div> </div> </nav></div></header><div class=\"page\"><div id=\"fb-root\"></div><div id=\"page-wrapper\" class=\"container\" style=\"display:inline-block;\"><div id=\"shosh\" class=\"ad-unit shosh-embed\" style=\"height:0; width:980px; text-align:center;\"></div><span id=\"skin_left\" class=\"ad-unit\" style=\"overflow:hidden; position:fixed;top:0;left:calc(50% - 635px);margin-right:3px;z-index:-99;\" ></span> <div class=\"cb-col cb-col-100\"><div id=\"match_menu_container\" class=\"cb-col cb-col-100 html-refresh\" url=\"/api/html/homepage-scag\" timeout=\"45000\"><div class=\"cb-nav-main cb-bg-white\" ng-init=\"run_active = \\'Featured\\'\"><nav class=\"cb-nav-bar\" id=\"scagTab\"><a href=\"javascript:void(0)\" ng-class=\"{true:\\'active\\',false:\\'\\'}[run_active == \\'Featured\\']\" class=\"cb-nav-tab-hm active\" id=\"featured-mtchs-tab\" ng-click=\"run_active = \\'Featured\\'\">Featured</a><a href=\"javascript:void(0)\" ng-class=\"{true:\\'active\\',false:\\'\\'}[run_active == \\'International\\']\" class=\"cb-nav-tab-hm \" id=\"international-mtchs-tab\" ng-click=\"run_active = \\'International\\'\">International</a><a href=\"javascript:void(0)\" ng-class=\"{true:\\'active\\',false:\\'\\'}[run_active == \\'ICC Cricket WC 2019\\']\" class=\"cb-nav-tab-hm \" id=\"icc-cricket-wc-2019-mtchs-tab\" ng-click=\"run_active = \\'ICC Cricket WC 2019\\'\">ICC Cricket WC 2019</a><a href=\"javascript:void(0)\" ng-class=\"{true:\\'active\\',false:\\'\\'}[run_active == \\'County Division One\\']\" class=\"cb-nav-tab-hm \" id=\"county-division-one-mtchs-tab\" ng-click=\"run_active = \\'County Division One\\'\">County Division One</a><a href=\"javascript:void(0)\" ng-class=\"{true:\\'active\\',false:\\'\\'}[run_active == \\'County Division Two\\']\" class=\"cb-nav-tab-hm \" id=\"county-division-two-mtchs-tab\" ng-click=\"run_active = \\'County Division Two\\'\">County Division Two</a><a class=\"cb-nav-tab-hm cb-text-link cb-all-mtch-tab\" href=\"/cricket-match/live-scores\" title=\"Live Scores of Cricket Matches\" id=\"AllMatches\">All Matches</a></nav></div><div class=\"cb-bg-white\" style=\"min-height:90px;\" id=\"hm-scag-mtch-blk\"><div ng-if=\"run_active == \\'Featured\\'\" ><div class=\"cb-col-100 cb-col cb-hm-scg-blk \"><div class=\"cb-col cb-col-25 cb-mtch-blk\"><a title=\"England v India - Match 38\" href=\"/live-cricket-scores/20274/eng-vs-ind-match-38-icc-cricket-world-cup-2019\" target=\"_self\" class=\"cb-font-12\"><div class=\"cb-hmscg-bat-txt cb-ovr-flo \"><div class=\\'cb-ovr-flo cb-hmscg-tm-nm\\'>IND</div><div class=\\'cb-ovr-flo\\' style=\\'display:inline-block; width:140px\\'>306/5 (50.0 Ovs)</div></div><div class=\"cb-hmscg-bwl-txt \"><div class=\\'cb-ovr-flo cb-hmscg-tm-nm\\'>ENG</div><div class=\\'cb-ovr-flo\\' style=\\'display:inline-block; width:140px\\'>337/7 (50.0 Ovs)</div></div><div class=\" cb-ovr-flo cb-text-complete\">England won by 31 runs</div></a></div><div class=\"cb-col cb-col-25 cb-mtch-blk\"><a title=\"New Zealand v Australia - Match 37\" href=\"/live-cricket-scores/20273/nz-vs-aus-match-37-icc-cricket-world-cup-2019\" target=\"_self\" class=\"cb-font-12\"><div class=\"cb-hmscg-bat-txt cb-ovr-flo \"><div class=\\'cb-ovr-flo cb-hmscg-tm-nm\\'>NZ</div><div class=\\'cb-ovr-flo\\' style=\\'display:inline-block; width:140px\\'>157-all out (43.4 Ovs)</div></div><div class=\"cb-hmscg-bwl-txt \"><div class=\\'cb-ovr-flo cb-hmscg-tm-nm\\'>AUS</div><div class=\\'cb-ovr-flo\\' style=\\'display:inline-block; width:140px\\'>243/9 (50.0 Ovs)</div></div><div class=\" cb-ovr-flo cb-text-complete\">Australia won by 86 runs</div></a></div><div class=\"cb-col cb-col-25 cb-mtch-blk\"><a title=\"Sri Lanka v West Indies - Match 39\" href=\"/live-cricket-scores/20275/sl-vs-wi-match-39-icc-cricket-world-cup-2019\" target=\"_self\" class=\"cb-font-12\"><div class=\"cb-hmscg-bat-txt cb-ovr-flo \">Sri Lanka</div> <div class=\"cb-hmscg-bat-txt cb-ovr-flo \">West Indies</div><div class=\" cb-ovr-flo cb-text-preview\" ng-bind=\"1561973400000 |date: \\'EEEE, d MMM, hh:mm a\\'\"></div></a></div><div class=\"cb-col cb-col-25 cb-mtch-blk\"><a title=\"Ireland v Zimbabwe - 1st ODI\" href=\"/live-cricket-scores/22232/ire-vs-zim-1st-odi-zimbabwe-tour-of-ireland-2019\" target=\"_self\" class=\"cb-font-12\"><div class=\"cb-hmscg-bat-txt cb-ovr-flo \">Ireland</div> <div class=\"cb-hmscg-bat-txt cb-ovr-flo \">Zimbabwe</div><div class=\" cb-ovr-flo cb-text-preview\" ng-bind=\"1561974300000 |date: \\'EEEE, d MMM, hh:mm a\\'\"></div></a></div></div></div><div ng-if=\"run_active == \\'International\\'\" ><div class=\"cb-col-100 cb-col cb-hm-scg-blk ng-cloak\"><div class=\"cb-col cb-col-25 cb-mtch-blk\"><a title=\"England v India - Match 38\" href=\"/live-cricket-scores/20274/eng-vs-ind-match-38-icc-cricket-world-cup-2019\" target=\"_self\" class=\"cb-font-12\"><div class=\"cb-hmscg-bat-txt cb-ovr-flo \"><div class=\\'cb-ovr-flo cb-hmscg-tm-nm\\'>IND</div><div class=\\'cb-ovr-flo\\' style=\\'display:inline-block; width:140px\\'>306/5 (50.0 Ovs)</div></div><div class=\"cb-hmscg-bwl-txt \"><div class=\\'cb-ovr-flo cb-hmscg-tm-nm\\'>ENG</div><div class=\\'cb-ovr-flo\\' style=\\'display:inline-block; width:140px\\'>337/7 (50.0 Ovs)</div></div><div class=\" cb-ovr-flo cb-text-complete\">England won by 31 runs</div></a></div><div class=\"cb-col cb-col-25 cb-mtch-blk\"><a title=\"New Zealand v Australia - Match 37\" href=\"/live-cricket-scores/20273/nz-vs-aus-match-37-icc-cricket-world-cup-2019\" target=\"_self\" class=\"cb-font-12\"><div class=\"cb-hmscg-bat-txt cb-ovr-flo \"><div class=\\'cb-ovr-flo cb-hmscg-tm-nm\\'>NZ</div><div class=\\'cb-ovr-flo\\' style=\\'display:inline-block; width:140px\\'>157-all out (43.4 Ovs)</div></div><div class=\"cb-hmscg-bwl-txt \"><div class=\\'cb-ovr-flo cb-hmscg-tm-nm\\'>AUS</div><div class=\\'cb-ovr-flo\\' style=\\'display:inline-block; width:140px\\'>243/9 (50.0 Ovs)</div></div><div class=\" cb-ovr-flo cb-text-complete\">Australia won by 86 runs</div></a></div><div class=\"cb-col cb-col-25 cb-mtch-blk\"><a title=\"Sri Lanka v West Indies - Match 39\" href=\"/live-cricket-scores/20275/sl-vs-wi-match-39-icc-cricket-world-cup-2019\" target=\"_self\" class=\"cb-font-12\"><div class=\"cb-hmscg-bat-txt cb-ovr-flo \">Sri Lanka</div> <div class=\"cb-hmscg-bat-txt cb-ovr-flo \">West Indies</div><div class=\" cb-ovr-flo cb-text-preview\" ng-bind=\"1561973400000 |date: \\'EEEE, d MMM, hh:mm a\\'\"></div></a></div><div class=\"cb-col cb-col-25 cb-mtch-blk\"><a title=\"Ireland v Zimbabwe - 1st ODI\" href=\"/live-cricket-scores/22232/ire-vs-zim-1st-odi-zimbabwe-tour-of-ireland-2019\" target=\"_self\" class=\"cb-font-12\"><div class=\"cb-hmscg-bat-txt cb-ovr-flo \">Ireland</div> <div class=\"cb-hmscg-bat-txt cb-ovr-flo \">Zimbabwe</div><div class=\" cb-ovr-flo cb-text-preview\" ng-bind=\"1561974300000 |date: \\'EEEE, d MMM, hh:mm a\\'\"></div></a></div></div></div><div ng-if=\"run_active == \\'ICC Cricket WC 2019\\'\" ><div class=\"cb-col-100 cb-col cb-hm-scg-blk ng-cloak\"><div class=\"cb-col cb-col-25 cb-mtch-blk\"><a title=\"England v India - Match 38\" href=\"/live-cricket-scores/20274/eng-vs-ind-match-38-icc-cricket-world-cup-2019\" target=\"_self\" class=\"cb-font-12\"><div class=\"cb-hmscg-bat-txt cb-ovr-flo \"><div class=\\'cb-ovr-flo cb-hmscg-tm-nm\\'>IND</div><div class=\\'cb-ovr-flo\\' style=\\'display:inline-block; width:140px\\'>306/5 (50.0 Ovs)</div></div><div class=\"cb-hmscg-bwl-txt \"><div class=\\'cb-ovr-flo cb-hmscg-tm-nm\\'>ENG</div><div class=\\'cb-ovr-flo\\' style=\\'display:inline-block; width:140px\\'>337/7 (50.0 Ovs)</div></div><div class=\" cb-ovr-flo cb-text-complete\">England won by 31 runs</div></a></div><div class=\"cb-col cb-col-25 cb-mtch-blk\"><a title=\"New Zealand v Australia - Match 37\" href=\"/live-cricket-scores/20273/nz-vs-aus-match-37-icc-cricket-world-cup-2019\" target=\"_self\" class=\"cb-font-12\"><div class=\"cb-hmscg-bat-txt cb-ovr-flo \"><div class=\\'cb-ovr-flo cb-hmscg-tm-nm\\'>NZ</div><div class=\\'cb-ovr-flo\\' style=\\'display:inline-block; width:140px\\'>157-all out (43.4 Ovs)</div></div><div class=\"cb-hmscg-bwl-txt \"><div class=\\'cb-ovr-flo cb-hmscg-tm-nm\\'>AUS</div><div class=\\'cb-ovr-flo\\' style=\\'display:inline-block; width:140px\\'>243/9 (50.0 Ovs)</div></div><div class=\" cb-ovr-flo cb-text-complete\">Australia won by 86 runs</div></a></div><div class=\"cb-col cb-col-25 cb-mtch-blk\"><a title=\"Sri Lanka v West Indies - Match 39\" href=\"/live-cricket-scores/20275/sl-vs-wi-match-39-icc-cricket-world-cup-2019\" target=\"_self\" class=\"cb-font-12\"><div class=\"cb-hmscg-bat-txt cb-ovr-flo \">Sri Lanka</div> <div class=\"cb-hmscg-bat-txt cb-ovr-flo \">West Indies</div><div class=\" cb-ovr-flo cb-text-preview\" ng-bind=\"1561973400000 |date: \\'EEEE, d MMM, hh:mm a\\'\"></div></a></div></div></div><div ng-if=\"run_active == \\'County Division One\\'\" ><div class=\"cb-col-100 cb-col cb-hm-scg-blk ng-cloak\"><div class=\"cb-col cb-col-25 cb-mtch-blk\"><a title=\"Yorkshire v Surrey - County Div 1\" href=\"/live-cricket-scores/21723/yorks-vs-sur-county-div-1-county-championship-division-one-2019\" target=\"_self\" class=\"cb-font-12\"><div class=\"cb-hmscg-bat-txt cb-ovr-flo \"><div class=\\'cb-ovr-flo cb-hmscg-tm-nm\\'>SUR</div><div class=\\'cb-ovr-flo\\' style=\\'display:inline-block; width:140px\\'>48/0 (14.0 Ovs)</div></div><div class=\"cb-hmscg-bwl-txt \"><div class=\\'cb-ovr-flo cb-hmscg-tm-nm\\'>YORK..</div><div class=\\'cb-ovr-flo\\' style=\\'display:inline-block; width:140px\\'>327</div></div><div class=\" cb-ovr-flo cb-text-live\">Day 1: Stumps - Surrey trail by 279 runs</div></a></div><div class=\"cb-col cb-col-25 cb-mtch-blk\"><a title=\"Kent v Warwickshire - County Div 1\" href=\"/live-cricket-scores/21715/kent-vs-warks-county-div-1-county-championship-division-one-2019\" target=\"_self\" class=\"cb-font-12\"><div class=\"cb-hmscg-bat-txt cb-ovr-flo \"><div class=\\'cb-ovr-flo cb-hmscg-tm-nm\\'>KENT</div><div class=\\'cb-ovr-flo\\' style=\\'display:inline-block; width:140px\\'>338/2 (96.0 Ovs)</div></div><div class=\"cb-hmscg-bwl-txt \"><div class=\\'cb-ovr-flo cb-hmscg-tm-nm\\'>WARK..</div><div class=\\'cb-ovr-flo\\' style=\\'display:inline-block; width:140px\\'></div></div><div class=\" cb-ovr-flo cb-text-live\">Day 1: Stumps</div></a></div><div class=\"cb-col cb-col-25 cb-mtch-blk\"><a title=\"Somerset v Hampshire - County Div 1\" href=\"/live-cricket-scores/21720/som-vs-ham-county-div-1-county-championship-division-one-2019\" target=\"_self\" class=\"cb-font-12\"><div class=\"cb-hmscg-bat-txt cb-ovr-flo \"><div class=\\'cb-ovr-flo cb-hmscg-tm-nm\\'>HAM</div><div class=\\'cb-ovr-flo\\' style=\\'display:inline-block; width:140px\\'>15/1 (6.0 Ovs)</div></div><div class=\"cb-hmscg-bwl-txt \"><div class=\\'cb-ovr-flo cb-hmscg-tm-nm\\'>SOM</div><div class=\\'cb-ovr-flo\\' style=\\'display:inline-block; width:140px\\'>408</div></div><div class=\" cb-ovr-flo cb-text-live\">Day 1: Stumps - Hampshire trail by 393 runs</div></a></div><div class=\"cb-col cb-col-25 cb-mtch-blk\"><a title=\"Nottinghamshire v Essex - County Div 1\" href=\"/live-cricket-scores/21718/notts-vs-ess-county-div-1-county-championship-division-one-2019\" target=\"_self\" class=\"cb-font-12\"><div class=\"cb-hmscg-bat-txt cb-ovr-flo \"><div class=\\'cb-ovr-flo cb-hmscg-tm-nm\\'>ESS</div><div class=\\'cb-ovr-flo\\' style=\\'display:inline-block; width:140px\\'>72/1 (24.0 Ovs)</div></div><div class=\"cb-hmscg-bwl-txt \"><div class=\\'cb-ovr-flo cb-hmscg-tm-nm\\'>NOTT..</div><div class=\\'cb-ovr-flo\\' style=\\'display:inline-block; width:140px\\'>213</div></div><div class=\" cb-ovr-flo cb-text-live\">Day 1: Stumps - Essex trail by 141 runs</div></a></div></div></div><div ng-if=\"run_active == \\'County Division Two\\'\" ><div class=\"cb-col-100 cb-col cb-hm-scg-blk ng-cloak\"><div class=\"cb-col cb-col-25 cb-mtch-blk\"><a title=\"Derbyshire v Middlesex - County Div 2\" href=\"/live-cricket-scores/21726/derby-vs-mdx-county-div-2-county-championship-division-two-2019\" target=\"_self\" class=\"cb-font-12\"><div class=\"cb-hmscg-bat-txt cb-ovr-flo \"><div class=\\'cb-ovr-flo cb-hmscg-tm-nm\\'>DERB..</div><div class=\\'cb-ovr-flo\\' style=\\'display:inline-block; width:140px\\'>372/4 (96.0 Ovs)</div></div><div class=\"cb-hmscg-bwl-txt \"><div class=\\'cb-ovr-flo cb-hmscg-tm-nm\\'>MDX</div><div class=\\'cb-ovr-flo\\' style=\\'display:inline-block; width:140px\\'></div></div><div class=\" cb-ovr-flo cb-text-live\">Day 1: Stumps</div></a></div><div class=\"cb-col cb-col-25 cb-mtch-blk\"><a title=\"Glamorgan v Worcestershire - County Div 2\" href=\"/live-cricket-scores/21725/glam-vs-worcs-county-div-2-county-championship-division-two-2019\" target=\"_self\" class=\"cb-font-12\"><div class=\"cb-hmscg-bat-txt cb-ovr-flo \"><div class=\\'cb-ovr-flo cb-hmscg-tm-nm\\'>GLAM</div><div class=\\'cb-ovr-flo\\' style=\\'display:inline-block; width:140px\\'>354/6 (96.0 Ovs)</div></div><div class=\"cb-hmscg-bwl-txt \"><div class=\\'cb-ovr-flo cb-hmscg-tm-nm\\'>WORC..</div><div class=\\'cb-ovr-flo\\' style=\\'display:inline-block; width:140px\\'></div></div><div class=\" cb-ovr-flo cb-text-live\">Day 1: Stumps</div></a></div><div class=\"cb-col cb-col-25 cb-mtch-blk\"><a title=\"Sussex v Northamptonshire - County Div 2\" href=\"/live-cricket-scores/21724/sus-vs-nor-county-div-2-county-championship-division-two-2019\" target=\"_self\" class=\"cb-font-12\"><div class=\"cb-hmscg-bat-txt cb-ovr-flo \"><div class=\\'cb-ovr-flo cb-hmscg-tm-nm\\'>SUS</div><div class=\\'cb-ovr-flo\\' style=\\'display:inline-block; width:140px\\'>7/2 (7.0 Ovs)</div></div><div class=\"cb-hmscg-bwl-txt \"><div class=\\'cb-ovr-flo cb-hmscg-tm-nm\\'>NOR</div><div class=\\'cb-ovr-flo\\' style=\\'display:inline-block; width:140px\\'>273</div></div><div class=\" cb-ovr-flo cb-text-live\">Day 1: Stumps - Sussex trail by 266 runs</div></a></div><div class=\"cb-col cb-col-25 cb-mtch-blk\"><a title=\"Lancashire v Durham - County Div 2\" href=\"/live-cricket-scores/21722/lancs-vs-dur-county-div-2-county-championship-division-two-2019\" target=\"_self\" class=\"cb-font-12\"><div class=\"cb-hmscg-bat-txt cb-ovr-flo \"><div class=\\'cb-ovr-flo cb-hmscg-tm-nm\\'>LANC..</div><div class=\\'cb-ovr-flo\\' style=\\'display:inline-block; width:140px\\'>275/5 (96.0 Ovs)</div></div><div class=\"cb-hmscg-bwl-txt \"><div class=\\'cb-ovr-flo cb-hmscg-tm-nm\\'>DUR</div><div class=\\'cb-ovr-flo\\' style=\\'display:inline-block; width:140px\\'></div></div><div class=\" cb-ovr-flo cb-text-live\">Day 1: Stumps</div></a></div></div></div><div ng-if=\"run_active == \\'AUS A tour of ENG, 2019\\'\" ><div class=\"cb-col-100 cb-col cb-hm-scg-blk ng-cloak\"><div class=\"cb-col cb-col-25 cb-mtch-blk\"><a title=\"Gloucestershire v Australia A - 4th unofficial ODI\" href=\"/live-cricket-scores/22384/gloucs-vs-ausa-4th-unofficial-odi-australia-a-tour-of-england-2019\" target=\"_self\" class=\"cb-font-12\"><div class=\"cb-hmscg-bat-txt cb-ovr-flo \"><div class=\\'cb-ovr-flo cb-hmscg-tm-nm\\'>AUSA</div><div class=\\'cb-ovr-flo\\' style=\\'display:inline-block; width:140px\\'>247/5 (42.1 Ovs)</div></div><div class=\"cb-hmscg-bwl-txt \"><div class=\\'cb-ovr-flo cb-hmscg-tm-nm\\'>GLOU..</div><div class=\\'cb-ovr-flo\\' style=\\'display:inline-block; width:140px\\'>246/8 (50.0 Ovs)</div></div><div class=\" cb-ovr-flo cb-text-complete\">Australia A won by 5 wkts</div></a></div></div></div><div ng-if=\"run_active == \\'PAK U19 tour of SA\\'\" ><div class=\"cb-col-100 cb-col cb-hm-scg-blk ng-cloak\"><div class=\"cb-col cb-col-25 cb-mtch-blk\"><a title=\"South Africa U19 v Pakistan U19 - 4th Youth ODI\" href=\"/live-cricket-scores/22864/rsau19-vs-paku19-4th-youth-odi-pakistan-under-19-tour-of-south-africa-2019\" target=\"_self\" class=\"cb-font-12\"><div class=\"cb-hmscg-bat-txt cb-ovr-flo \"><div class=\\'cb-ovr-flo cb-hmscg-tm-nm\\'>RSAU..</div><div class=\\'cb-ovr-flo\\' style=\\'display:inline-block; width:140px\\'>253-all out (43.3 Ovs)</div></div><div class=\"cb-hmscg-bwl-txt \"><div class=\\'cb-ovr-flo cb-hmscg-tm-nm\\'>PAKU..</div><div class=\\'cb-ovr-flo\\' style=\\'display:inline-block; width:140px\\'>341/8 (50.0 Ovs)</div></div><div class=\" cb-ovr-flo cb-text-complete\">Pakistan U19 won by 88 runs</div></a></div></div></div></div></div><div id=\"menu_branding\" class=\"ad-unit\" style=\"float:right;\"></div></div><nav class=\"cb-col cb-col-100 cb-bg-white cb-qck-lnk\" id=\"cb-qck-navbar\"> <h1 class=\"cb-qck-lnk-hdr inline-block\">World Cup 2019</h1> <a class=\"cb-text-link cb-qck-ancr\" href=\"/cricket-series/2697/icc-cricket-world-cup-2019\" title=\"World Cup 2019\">Home</a><a class=\"cb-text-link cb-qck-ancr\" href=\"/cricket-series/2697/icc-cricket-world-cup-2019/matches\" title=\"World Cup 2019 Schedule\">Schedule</a><a class=\"cb-text-link cb-qck-ancr\" href=\"/cricket-series/2697/icc-cricket-world-cup-2019/points-table\" title=\"World Cup 2019 Points Table\">Points Table</a><a class=\"cb-text-link cb-qck-ancr\" href=\"/cricket-series/2697/icc-cricket-world-cup-2019/news\" title=\"World Cup 2019 News\">News</a><a class=\"cb-text-link cb-qck-ancr\" href=\"/cricket-series/2697/icc-cricket-world-cup-2019/videos\" title=\"World Cup 2019 Videos\">Videos</a><a class=\"cb-text-link cb-qck-ancr\" href=\"/cricket-series/2697/icc-cricket-world-cup-2019/squads\" title=\"World Cup 2019 Squads\">Squads</a><a class=\"cb-text-link cb-qck-ancr\" href=\"/special-content/boundary-tracker/2697/icc-cricket-world-cup-2019\" title=\"World Cup 2019 Boundary Tracker\">Boundary Tracker</a><a class=\"cb-text-link cb-qck-ancr\" href=\"/cricket-news/108171/world-cup-2019-that-happened\" title=\"World Cup Pulse\">Pulse</a></nav><style>.cb-qck-lnk-hdr{ font-size:18px; line-height: 27px;\\n}</style> <meta http-equiv=\"refresh\" content=\"400\"> <div class=\"cb-col cb-col-20\"> <div class=\"cb-bg-white\" id=\"cb-news-blck\"><h2 class=\"cb-hm-lft-hdr cb-lv-scr-mtch-hdr\">LATEST NEWS</h2><div class=\\'cb-hm-lft\\'><div class=\"cb-col-100 cb-lst-itm cb-lst-itm-sm\"><a class=\"cb-nws-hdln-ancr text-hvr-underline\" href=\"/cricket-news/108769/icc-world-cup-2019-courtney-walsh-backs-out-of-form-mashrafe-mortaza-to-come-good-in-must-wins-bangladesh-cricket-team\" title=\"Walsh backs out-of-form Mortaza to come good in must-wins\">Walsh backs out-of-form Mortaza to come good in must-wins</a><div class=\"cb-nws-time\">12h ago</div></div><div class=\"cb-col-100 cb-lst-itm cb-lst-itm-sm\"><a class=\"cb-nws-hdln-ancr text-hvr-underline\" href=\"/cricket-news/108766/virat-kohli-expresses-surprise-over-edgbaston-playing-conditions-icc-cricket-world-cup-2019\" title=\"Kohli expresses surprise over Edgbaston playing conditions\">Kohli expresses surprise over Edgbaston playing conditions</a><div class=\"cb-nws-time\">13h ago</div></div><div class=\"cb-col-100 cb-lst-itm cb-lst-itm-sm\"><a class=\"cb-nws-hdln-ancr text-hvr-underline\" href=\"/cricket-news/108758/zimbabwe-womens-tour-of-ireland-called-off\" title=\"Zimbabwe women\\'s tour of Ireland called off\">Zimbabwe women\\'s tour of Ireland called off</a><div class=\"cb-nws-time\">20h ago</div></div><div class=\"cb-col-100 cb-lst-itm cb-lst-itm-sm\"><a class=\"cb-nws-hdln-ancr text-hvr-underline\" href=\"/cricket-news/108757/icc-cricket-world-cup-2019-mitchell-starc-australia-new-zealand-five-wicket-haul\" title=\"Records don\\'t mean much if we don\\'t win the World Cup: Starc\">Records don\\'t mean much if we don\\'t win the World Cup: Starc</a><div class=\"cb-nws-time\">1d ago</div></div><div class=\"cb-col-100 cb-lst-itm cb-lst-itm-sm\"><a class=\"cb-nws-hdln-ancr text-hvr-underline\" href=\"/cricket-news/108750/womens-ashes-2019-fran-wilson-in-england-squad-for-first-ashes-one-dayer\" title=\"Fran Wilson in England squad for first Ashes one-dayer\">Fran Wilson in England squad for first Ashes one-dayer</a><div class=\"cb-nws-time\">1d ago</div></div><div class=\"cb-col-100 cb-lst-itm cb-lst-itm-sm\"><a class=\"cb-nws-hdln-ancr text-hvr-underline\" href=\"/cricket-news/108745/aiden-markram-and-temba-bavuma-to-lead-south-africa-a-sides-in-india\" title=\"Aiden Markram and Temba Bavuma to lead \\'A\\' sides in India\">Aiden Markram and Temba Bavuma to lead \\'A\\' sides in India</a><div class=\"cb-nws-time\">1d ago</div></div><div class=\"cb-col-100 cb-lst-itm cb-lst-itm-sm\"><a class=\"cb-nws-hdln-ancr text-hvr-underline\" href=\"/cricket-news/108743/virat-kohli-attributes-attitude-adaptability-as-keys-for-indias-success-icc-cricket-world-cup-2019\" title=\"Kohli attributes attitude, adaptability as keys for India\\'s success\">Kohli attributes attitude, adaptability as keys for India\\'s success</a><div class=\"cb-nws-time\">1d ago</div></div><div class=\"cb-col-100 cb-lst-itm cb-lst-itm-sm\"><a class=\"cb-nws-hdln-ancr text-hvr-underline\" href=\"/cricket-news/108739/nuwan-pradeep-out-of-remainder-of-world-cup-due-to-chickenpox-icc-cricket-world-cup-2019\" title=\"Nuwan Pradeep out of remainder of World Cup due to Chickenpox\">Nuwan Pradeep out of remainder of World Cup due to Chickenpox</a><div class=\"cb-nws-time\">1d ago</div></div><div class=\"cb-col-100 cb-lst-itm cb-lst-itm-sm\"><a class=\"cb-nws-hdln-ancr text-hvr-underline\" href=\"/cricket-news/108738/crowd-trouble-mars-headingley-thriller-after-scuffles-in-stands\" title=\"Crowd trouble mars Headingley thriller after scuffles in stands\">Crowd trouble mars Headingley thriller after scuffles in stands</a><div class=\"cb-nws-time\">1d ago</div></div><div class=\"cb-col-100 cb-lst-itm cb-lst-itm-sm\"><a class=\"cb-nws-hdln-ancr text-hvr-underline\" href=\"/cricket-news/108734/australia-resist-temptation-to-rest-starc-and-cummins-before-knockouts\" title=\"Australia resist temptation to rest Starc and Cummins before knockouts\">Australia resist temptation to rest Starc and Cummins before knockouts</a><div class=\"cb-nws-time\">2d ago</div></div><div class=\"cb-hm-mr-lnk\"><a class=\"cb-font-12 cb-text-link\" href=\"/cricket-news/latest-news\" title=\"More News\"><i>More News..</i></a></div></div></div> <div class=\"cb-bg-white\" id=\"hm-photos-blk\"> <h2 class=\"cb-hm-lft-hdr cb-lv-scr-mtch-hdr\">LATEST PHOTOS</h2> <div class=\\'cb-hm-lft\\'> <div class=\"cb-col-100 cb-lst-itm cb-lst-itm-sm\"> <a href=\"/cricket-gallery/4636/england-vs-india-icc-world-cup-2019-match-38\" title=\"England vs India, ICC World Cup 2019, Match 38\"> <img width=\"165\" height=\"95\" class=\"lazy-loading pad-0\" alt=\"England vs India, ICC World Cup 2019, Match 38\" src=\"\" source=\"/a/img/v1/165x95/i1/c176093/england-vs-india-icc-world-cu.jpg\"/> <div class=\"cb-nws-hdln\">England vs India, ICC World Cup 2019, Match 38</div> <span class=\"cb-nws-time\">Sun, Jun 30 2019</span> </a> </div> <div class=\"cb-col-100 cb-lst-itm cb-lst-itm-sm\"> <a href=\"/cricket-gallery/4635/afghanistan-v-pakistan-icc-world-cup-2019\" title=\"Afghanistan v Pakistan, ICC World Cup 2019 \"> <img width=\"165\" height=\"95\" class=\"lazy-loading pad-0\" alt=\"Afghanistan v Pakistan, ICC World Cup 2019 \" src=\"\" source=\"/a/img/v1/165x95/i1/c175989/afghanistan-v-pakistan-icc-wo.jpg\"/> <div class=\"cb-nws-hdln\">Afghanistan v Pakistan, ICC World Cup 2019 </div> <span class=\"cb-nws-time\">Sat, Jun 29 2019</span> </a> </div> <div class=\"cb-col-100 cb-lst-itm cb-lst-itm-sm\"> <a href=\"/cricket-gallery/4634/new-zealand-vs-australia-icc-world-cup-match-37\" title=\"New Zealand vs Australia, ICC World Cup, Match 37\"> <img width=\"165\" height=\"95\" class=\"lazy-loading pad-0\" alt=\"New Zealand vs Australia, ICC World Cup, Match 37\" src=\"\" source=\"/a/img/v1/165x95/i1/c175911/new-zealand-vs-australia-icc.jpg\"/> <div class=\"cb-nws-hdln\">New Zealand vs Australia, ICC World Cup, Match 37</div> <span class=\"cb-nws-time\">Sat, Jun 29 2019</span> </a> </div> <div class=\"cb-col-100 cb-lst-itm cb-lst-itm-sm\"> <a href=\"/cricket-gallery/4633/south-africa-v-sri-lanka-icc-world-cup-2019\" title=\"South Africa v Sri Lanka, ICC World Cup 2019\"> <img width=\"165\" height=\"95\" class=\"lazy-loading pad-0\" alt=\"South Africa v Sri Lanka, ICC World Cup 2019\" src=\"\" source=\"/a/img/v1/165x95/i1/c175780/south-africa-v-sri-lanka-icc.jpg\"/> <div class=\"cb-nws-hdln\">South Africa v Sri Lanka, ICC World Cup 2019</div> <span class=\"cb-nws-time\">Fri, Jun 28 2019</span> </a> </div> <div class=\"cb-col-100 cb-lst-itm cb-lst-itm-sm\"> <a href=\"/cricket-gallery/4632/west-indies-vs-india-icc-world-cup-2019-match-34\" title=\"West Indies vs India, ICC World Cup 2019, Match 34\"> <img width=\"165\" height=\"95\" class=\"lazy-loading pad-0\" alt=\"West Indies vs India, ICC World Cup 2019, Match 34\" src=\"\" source=\"/a/img/v1/165x95/i1/c175594/west-indies-vs-india-icc-worl.jpg\"/> <div class=\"cb-nws-hdln\">West Indies vs India, ICC World Cup 2019, Match 34</div> <span class=\"cb-nws-time\">Thu, Jun 27 2019</span> </a> </div> <div class=\"cb-col-100 cb-lst-itm cb-lst-itm-sm\"> <a href=\"/cricket-gallery/4631/new-zealand-vs-pakistan-icc-world-cup-match-33\" title=\"New Zealand vs Pakistan, ICC World Cup, Match 33\"> <img width=\"165\" height=\"95\" class=\"lazy-loading pad-0\" alt=\"New Zealand vs Pakistan, ICC World Cup, Match 33\" src=\"\" source=\"/a/img/v1/165x95/i1/c175492/new-zealand-vs-pakistan-icc-w.jpg\"/> <div class=\"cb-nws-hdln\">New Zealand vs Pakistan, ICC World Cup, Match 33</div> <span class=\"cb-nws-time\">Wed, Jun 26 2019</span> </a> </div> <div class=\" cb-hm-mr-lnk\"> <a class=\"cb-font-12 cb-text-link\" href=\"/cricket-photo-gallery\" title=\"More Photos\"><i>More Photos..</i></a> </div> </div> </div> <div class=\"cb-bg-white\"> <h2 class=\"cb-hm-lft-hdr cb-lv-scr-mtch-hdr\">SCHEDULE</h2> <div class=\\'cb-hm-lft\\'> <div class=\"cb-col-100 cb-lst-itm cb-lst-itm-sm\"> <div>Sri Lanka vs West Indies, Match 39</div> <div class=\"cb-nws-time\"><span class=\"schedule-date\" timestamp=\"1561973400000\" venue=\"+01:00\" format=\"EEE MMM dd\"></span>&nbsp;&#8226;&nbsp;<span class=\"schedule-date\" timestamp=\"1561973400000\" venue=\"+01:00\" format=\"h:mm a\"></span>&nbsp;GMT</div> </div> <div class=\"cb-col-100 cb-lst-itm cb-lst-itm-sm\"> <div>Ireland vs Zimbabwe, 1st ODI</div> <div class=\"cb-nws-time\"><span class=\"schedule-date\" timestamp=\"1561974300000\" venue=\"+01:00\" format=\"EEE MMM dd\"></span>&nbsp;&#8226;&nbsp;<span class=\"schedule-date\" timestamp=\"1561974300000\" venue=\"+01:00\" format=\"h:mm a\"></span>&nbsp;GMT</div> </div> <div class=\"cb-col-100 cb-lst-itm cb-lst-itm-sm\"> <div>Bangladesh vs India, Match 40</div> <div class=\"cb-nws-time\"><span class=\"schedule-date\" timestamp=\"1562059800000\" venue=\"+01:00\" format=\"EEE MMM dd\"></span>&nbsp;&#8226;&nbsp;<span class=\"schedule-date\" timestamp=\"1562059800000\" venue=\"+01:00\" format=\"h:mm a\"></span>&nbsp;GMT</div> </div> <div class=\"cb-col-100 cb-lst-itm cb-lst-itm-sm\"> <div>England vs New Zealand, Match 41</div> <div class=\"cb-nws-time\"><span class=\"schedule-date\" timestamp=\"1562146200000\" venue=\"+01:00\" format=\"EEE MMM dd\"></span>&nbsp;&#8226;&nbsp;<span class=\"schedule-date\" timestamp=\"1562146200000\" venue=\"+01:00\" format=\"h:mm a\"></span>&nbsp;GMT</div> </div> <div class=\"cb-col-100 cb-lst-itm cb-lst-itm-sm\"> <div>Afghanistan vs West Indies, Match 42</div> <div class=\"cb-nws-time\"><span class=\"schedule-date\" timestamp=\"1562232600000\" venue=\"+01:00\" format=\"EEE MMM dd\"></span>&nbsp;&#8226;&nbsp;<span class=\"schedule-date\" timestamp=\"1562232600000\" venue=\"+01:00\" format=\"h:mm a\"></span>&nbsp;GMT</div> </div> <div class=\"cb-col-100 cb-lst-itm cb-lst-itm-sm\"> <div>Ireland vs Zimbabwe, 2nd ODI</div> <div class=\"cb-nws-time\"><span class=\"schedule-date\" timestamp=\"1562233500000\" venue=\"+01:00\" format=\"EEE MMM dd\"></span>&nbsp;&#8226;&nbsp;<span class=\"schedule-date\" timestamp=\"1562233500000\" venue=\"+01:00\" format=\"h:mm a\"></span>&nbsp;GMT</div> </div> <div class=\"cb-col-100 cb-lst-itm cb-lst-itm-sm\"> <div>Pakistan vs Bangladesh, Match 43</div> <div class=\"cb-nws-time\"><span class=\"schedule-date\" timestamp=\"1562319000000\" venue=\"+01:00\" format=\"EEE MMM dd\"></span>&nbsp;&#8226;&nbsp;<span class=\"schedule-date\" timestamp=\"1562319000000\" venue=\"+01:00\" format=\"h:mm a\"></span>&nbsp;GMT</div> </div> <div class=\"cb-hm-mr-lnk\"> <a class=\"cb-font-12 cb-text-link\" href=\"/cricket-schedule/upcoming-series/international\" title=\"Cricket Schedule\"><i>More Matches..</i></a> </div> </div> </div> </div><div class=\"cb-col cb-col-47\"><div id=\"video_playlist\"> <script> CBQueue.push(function(){ if((_GEO.country == \"US\" || _GEO.country == \"CA\") && false){ _ele(\\'#video_playlist\\').html(\\'<div class=\"cb-bg-white\" style=\"margin:0 5px 10px;\"><div class=\"kaltura-playlist\" uiconf_id=\"33885652\" entry_id=\"0_lvphia47\" uiautoplay=\"false\" style=\"width:420px;height:385px;padding:10px 15px;\"></div></div>\\'); }else if([\"AE\",\"SA\",\"KW\",\"BH\",\"QA\",\"OM\",\"GB\"].indexOf(_GEO.country) != -1 && false){ var eplr = document.createElement(\\'script\\'); eplr.type = \\'text/javascript\\'; eplr.async = true; eplr.src = \\'https://player.performgroup.com/eplayer.js#ccb175de91b4f3c5c4bbed6a35.qjdsydmry69m1je82zk8il975\\'; var vpl = document.getElementById(\\'video_playlist\\'); vpl.className = \"cb-bg-white\"; vpl.style.margin = \"0px 5px 10px\"; vpl.appendChild(eplr); } }); </script></div><script>CBQueue.push(function(){\\tif(_GEO.country == \"US\" || _GEO.country == \"CA\"){\\t_ele(\\'#kaltura-video-player\\').removeClass(\\'disp-none\\');\\t}\\tif(_GEO.country == \"IN\" ){\\t_ele(\\'specials-home-module\\').removeClass(\\'disp-none\\');\\t}\\n});</script><div class=\"cb-col cb-hm-mid cb-bg-white cb-hmpage\" style=\"clear:both\"> <div class=\\'big-crd-main cb-bg-white\\'><div class=\"crd-cntxt\"><span>ICC CRICKET WORLD CUP, 2019</span></div><a href=\"/cricket-news/108770/when-discomfort-rekindled-the-bairstow-fire\" title=\"When discomfort rekindled the Bairstow fire\"><img\\theight=\"235\"\\twidth=\"420\" alt=\"when-discomfort-rekindled-the-bairstow-fire\" title=\"When discomfort rekindled the Bairstow fire\" itemprop =\"image\" src=\"/a/img/v1/420x235/i1/c176246/when-discomfort-rekindled-the.jpg\" /></a><h2 class=\"big-crd-hdln\"><a href=\"/cricket-news/108770/when-discomfort-rekindled-the-bairstow-fire\" title=\"When discomfort rekindled the Bairstow fire\"> When discomfort rekindled the Bairstow fire</a></h2><div class=\"cb-nws-intr\">He is the type who needs pressure on himself to thrive, and thrive he did against India to re-ignite England\\'s semis hopes</div><div class=\"big-crd-reltd-itm\"><a class=\"big-crd-rltd-txt\" href=\"/cricket-news/108764/bairstow-ton-pips-rohits-in-englands-crucial-win\" title=\"Bairstow ton pips Rohit\\'s in England\\'s crucial win\">Bairstow ton pips Rohit\\'s in England\\'s crucial win</a></div><div class=\"big-crd-reltd-itm\"><a class=\"big-crd-rltd-txt\" href=\"/cricket-news/108765/how-indias-bowling-coped-with-being-out-of-comfort-zone\" title=\"How India\\'s bowling coped with being out of comfort zone\">How India\\'s bowling coped with being out of comfort zone</a></div><div class=\"big-crd-reltd-itm\"><a class=\"big-crd-rltd-txt\" href=\"/cricket-news/108766/kohli-expresses-surprise-over-edgbaston-playing-conditions\" title=\"Kohli expresses surprise over Edgbaston playing conditions\">Kohli expresses surprise over Edgbaston playing conditions</a></div><div class=\"big-crd-reltd-itm\"><a class=\"big-crd-rltd-txt\" href=\"/cricket-news/108756/as-it-happened\" title=\"As it happened\">As it happened</a></div></div><div class=\\'big-crd-main cb-bg-white\\'><div class=\"crd-cntxt\"><span>ICC CRICKET WORLD CUP, 2019</span></div><a href=\"/cricket-news/108759/only-pride-to-play-for-in-sri-lanka-west-indies-clash\" title=\"Only pride to play for in Sri Lanka-West Indies clash\"><img\\theight=\"235\"\\twidth=\"420\" alt=\"only-pride-to-play-for-in-sri-lanka-west-indies-clash\" title=\"Only pride to play for in Sri Lanka-West Indies clash\" itemprop =\"image\" src=\"/a/img/v1/420x235/i1/c176101/only-pride-to-play-for-in-sri.jpg\" /></a><h2 class=\"big-crd-hdln\"><a href=\"/cricket-news/108759/only-pride-to-play-for-in-sri-lanka-west-indies-clash\" title=\"Only pride to play for in Sri Lanka-West Indies clash\"> Only pride to play for in Sri Lanka-West Indies clash</a></h2><div class=\"cb-nws-intr\">With England\\'s win over India knocking Sri Lanka out of contention for a semi-final spot, their clash against West Indies has been reduced to a dead rubber</div><div class=\"big-crd-reltd-itm\"><a class=\"big-crd-rltd-txt\" href=\"/cricket-news/108732/sri-lanka-switch-from-fifth-gear-to-reverse-in-double-quick-time\" title=\"Sri Lanka switch from fifth gear to reverse in double quick time\">Sri Lanka switch from fifth gear to reverse in double quick time</a></div><div class=\"big-crd-reltd-itm\"><a class=\"big-crd-rltd-txt\" href=\"/cricket-news/108739/nuwan-pradeep-out-of-remainder-of-world-cup-due-to-chickenpox\" title=\"Nuwan Pradeep out of remainder of World Cup due to Chickenpox\">Nuwan Pradeep out of remainder of World Cup due to Chickenpox</a></div><div class=\"big-crd-reltd-itm\"><a class=\"big-crd-rltd-txt\" href=\"/cricket-news/108760/world-cup-head-to-head-sri-lanka-vs-west-indies\" title=\"World Cup Head to Head: Sri Lanka vs West Indies\">World Cup Head to Head: Sri Lanka vs West Indies</a></div></div><div class=\\'big-crd-main cb-bg-white\\'><div class=\"crd-cntxt\"><span>2019 WORLD CUP</span></div><a href=\"/cricket-news/108753/new-zealand-get-sucked-into-time-warp-at-lords\" title=\"New Zealand get sucked into time warp at Lord\\'s\"><img\\theight=\"235\"\\twidth=\"420\" alt=\"new-zealand-get-sucked-into-time-warp-at-lords\" title=\"New Zealand get sucked into time warp at Lord&#39;s\" itemprop =\"image\" src=\"/a/img/v1/420x235/i1/c176032/new-zealand-get-sucked-into-ti.jpg\" /></a><h2 class=\"big-crd-hdln\"><a href=\"/cricket-news/108753/new-zealand-get-sucked-into-time-warp-at-lords\" title=\"New Zealand get sucked into time warp at Lord\\'s\"> New Zealand get sucked into time warp at Lord\\'s</a></h2><div class=\"cb-nws-intr\">In a game that seemed to have a throwback theme to it, Aaron Finch\\'s side showed the ruthlessness of the immensely successful Australian side from the 90s</div><div class=\"big-crd-reltd-itm\"><a class=\"big-crd-rltd-txt\" href=\"/live-cricket-scores/20273/nz-vs-aus-match-37\" title=\"Boult hat-trick overshadowed by Australia\\'s clinical show\">Boult hat-trick overshadowed by Australia\\'s clinical show</a></div><div class=\"big-crd-reltd-itm\"><a class=\"big-crd-rltd-txt\" href=\"/cricket-news/108749/australia-keep-new-zealand-waiting-on-semifinal-berth\" title=\"Australia keep New Zealand waiting on semifinal berth\">Report /\\tAustralia keep New Zealand waiting on semifinal berth</a></div><div class=\"big-crd-reltd-itm\"><a class=\"big-crd-rltd-txt\" href=\"/cricket-news/108757/records-dont-mean-much-if-we-dont-win-the-world-cup-starc\" title=\"Records don\\'t mean much if we don\\'t win the World Cup: Starc\">Records don\\'t mean much if we don\\'t win the World Cup: Starc</a></div></div><div class=\\'big-crd-main cb-bg-white\\'><div class=\"crd-cntxt\"><span>2019 WORLD CUP</span></div><a href=\"/cricket-news/108751/imad-wasim-rises-above-the-frenzy\" title=\"Imad Wasim rises above the frenzy\"><img\\theight=\"235\"\\twidth=\"420\" alt=\"imad-wasim-rises-above-the-frenzy\" title=\"Imad Wasim rises above the frenzy\" itemprop =\"image\" src=\"/a/img/v1/420x235/i1/c176030/imad-wasim-rises-above-the-fre.jpg\" /></a><h2 class=\"big-crd-hdln\"><a href=\"/cricket-news/108751/imad-wasim-rises-above-the-frenzy\" title=\"Imad Wasim rises above the frenzy\"> Imad Wasim rises above the frenzy</a></h2><div class=\"cb-nws-intr\">In a must-win game, the left-hander scored a 49 that proved to be as valuable as Haris Sohail\\'s 89 and Babar Azam\\'s 101 as Pakistan live to die another day</div><div class=\"big-crd-reltd-itm\"><a class=\"big-crd-rltd-txt\" href=\"/cricket-news/108752/riaz-overcomes-broken-finger-pressure-to-repay-captains-faith\" title=\"Riaz overcomes broken finger, pressure to repay captain\\'s faith\">Riaz overcomes broken finger, pressure to repay captain\\'s faith</a></div><div class=\"big-crd-reltd-itm\"><a class=\"big-crd-rltd-txt\" href=\"/cricket-news/108754/hamid-hassans-headingley-heartbreak\" title=\"Hamid Hassan\\'s Headingley heartbreak\">Hamid Hassan\\'s Headingley heartbreak</a></div><div class=\"big-crd-reltd-itm\"><a class=\"big-crd-rltd-txt\" href=\"/cricket-news/108746/imad-effort-helps-pakistan-sneak-into-top-4\" title=\"Imad effort helps Pakistan sneak into top 4\">Imad effort helps Pakistan sneak into top 4</a></div><div class=\"big-crd-reltd-itm\"><a class=\"big-crd-rltd-txt\" href=\"/cricket-news/108738/crowd-trouble-mars-headingley-thriller-after-scuffles-in-stands\" title=\"Crowd trouble mars Headingley thriller after scuffles in stands\">Crowd trouble mars Headingley thriller after scuffles in stands</a></div></div><div class=\"sml-crd-main\"><div class=\"crd-cntxt\">ICC CRICKET WORLD CUP 2019</div><div class=\"cb-col-33 cb-col\"><a href=\"/cricket-news/108762/training-the-tigers-to-pounce\" title=\"Training the Tigers to pounce\"><img\\theight=\"75\"\\twidth=\"135\"\\tclass=\"lazy-loading\" alt=\"training-the-tigers-to-pounce\" source=\"/a/img/v1/135x75/i1/c176156/training-the-tigers-to-pounce.jpg\" src=\"\" style=\"padding:0px;\"/></a></div><div class=\"cb-col-67 cb-col cb-hdln-hght\"><h3 class=\"sml-crd-hdln\"><a href=\"/cricket-news/108762/training-the-tigers-to-pounce\" title=\"Training the Tigers to pounce\">Training the Tigers to pounce</a></h3><div class=\"sml-crd-subtxt\">17h ago</div></div><div class=\"cb-nws-intr\">Neil McKenzie, Bangladesh batting coach, opens up about the technical and mental preparation that went into training the batsmen to play short-pitched deliveries</div> <div class=\"big-crd-reltd-itm\"> <a class=\"big-crd-rltd-txt\" href=\"/cricket-news/108748/mosaddek-hossain-bangladeshs-latest-jack-in-the-pack\" title=\"Mosaddek Hossain, Bangladesh\\'s \\'latest\\' jack in the pack\">Mosaddek Hossain, Bangladesh\\'s \\'latest\\' jack in the pack</a></div></div><div class=\"sml-crd-main\"><div class=\"crd-cntxt\">WORLD CUP 2019</div><div class=\"cb-col-33 cb-col\"><a href=\"/cricket-news/108720/no-plan-to-retire-immediately-after-world-cup-mortaza\" title=\"No plan to retire immediately after World Cup: Mortaza\"><img\\theight=\"75\"\\twidth=\"135\"\\tclass=\"lazy-loading\" alt=\"no-plan-to-retire-immediately-after-world-cup-mortaza\" source=\"/a/img/v1/135x75/i1/c175701/no-plan-to-retire-immediately.jpg\" src=\"\" style=\"padding:0px;\"/></a></div><div class=\"cb-col-67 cb-col cb-hdln-hght\"><h3 class=\"sml-crd-hdln\"><a href=\"/cricket-news/108720/no-plan-to-retire-immediately-after-world-cup-mortaza\" title=\"No plan to retire immediately after World Cup: Mortaza\">No plan to retire immediately after World Cup: Mortaza</a></h3><div class=\"sml-crd-subtxt\">2d ago</div></div><div class=\"cb-nws-intr\">The Bangladesh captain had earlier announced 2019 will be his last World Cup, adding fuel to the retirement speculations</div> <div class=\"big-crd-reltd-itm\"> <a class=\"big-crd-rltd-txt\" href=\"/cricket-news/108686/gayle-backtracks-on-odi-retirement-available-for-india-series\" title=\"Gayle backtracks on ODI retirement, available for India series\">Gayle backtracks on ODI retirement, available for India series</a></div></div><div class=\"sml-crd-main\"><div class=\"crd-cntxt\">CLIMBING HIGH</div><div class=\"cb-col-33 cb-col\"><a href=\"/cricket-news/108740/deepti-sharmas-stocks-keep-rising-higher-and-higher\" title=\"Deepti Sharma\\'s stocks keep rising higher and higher\"><img\\theight=\"75\"\\twidth=\"135\"\\tclass=\"lazy-loading\" alt=\"deepti-sharmas-stocks-keep-rising-higher-and-higher\" source=\"/a/img/v1/135x75/i1/c175874/deepti-sharmas-stocks-keep-ri.jpg\" src=\"\" style=\"padding:0px;\"/></a></div><div class=\"cb-col-67 cb-col cb-hdln-hght\"><h3 class=\"sml-crd-hdln\"><a href=\"/cricket-news/108740/deepti-sharmas-stocks-keep-rising-higher-and-higher\" title=\"Deepti Sharma\\'s stocks keep rising higher and higher\">Deepti Sharma\\'s stocks keep rising higher and higher</a></h3><div class=\"sml-crd-subtxt\">1d ago</div></div><div class=\"cb-nws-intr\">The Indian allrounder will be the fourth Indian to play in the WCSL - England\\'s T20 League.</div> <div class=\"big-crd-reltd-itm\"> <a class=\"big-crd-rltd-txt\" href=\"/cricket-news/108721/deepti-sharma-to-play-for-western-storm\" title=\"Deepti Sharma to play for Western Storm\">Deepti Sharma to play for Western Storm</a></div></div><div class=\"sml-crd-main\"><div class=\"crd-cntxt\">ZIMBABWE CRICKET MESS</div><div class=\"cb-col-33 cb-col\"><a href=\"/cricket-news/108758/zimbabwe-womens-tour-of-ireland-called-off\" title=\"Zimbabwe women\\'s tour of Ireland called off\"><img\\theight=\"75\"\\twidth=\"135\"\\tclass=\"lazy-loading\" alt=\"zimbabwe-womens-tour-of-ireland-called-off\" source=\"/a/img/v1/135x75/i1/c176088/zimbabwe-womens-tour-of-irela.jpg\" src=\"\" style=\"padding:0px;\"/></a></div><div class=\"cb-col-67 cb-col cb-hdln-hght\"><h3 class=\"sml-crd-hdln\"><a href=\"/cricket-news/108758/zimbabwe-womens-tour-of-ireland-called-off\" title=\"Zimbabwe women\\'s tour of Ireland called off\">Zimbabwe women\\'s tour of Ireland called off</a></h3><div class=\"sml-crd-subtxt\">20h ago</div></div><div class=\"cb-nws-intr\">ZImbabwe Cricket cited funding issues as the reason for pulling out of the tour</div> </div><div class=\\'big-crd-main cb-bg-white\\'><div class=\"crd-cntxt\"><span>WHAT\\'S THE BUZZ</span></div><a href=\"/cricket-news/108171/world-cup-pulse\" title=\"World Cup Pulse\"><img\\theight=\"235\"\\twidth=\"420\" alt=\"world-cup-pulse\" title=\"World Cup Pulse\" itemprop =\"image\" src=\"/a/img/v1/420x235/i1/c170196/world-cup-pulse.jpg\" /></a><h2 class=\"big-crd-hdln\"><a href=\"/cricket-news/108171/world-cup-pulse\" title=\"World Cup Pulse\"> World Cup Pulse</a></h2><div class=\"cb-nws-intr\">All that\\'s happening on and off the field at the 2019 World Cup in England & Wales</div></div><div class=\"sml-crd-main\"><div class=\"crd-cntxt\">WOMEN\\'S ASHES 2019</div><div class=\"cb-col-33 cb-col\"><a href=\"/cricket-news/108750/fran-wilson-in-england-squad-for-first-ashes-one-dayer\" title=\"Fran Wilson in England squad for first Ashes one-dayer\"><img\\theight=\"75\"\\twidth=\"135\"\\tclass=\"lazy-loading\" alt=\"fran-wilson-in-england-squad-for-first-ashes-one-dayer\" source=\"/a/img/v1/135x75/i1/c176011/fran-wilson-in-england-squad-f.jpg\" src=\"\" style=\"padding:0px;\"/></a></div><div class=\"cb-col-67 cb-col cb-hdln-hght\"><h3 class=\"sml-crd-hdln\"><a href=\"/cricket-news/108750/fran-wilson-in-england-squad-for-first-ashes-one-dayer\" title=\"Fran Wilson in England squad for first Ashes one-dayer\">Fran Wilson in England squad for first Ashes one-dayer</a></h3><div class=\"sml-crd-subtxt\">1d ago</div></div><div class=\"cb-nws-intr\">Veteran all-rounder Jenny Gunn and Lauren Winfield too find a place in the 14-member squad</div> </div><div class=\"sml-crd-main\"><div class=\"crd-cntxt\">OUTSIDE THE CIRCLE</div><div class=\"cb-col-33 cb-col\"><a href=\"/cricket-news/108716/much-ado-about-numbers\" title=\"Much ado about numbers\"><img\\theight=\"75\"\\twidth=\"135\"\\tclass=\"lazy-loading\" alt=\"much-ado-about-numbers\" source=\"/a/img/v1/135x75/i1/c175661/much-ado-about-numbers.jpg\" src=\"\" style=\"padding:0px;\"/></a></div><div class=\"cb-col-67 cb-col cb-hdln-hght\"><h3 class=\"sml-crd-hdln\"><a href=\"/cricket-news/108716/much-ado-about-numbers\" title=\"Much ado about numbers\">Much ado about numbers</a></h3><div class=\"sml-crd-subtxt\">3d ago</div></div><div class=\"cb-nws-intr\">Remarkable results away from the World Cup prompt controversy</div> </div><div class=\"sml-crd-main\"><div class=\"crd-cntxt\">SOUTH AFRICA A TOUR OF INDIA</div><div class=\"cb-col-33 cb-col\"><a href=\"/cricket-news/108745/aiden-markram-and-temba-bavuma-to-lead-a-sides-in-india\" title=\"Aiden Markram and Temba Bavuma to lead \\'A\\' sides in India\"><img\\theight=\"75\"\\twidth=\"135\"\\tclass=\"lazy-loading\" alt=\"aiden-markram-and-temba-bavuma-to-lead-a-sides-in-india\" source=\"/a/img/v1/135x75/i1/c175953/aiden-markram-and-temba-bavuma.jpg\" src=\"\" style=\"padding:0px;\"/></a></div><div class=\"cb-col-67 cb-col cb-hdln-hght\"><h3 class=\"sml-crd-hdln\"><a href=\"/cricket-news/108745/aiden-markram-and-temba-bavuma-to-lead-a-sides-in-india\" title=\"Aiden Markram and Temba Bavuma to lead \\'A\\' sides in India\">Aiden Markram and Temba Bavuma to lead \\'A\\' sides in India</a></h3><div class=\"sml-crd-subtxt\">1d ago</div></div><div class=\"cb-nws-intr\">South Africa A will play five one-dayers and two four-day games</div> </div></div></div><div class=\"cb-col cb-col-33\"> <div class=\"cb-col cb-col-100 cb-hm-rt-itm cb-bg-white\"> <div id=\"mpu\" class=\"ad-unit center-block \" style=\"min-height: 250px;\"></div> </div> <div id=\"strip_320x50\" class=\"ad-unit\"></div> <div class=\"cb-col cb-col-100 cb-hm-rt-itm cb-bg-white\" id=\"latest-vid-mod\" gtm-label=\\'Homepage\\'> <h4 class=\"cb-mdl-hdr\">FEATURED VIDEOS</h4> <div class=\"cb-col cb-col-100 cb-mid-wrp\"> <a target=\"_self\" href=\"/cricket-videos/39751/sri-lanka-vs-west-indies-match-39-preview\" class=\"suggested-video-gtm\" gtm-label=\"Sri Lanka vs West Indies, Match 39: Preview |39751\" title=\"Sri Lanka vs West Indies, Match 39: Preview \" > <div class=\"cb-pos-rel\"> <img class=\"cb-suggested-vid-img suggested-video-gtm\" gtm-label=\"Sri Lanka vs West Indies, Match 39: Preview |39751\" alt=\"Sri Lanka vs West Indies, Match 39: Preview \" gtm-label=\"Sri Lanka vs West Indies, Match 39: Preview |39751\" title=\"Sri Lanka vs West Indies, Match 39: Preview \" src=\"/a/img/v1/290x164/i1/c176238/sri-lanka-vs-west-indies-matc.jpg\" height=\"164\" width=\"290\" /> <div class=\\'cb-vid-duration\\'>5:06</div> <div class=\"cb-cen\"> <div class=\"cb-vid-sm-ply-api\">&#9658;</div> </div> </div> <h4 class=\"text-hvr-underline suggested-video-gtm\" gtm-label=\"Sri Lanka vs West Indies, Match 39: Preview |39751\">Sri Lanka vs West Indies, Match 39: Preview </h4> </a> <div class=\"cb-nws-time\">\\t12h ago </div> </div> <div class=\"cb-col cb-col-100 cb-mid-wrp\"> <a target=\"_self\" href=\"/cricket-videos/39753/englands-ploy-of-taking-pace-off-the-ball-disallowed-dhoni-to-launch-zaheer-khan\" class=\"suggested-video-gtm\" gtm-label=\"England&#39;s ploy of taking pace off the ball disallowed Dhoni to launch - Zaheer Khan|39753\" title=\"England&#39;s ploy of taking pace off the ball disallowed Dhoni to launch - Zaheer Khan\" > <div class=\"cb-pos-rel\"> <img class=\"cb-suggested-vid-img suggested-video-gtm\" gtm-label=\"England&#39;s ploy of taking pace off the ball disallowed Dhoni to launch - Zaheer Khan|39753\" alt=\"England&#39;s ploy of taking pace off the ball disallowed Dhoni to launch - Zaheer Khan\" gtm-label=\"England&#39;s ploy of taking pace off the ball disallowed Dhoni to launch - Zaheer Khan|39753\" title=\"England&#39;s ploy of taking pace off the ball disallowed Dhoni to launch - Zaheer Khan\" src=\"/a/img/v1/290x164/i1/c176241/englands-ploy-of-taking-pace.jpg\" height=\"164\" width=\"290\" /> <div class=\\'cb-vid-duration\\'>2:16</div> <div class=\"cb-cen\"> <div class=\"cb-vid-sm-ply-api\">&#9658;</div> </div> </div> <h4 class=\"text-hvr-underline suggested-video-gtm\" gtm-label=\"England&#39;s ploy of taking pace off the ball disallowed Dhoni to launch - Zaheer Khan|39753\">England\\'s ploy of taking pace off the ball disallowed Dhoni to launch - Zaheer Khan</h4> </a> <div class=\"cb-nws-time\">\\t12h ago </div> </div> <div class=\"cb-col cb-col-100 cb-mid-wrp\"> <a target=\"_self\" href=\"/cricket-videos/39749/sri-lanka-v-west-indies-match-39-preview-hindi\" class=\"suggested-video-gtm\" gtm-label=\"à¤¶à¥\\x8dà¤°à¥\\x80à¤²à¤\\x82à¤\\x95à¤¾ v à¤µà¥\\x87à¤¸à¥\\x8dà¤\\x9fà¤\\x87à¤\\x82à¤¡à¥\\x80à¤\\x9cà¤¼, à¤®à¥\\x88à¤\\x9a 39: à¤ªà¥\\x8dà¤°à¥\\x80à¤µà¥\\x8dà¤¯à¥\\x82|39749\" title=\"à¤¶à¥\\x8dà¤°à¥\\x80à¤²à¤\\x82à¤\\x95à¤¾ v à¤µà¥\\x87à¤¸à¥\\x8dà¤\\x9fà¤\\x87à¤\\x82à¤¡à¥\\x80à¤\\x9cà¤¼, à¤®à¥\\x88à¤\\x9a 39: à¤ªà¥\\x8dà¤°à¥\\x80à¤µà¥\\x8dà¤¯à¥\\x82\" > <div class=\"cb-pos-rel\"> <img class=\"cb-suggested-vid-img suggested-video-gtm\" gtm-label=\"à¤¶à¥\\x8dà¤°à¥\\x80à¤²à¤\\x82à¤\\x95à¤¾ v à¤µà¥\\x87à¤¸à¥\\x8dà¤\\x9fà¤\\x87à¤\\x82à¤¡à¥\\x80à¤\\x9cà¤¼, à¤®à¥\\x88à¤\\x9a 39: à¤ªà¥\\x8dà¤°à¥\\x80à¤µà¥\\x8dà¤¯à¥\\x82|39749\" alt=\"à¤¶à¥\\x8dà¤°à¥\\x80à¤²à¤\\x82à¤\\x95à¤¾ v à¤µà¥\\x87à¤¸à¥\\x8dà¤\\x9fà¤\\x87à¤\\x82à¤¡à¥\\x80à¤\\x9cà¤¼, à¤®à¥\\x88à¤\\x9a 39: à¤ªà¥\\x8dà¤°à¥\\x80à¤µà¥\\x8dà¤¯à¥\\x82\" gtm-label=\"à¤¶à¥\\x8dà¤°à¥\\x80à¤²à¤\\x82à¤\\x95à¤¾ v à¤µà¥\\x87à¤¸à¥\\x8dà¤\\x9fà¤\\x87à¤\\x82à¤¡à¥\\x80à¤\\x9cà¤¼, à¤®à¥\\x88à¤\\x9a 39: à¤ªà¥\\x8dà¤°à¥\\x80à¤µà¥\\x8dà¤¯à¥\\x82|39749\" title=\"à¤¶à¥\\x8dà¤°à¥\\x80à¤²à¤\\x82à¤\\x95à¤¾ v à¤µà¥\\x87à¤¸à¥\\x8dà¤\\x9fà¤\\x87à¤\\x82à¤¡à¥\\x80à¤\\x9cà¤¼, à¤®à¥\\x88à¤\\x9a 39: à¤ªà¥\\x8dà¤°à¥\\x80à¤µà¥\\x8dà¤¯à¥\\x82\" src=\"/a/img/v1/290x164/i1/c176236/sri-lanka-v-west-indies-match.jpg\" height=\"164\" width=\"290\" /> <div class=\\'cb-vid-duration\\'>7:00</div> <div class=\"cb-cen\"> <div class=\"cb-vid-sm-ply-api\">&#9658;</div> </div> </div> <h4 class=\"text-hvr-underline suggested-video-gtm\" gtm-label=\"à¤¶à¥\\x8dà¤°à¥\\x80à¤²à¤\\x82à¤\\x95à¤¾ v à¤µà¥\\x87à¤¸à¥\\x8dà¤\\x9fà¤\\x87à¤\\x82à¤¡à¥\\x80à¤\\x9cà¤¼, à¤®à¥\\x88à¤\\x9a 39: à¤ªà¥\\x8dà¤°à¥\\x80à¤µà¥\\x8dà¤¯à¥\\x82|39749\">à¤¶à¥\\x8dà¤°à¥\\x80à¤²à¤\\x82à¤\\x95à¤¾ v à¤µà¥\\x87à¤¸à¥\\x8dà¤\\x9fà¤\\x87à¤\\x82à¤¡à¥\\x80à¤\\x9cà¤¼, à¤®à¥\\x88à¤\\x9a 39: à¤ªà¥\\x8dà¤°à¥\\x80à¤µà¥\\x8dà¤¯à¥\\x82</h4> </a> <div class=\"cb-nws-time\">\\t13h ago </div> </div> <div class=\"cb-col cb-col-100 cb-more-btn-cntnr\"> <a target=\"_self\" title =\"Click to view more videos\" href=\"/cricket-videos\" class=\"cb-more-btn\" role=\"button\">More Videos</a> </div> </div> <div class=\"cb-col cb-col-100 cb-hm-rt-itm cb-bg-white\"> <div id=\"mpu2\" class=\"ad-unit center-block\"></div> </div> <div class=\"cb-col cb-col-100 cb-hm-rt-itm cb-bg-white\"> <h4 class=\"cb-mdl-hdr\">Specials</h4> <div class=\"cb-col cb-col-100 cb-mid-wrp\"><a href=\"/cricket-news/108699/icc-cricket-world-cup-2019-new-zealand-craig-mcmillan-interview\" title=\"Craig McMillan - The batting innovator long before the T20 era\"><img class=\"cb-vid-img\" alt=\"Craig McMillan - The batting innovator long before the T20 era\" src=\"/i/news/fth/303x170/images/homepage/qck_1561594068.jpeg\" height=\"170\" width=\"303\"/><h4 class=\"text-hvr-underline\">Craig McMillan - The batting innovator long before the T20 era</h4></a><div class=\"cb-nws-intr\">The former New Zealand cricketer opens up about his playing days, the joy of playing against spin, facing Warne and McGrath and so much more</div></div><div class=\"cb-col cb-col-100 cb-mid-wrp\"><a href=\"/cricket-news/108667/the-indian-constant-in-mushtaq-mohammads-memory-trail\" title=\"The Indian constant in Mushtaq Mohammad\\'s memory trail\"><img class=\"cb-vid-img\" alt=\"The Indian constant in Mushtaq Mohammad\\'s memory trail\" src=\"/i/news/fth/303x170/images/homepage/qck_1561526653.jpeg\" height=\"170\" width=\"303\"/><h4 class=\"text-hvr-underline\">The Indian constant in Mushtaq Mohammad\\'s memory trail</h4></a><div class=\"cb-nws-intr\">Mushtaq Mohammad opens up about the Indian influences through his journey, his love for classical music, a chance meeting with Lata Mangeshkar and more in an exclusive chat</div></div><div class=\"cb-col cb-col-100 cb-mid-wrp\"><a href=\"/cricket-news/108602/afghanistan-pacer-hamid-hassans-promise-kept-as-he-embarks-on-last-lap\" title=\"Hamid Hassan\\'s promise kept as he embarks on last lap\"><img class=\"cb-vid-img\" alt=\"Hamid Hassan\\'s promise kept as he embarks on last lap\" src=\"/i/news/fth/303x170/images/homepage/qck_1561117801.jpeg\" height=\"170\" width=\"303\"/><h4 class=\"text-hvr-underline\">Hamid Hassan\\'s promise kept as he embarks on last lap</h4></a><div class=\"cb-nws-intr\">The Afghanistan pacer has battled through hurdles aplenty to live his World Cup dream, including a career-threatening injury a few years ago</div></div><div class=\"cb-col cb-col-100 cb-mid-wrp\"><a href=\"/cricket-news/108580/wahab-riaz-jofra-archer-faf-du-plessis-angelo-mathews-steve-smith-when-world-cup-stars-played-club-cricke\" title=\"When World Cup stars played club cricket\"><img class=\"cb-vid-img\" alt=\"When World Cup stars played club cricket\" src=\"/i/news/fth/303x170/images/homepage/qck_1561022281.jpeg\" height=\"170\" width=\"303\"/><h4 class=\"text-hvr-underline\">When World Cup stars played club cricket</h4></a><div class=\"cb-nws-intr\">The days when every great cricketer played in English league cricket may be gone, but there are still some at this World Cup who had such a stint. We speak to those who played with them</div></div><div class=\"cb-col cb-col-100 cb-mid-wrp\"><a href=\"/cricket-news/108598/2019-world-cup-joe-root-grandfather-don-root-don-bradman\" title=\"In conversation with grandpa Root\"><img class=\"cb-vid-img\" alt=\"In conversation with grandpa Root\" src=\"/i/news/fth/303x170/images/homepage/qck_1561083998.jpeg\" height=\"170\" width=\"303\"/><h4 class=\"text-hvr-underline\">In conversation with grandpa Root</h4></a><div class=\"cb-nws-intr\">Don, the 83-year-old grandfather of Joe Root, talks about seeing Bradman live as a 14-year-old, and now spending his retired life watching cricket</div></div> </div> <div class=\"cb-col cb-col-100 cb-hm-rt-itm cb-bg-white\"> <div id=\"mpu3\" class=\"ad-unit center-block\"></div> </div> </div> <span id=\"skin_right\" class=\"ad-unit\" style=\"overflow:hidden;position:fixed;top:0;left:calc(50% + 490px);margin-left:3px;z-index:-99;\"></span></div></div><div ng-cloak ng-if=\\'$root.$GEO.continent == \"EU\"\\'><div class=\"feedback-bar text-center cb-col-100 disp-none feedback-menu\" id=\"feedback-bar\" ng-controller=\"FeedbackCtrl\"\\tng-init=\"show_feedback_menu();\"><span class=\"feedback-txt\">We use cookies to improve your experience on our site and to show you non-personalized ads. Find out more in our <a style=\"color:#4A90E2;\" href=\"/info/privacy\">privacy policy</a> and <a style=\"color:#4A90E2;\" href=\"/info/privacy#cookie_policy\">cookie policy</a></span><button class=\"cb-feedback-btn blue-btn cb-cursor\" id=\"close_feedback_btn\" ng-click=\"close_feedback();\">OK</button></div></div><footer id=\"FooterWraper\" itemscope itemtype=\"http://schema.org/WPFooter\" ><div class=\"cb-footer cb-col-100 cb-col\"><div class=\\'cb-ftr-cntnr\\'><div class=\"cb-col-25 cb-col\"><a class=\"center-block\" href=\"/\"><div class=\"cb-ftr-logo cb-ico\"></div></a></div><div class=\"cb-col-25 cb-col\"><div class=\"text-left cb-font-16 text-bold\">MOBILE SITE & APPS</div><ul class=\"cb-ftr-ul\"><li class=\"cb-ftr-lst\"><a href=\"https://m.cricbuzz.com\" class=\"text-white\"><span class=\"cb-mobile-site cb-ico\"></span><span class=\"cb-footer-list-rt\">m.cricbuzz.com</span></a></li><li class=\"cb-ftr-lst\"><a class=\"text-white\" href=\"https://play.google.com/store/apps/details?id=com.cricbuzz.android\" target=\"_blank\"><span class=\"cb-app-android cb-ico\"></span><span class=\"cb-footer-list-rt\">Android</span></a></li><li class=\"cb-ftr-lst\"><a class=\"text-white\" href=\"https://itunes.apple.com/app/id360466413\" target=\"_blank\"><span class=\"cb-app-ios cb-ico\"></span><span class=\"cb-footer-list-rt\">iOS</span></a></li></ul></div><div class=\"cb-col-25 cb-col\"><div class=\"text-left cb-font-16 text-bold\">FOLLOW US ON</div><ul class=\"cb-ftr-ul\"><li class=\"cb-ftr-lst\"><a class=\"text-white\" href=\"https://www.facebook.com/cricbuzz\" target=\"_blank\"><span class=\"cb-social-fb cb-ico\"></span><span class=\"cb-footer-list-rt\">facebook</span></a></li><li class=\"cb-ftr-lst\"><a class=\"text-white\" href=\"https://twitter.com/cricbuzz\" target=\"_blank\"><span class=\"cb-social-twitter cb-ico\"></span><span class=\"cb-footer-list-rt\">twitter</span></a></li><li class=\"cb-ftr-lst\"><a class=\"text-white\" href=\"https://www.youtube.com/channel/UCSRQXk5yErn4e14vN76upOw\" target=\"_blank\"><span class=\"cb-social-ytbe cb-ico\"></span><span class=\"cb-footer-list-rt\">youtube</span></a></li><li class=\"cb-ftr-lst\"><a class=\"text-white\" href=\"https://in.pinterest.com/cricbuzz/\" target=\"_blank\"><span class=\"cb-social-pinterest cb-ico\"></span><span class=\"cb-footer-list-rt\">Pinterest</span></a></li></ul></div><div class=\"cb-col-25 cb-col\"><div class=\"text-left cb-font-16 text-bold\">COMPANY</div><ul class=\"cb-ftr-ul\"><li class=\"cb-ftr-lst\"><a class=\"text-white\" href=\"/careers\">Careers</a></li><li class=\"cb-ftr-lst\"><a class=\"text-white\" href=\"/info/advertise\">Advertise</a></li><li class=\"cb-ftr-lst\"><a class=\"text-white\" rel=\"nofollow\" href=\"/info/privacy\">Privacy Policy</a></li><li class=\"cb-ftr-lst\"><a class=\"text-white\" rel=\"nofollow\" href=\"/info/termsofuse\">Terms of Use</a></li><li class=\"cb-ftr-lst\"><a class=\"text-white\" href=\"/product-blog/cricbuzz-mobile-apps-tv-ad-cricket-ka-keeda\">Cricbuzz TV Ads</a></li></ul></div><div class=\\'cb-col-100 cb-col cb-ftr-cpyrght\\'>&copy; 2019 Cricbuzz.com, Times Internet Limited. All rights reserved | <a class=\\'cb-ftr-cpyrght text-hvr-underline\\' href=\"http://timesofindia.indiatimes.com/\" target=\"_blank\">The Times of India</a> | <a href=\"http://navbharattimes.indiatimes.com/\" target=\"_blank\" class=\\'cb-ftr-cpyrght text-hvr-underline\\'>Navbharat Times</a></div></div></div></footer><script type=\"text/javascript\">var script_tag = document.getElementsByTagName(\\'script\\')[0];\\t(function() {\\tvar cmin = document.createElement(\\'script\\'); cmin.type = \\'text/javascript\\'; cmin.async = true;\\tcmin.src = \\'/dist/js/cricbuzz.min.6501.js\\';\\tscript_tag.parentNode.insertBefore(cmin, script_tag);\\t})();</script><noscript><iframe src=\"//www.googletagmanager.com/ns.html?id=GTM-PGNCT7\"\\theight=\"0\" width=\"0\" style=\"display:none;visibility:hidden\"></iframe></noscript><script>(function(w,d,s,l,i){w[l]=w[l]||[];w[l].push({\\'gtm.start\\':\\tnew Date().getTime(),event:\\'gtm.js\\'});var f=d.getElementsByTagName(s)[0],\\tj=d.createElement(s),dl=l!=\\'dataLayer\\'?\\'&l=\\'+l:\\'\\';j.async=true;j.src=\\t\\'//www.googletagmanager.com/gtm.js?id=\\'+i+dl;f.parentNode.insertBefore(j,f);\\t})(window,document,\\'script\\',\\'dataLayer\\',\\'GTM-PGNCT7\\');</script><script>window.onerror = function(message, file, line) {\\tvar sFormattedMessage = \\'[\\' + file + \\' (\\' + line + \\')] \\' + message;\\tdataLayer.push({\\'EventAction\\': \"Application\",\\'EventLabel\\': sFormattedMessage,\\'event\\': \\'Exceptions\\'});\\t}</script> </body></html>'"
      ]
     },
     "execution_count": 6,
     "metadata": {},
     "output_type": "execute_result"
    }
   ],
   "source": [
    "url.text"
   ]
  },
  {
   "cell_type": "code",
   "execution_count": 1,
   "metadata": {},
   "outputs": [],
   "source": [
    "from textblob import TextBlob"
   ]
  },
  {
   "cell_type": "code",
   "execution_count": 2,
   "metadata": {},
   "outputs": [
    {
     "data": {
      "text/plain": [
       "Sentiment(polarity=0.8, subjectivity=1.0)"
      ]
     },
     "execution_count": 2,
     "metadata": {},
     "output_type": "execute_result"
    }
   ],
   "source": [
    "b = TextBlob('hey i am happy')\n",
    "b.sentiment"
   ]
  },
  {
   "cell_type": "code",
   "execution_count": 4,
   "metadata": {},
   "outputs": [
    {
     "ename": "SyntaxError",
     "evalue": "invalid syntax (<ipython-input-4-56604343f097>, line 2)",
     "output_type": "error",
     "traceback": [
      "\u001b[1;36m  File \u001b[1;32m\"<ipython-input-4-56604343f097>\"\u001b[1;36m, line \u001b[1;32m2\u001b[0m\n\u001b[1;33m    Traceback (most recent call last):\u001b[0m\n\u001b[1;37m                         ^\u001b[0m\n\u001b[1;31mSyntaxError\u001b[0m\u001b[1;31m:\u001b[0m invalid syntax\n"
     ]
    }
   ],
   "source": [
    " b = textBlob('i am not happy')\n",
    "Traceback (most recent call last):\n",
    "     File \"<stdin>\", line 1, in <module>"
   ]
  },
  {
   "cell_type": "code",
   "execution_count": 5,
   "metadata": {},
   "outputs": [
    {
     "data": {
      "text/plain": [
       "Sentiment(polarity=-0.4, subjectivity=1.0)"
      ]
     },
     "execution_count": 5,
     "metadata": {},
     "output_type": "execute_result"
    }
   ],
   "source": [
    "b = TextBlob('i am not happy')\n",
    "b\n",
    "TextBlob(\"i am not happy\")\n",
    "b.sentiment"
   ]
  },
  {
   "cell_type": "code",
   "execution_count": 6,
   "metadata": {},
   "outputs": [
    {
     "name": "stdout",
     "output_type": "stream",
     "text": [
      "i\n",
      " \n",
      "a\n",
      "m\n",
      " \n",
      "n\n",
      "o\n",
      "t\n",
      " \n",
      "h\n",
      "a\n",
      "p\n",
      "p\n",
      "y\n"
     ]
    }
   ],
   "source": [
    "for i in b:\n",
    "...     print(i)\n",
    "... "
   ]
  },
  {
   "cell_type": "code",
   "execution_count": 9,
   "metadata": {},
   "outputs": [
    {
     "name": "stdout",
     "output_type": "stream",
     "text": [
      "\n",
      "**********************************************************************\n",
      "  Resource \u001b[93mpunkt\u001b[0m not found.\n",
      "  Please use the NLTK Downloader to obtain the resource:\n",
      "\n",
      "  \u001b[31m>>> import nltk\n",
      "  >>> nltk.download('punkt')\n",
      "  \u001b[0m\n",
      "  Attempted to load \u001b[93mtokenizers/punkt/english.pickle\u001b[0m\n",
      "\n",
      "  Searched in:\n",
      "    - 'C:\\\\Users\\\\db2admin/nltk_data'\n",
      "    - 'C:\\\\ProgramData\\\\Anaconda3\\\\nltk_data'\n",
      "    - 'C:\\\\ProgramData\\\\Anaconda3\\\\share\\\\nltk_data'\n",
      "    - 'C:\\\\ProgramData\\\\Anaconda3\\\\lib\\\\nltk_data'\n",
      "    - 'C:\\\\Users\\\\db2admin\\\\AppData\\\\Roaming\\\\nltk_data'\n",
      "    - 'C:\\\\nltk_data'\n",
      "    - 'D:\\\\nltk_data'\n",
      "    - 'E:\\\\nltk_data'\n",
      "    - ''\n",
      "**********************************************************************\n",
      "\n"
     ]
    },
    {
     "ename": "MissingCorpusError",
     "evalue": "\nLooks like you are missing some required data for this feature.\n\nTo download the necessary data, simply run\n\n    python -m textblob.download_corpora\n\nor use the NLTK downloader to download the missing data: http://nltk.org/data.html\nIf this doesn't fix the problem, file an issue at https://github.com/sloria/TextBlob/issues.\n",
     "output_type": "error",
     "traceback": [
      "\u001b[1;31m---------------------------------------------------------------------------\u001b[0m",
      "\u001b[1;31mLookupError\u001b[0m                               Traceback (most recent call last)",
      "\u001b[1;32mC:\\ProgramData\\Anaconda3\\lib\\site-packages\\textblob\\decorators.py\u001b[0m in \u001b[0;36mdecorated\u001b[1;34m(*args, **kwargs)\u001b[0m\n\u001b[0;32m     34\u001b[0m         \u001b[1;32mtry\u001b[0m\u001b[1;33m:\u001b[0m\u001b[1;33m\u001b[0m\u001b[1;33m\u001b[0m\u001b[0m\n\u001b[1;32m---> 35\u001b[1;33m             \u001b[1;32mreturn\u001b[0m \u001b[0mfunc\u001b[0m\u001b[1;33m(\u001b[0m\u001b[1;33m*\u001b[0m\u001b[0margs\u001b[0m\u001b[1;33m,\u001b[0m \u001b[1;33m**\u001b[0m\u001b[0mkwargs\u001b[0m\u001b[1;33m)\u001b[0m\u001b[1;33m\u001b[0m\u001b[1;33m\u001b[0m\u001b[0m\n\u001b[0m\u001b[0;32m     36\u001b[0m         \u001b[1;32mexcept\u001b[0m \u001b[0mLookupError\u001b[0m \u001b[1;32mas\u001b[0m \u001b[0merr\u001b[0m\u001b[1;33m:\u001b[0m\u001b[1;33m\u001b[0m\u001b[1;33m\u001b[0m\u001b[0m\n",
      "\u001b[1;32mC:\\ProgramData\\Anaconda3\\lib\\site-packages\\textblob\\tokenizers.py\u001b[0m in \u001b[0;36mtokenize\u001b[1;34m(self, text)\u001b[0m\n\u001b[0;32m     56\u001b[0m         \u001b[1;34m'''Return a list of sentences.'''\u001b[0m\u001b[1;33m\u001b[0m\u001b[1;33m\u001b[0m\u001b[0m\n\u001b[1;32m---> 57\u001b[1;33m         \u001b[1;32mreturn\u001b[0m \u001b[0mnltk\u001b[0m\u001b[1;33m.\u001b[0m\u001b[0mtokenize\u001b[0m\u001b[1;33m.\u001b[0m\u001b[0msent_tokenize\u001b[0m\u001b[1;33m(\u001b[0m\u001b[0mtext\u001b[0m\u001b[1;33m)\u001b[0m\u001b[1;33m\u001b[0m\u001b[1;33m\u001b[0m\u001b[0m\n\u001b[0m\u001b[0;32m     58\u001b[0m \u001b[1;33m\u001b[0m\u001b[0m\n",
      "\u001b[1;32mC:\\ProgramData\\Anaconda3\\lib\\site-packages\\nltk\\tokenize\\__init__.py\u001b[0m in \u001b[0;36msent_tokenize\u001b[1;34m(text, language)\u001b[0m\n\u001b[0;32m    103\u001b[0m     \"\"\"\n\u001b[1;32m--> 104\u001b[1;33m     \u001b[0mtokenizer\u001b[0m \u001b[1;33m=\u001b[0m \u001b[0mload\u001b[0m\u001b[1;33m(\u001b[0m\u001b[1;34m'tokenizers/punkt/{0}.pickle'\u001b[0m\u001b[1;33m.\u001b[0m\u001b[0mformat\u001b[0m\u001b[1;33m(\u001b[0m\u001b[0mlanguage\u001b[0m\u001b[1;33m)\u001b[0m\u001b[1;33m)\u001b[0m\u001b[1;33m\u001b[0m\u001b[1;33m\u001b[0m\u001b[0m\n\u001b[0m\u001b[0;32m    105\u001b[0m     \u001b[1;32mreturn\u001b[0m \u001b[0mtokenizer\u001b[0m\u001b[1;33m.\u001b[0m\u001b[0mtokenize\u001b[0m\u001b[1;33m(\u001b[0m\u001b[0mtext\u001b[0m\u001b[1;33m)\u001b[0m\u001b[1;33m\u001b[0m\u001b[1;33m\u001b[0m\u001b[0m\n",
      "\u001b[1;32mC:\\ProgramData\\Anaconda3\\lib\\site-packages\\nltk\\data.py\u001b[0m in \u001b[0;36mload\u001b[1;34m(resource_url, format, cache, verbose, logic_parser, fstruct_reader, encoding)\u001b[0m\n\u001b[0;32m    867\u001b[0m     \u001b[1;31m# Load the resource.\u001b[0m\u001b[1;33m\u001b[0m\u001b[1;33m\u001b[0m\u001b[1;33m\u001b[0m\u001b[0m\n\u001b[1;32m--> 868\u001b[1;33m     \u001b[0mopened_resource\u001b[0m \u001b[1;33m=\u001b[0m \u001b[0m_open\u001b[0m\u001b[1;33m(\u001b[0m\u001b[0mresource_url\u001b[0m\u001b[1;33m)\u001b[0m\u001b[1;33m\u001b[0m\u001b[1;33m\u001b[0m\u001b[0m\n\u001b[0m\u001b[0;32m    869\u001b[0m \u001b[1;33m\u001b[0m\u001b[0m\n",
      "\u001b[1;32mC:\\ProgramData\\Anaconda3\\lib\\site-packages\\nltk\\data.py\u001b[0m in \u001b[0;36m_open\u001b[1;34m(resource_url)\u001b[0m\n\u001b[0;32m    992\u001b[0m     \u001b[1;32mif\u001b[0m \u001b[0mprotocol\u001b[0m \u001b[1;32mis\u001b[0m \u001b[1;32mNone\u001b[0m \u001b[1;32mor\u001b[0m \u001b[0mprotocol\u001b[0m\u001b[1;33m.\u001b[0m\u001b[0mlower\u001b[0m\u001b[1;33m(\u001b[0m\u001b[1;33m)\u001b[0m \u001b[1;33m==\u001b[0m \u001b[1;34m'nltk'\u001b[0m\u001b[1;33m:\u001b[0m\u001b[1;33m\u001b[0m\u001b[1;33m\u001b[0m\u001b[0m\n\u001b[1;32m--> 993\u001b[1;33m         \u001b[1;32mreturn\u001b[0m \u001b[0mfind\u001b[0m\u001b[1;33m(\u001b[0m\u001b[0mpath_\u001b[0m\u001b[1;33m,\u001b[0m \u001b[0mpath\u001b[0m \u001b[1;33m+\u001b[0m \u001b[1;33m[\u001b[0m\u001b[1;34m''\u001b[0m\u001b[1;33m]\u001b[0m\u001b[1;33m)\u001b[0m\u001b[1;33m.\u001b[0m\u001b[0mopen\u001b[0m\u001b[1;33m(\u001b[0m\u001b[1;33m)\u001b[0m\u001b[1;33m\u001b[0m\u001b[1;33m\u001b[0m\u001b[0m\n\u001b[0m\u001b[0;32m    994\u001b[0m     \u001b[1;32melif\u001b[0m \u001b[0mprotocol\u001b[0m\u001b[1;33m.\u001b[0m\u001b[0mlower\u001b[0m\u001b[1;33m(\u001b[0m\u001b[1;33m)\u001b[0m \u001b[1;33m==\u001b[0m \u001b[1;34m'file'\u001b[0m\u001b[1;33m:\u001b[0m\u001b[1;33m\u001b[0m\u001b[1;33m\u001b[0m\u001b[0m\n",
      "\u001b[1;32mC:\\ProgramData\\Anaconda3\\lib\\site-packages\\nltk\\data.py\u001b[0m in \u001b[0;36mfind\u001b[1;34m(resource_name, paths)\u001b[0m\n\u001b[0;32m    698\u001b[0m     \u001b[0mresource_not_found\u001b[0m \u001b[1;33m=\u001b[0m \u001b[1;34m'\\n%s\\n%s\\n%s\\n'\u001b[0m \u001b[1;33m%\u001b[0m \u001b[1;33m(\u001b[0m\u001b[0msep\u001b[0m\u001b[1;33m,\u001b[0m \u001b[0mmsg\u001b[0m\u001b[1;33m,\u001b[0m \u001b[0msep\u001b[0m\u001b[1;33m)\u001b[0m\u001b[1;33m\u001b[0m\u001b[1;33m\u001b[0m\u001b[0m\n\u001b[1;32m--> 699\u001b[1;33m     \u001b[1;32mraise\u001b[0m \u001b[0mLookupError\u001b[0m\u001b[1;33m(\u001b[0m\u001b[0mresource_not_found\u001b[0m\u001b[1;33m)\u001b[0m\u001b[1;33m\u001b[0m\u001b[1;33m\u001b[0m\u001b[0m\n\u001b[0m\u001b[0;32m    700\u001b[0m \u001b[1;33m\u001b[0m\u001b[0m\n",
      "\u001b[1;31mLookupError\u001b[0m: \n**********************************************************************\n  Resource \u001b[93mpunkt\u001b[0m not found.\n  Please use the NLTK Downloader to obtain the resource:\n\n  \u001b[31m>>> import nltk\n  >>> nltk.download('punkt')\n  \u001b[0m\n  Attempted to load \u001b[93mtokenizers/punkt/english.pickle\u001b[0m\n\n  Searched in:\n    - 'C:\\\\Users\\\\db2admin/nltk_data'\n    - 'C:\\\\ProgramData\\\\Anaconda3\\\\nltk_data'\n    - 'C:\\\\ProgramData\\\\Anaconda3\\\\share\\\\nltk_data'\n    - 'C:\\\\ProgramData\\\\Anaconda3\\\\lib\\\\nltk_data'\n    - 'C:\\\\Users\\\\db2admin\\\\AppData\\\\Roaming\\\\nltk_data'\n    - 'C:\\\\nltk_data'\n    - 'D:\\\\nltk_data'\n    - 'E:\\\\nltk_data'\n    - ''\n**********************************************************************\n",
      "\nDuring handling of the above exception, another exception occurred:\n",
      "\u001b[1;31mMissingCorpusError\u001b[0m                        Traceback (most recent call last)",
      "\u001b[1;32m<ipython-input-9-f8296718f75a>\u001b[0m in \u001b[0;36m<module>\u001b[1;34m\u001b[0m\n\u001b[1;32m----> 1\u001b[1;33m \u001b[1;32mfor\u001b[0m \u001b[0mi\u001b[0m \u001b[1;32min\u001b[0m \u001b[0mb\u001b[0m\u001b[1;33m.\u001b[0m\u001b[0mwords\u001b[0m\u001b[1;33m:\u001b[0m\u001b[1;33m\u001b[0m\u001b[1;33m\u001b[0m\u001b[0m\n\u001b[0m\u001b[0;32m      2\u001b[0m     \u001b[0mprint\u001b[0m\u001b[1;33m(\u001b[0m\u001b[0mi\u001b[0m\u001b[1;33m)\u001b[0m\u001b[1;33m\u001b[0m\u001b[1;33m\u001b[0m\u001b[0m\n",
      "\u001b[1;32mC:\\ProgramData\\Anaconda3\\lib\\site-packages\\textblob\\decorators.py\u001b[0m in \u001b[0;36m__get__\u001b[1;34m(self, obj, cls)\u001b[0m\n\u001b[0;32m     22\u001b[0m         \u001b[1;32mif\u001b[0m \u001b[0mobj\u001b[0m \u001b[1;32mis\u001b[0m \u001b[1;32mNone\u001b[0m\u001b[1;33m:\u001b[0m\u001b[1;33m\u001b[0m\u001b[1;33m\u001b[0m\u001b[0m\n\u001b[0;32m     23\u001b[0m             \u001b[1;32mreturn\u001b[0m \u001b[0mself\u001b[0m\u001b[1;33m\u001b[0m\u001b[1;33m\u001b[0m\u001b[0m\n\u001b[1;32m---> 24\u001b[1;33m         \u001b[0mvalue\u001b[0m \u001b[1;33m=\u001b[0m \u001b[0mobj\u001b[0m\u001b[1;33m.\u001b[0m\u001b[0m__dict__\u001b[0m\u001b[1;33m[\u001b[0m\u001b[0mself\u001b[0m\u001b[1;33m.\u001b[0m\u001b[0mfunc\u001b[0m\u001b[1;33m.\u001b[0m\u001b[0m__name__\u001b[0m\u001b[1;33m]\u001b[0m \u001b[1;33m=\u001b[0m \u001b[0mself\u001b[0m\u001b[1;33m.\u001b[0m\u001b[0mfunc\u001b[0m\u001b[1;33m(\u001b[0m\u001b[0mobj\u001b[0m\u001b[1;33m)\u001b[0m\u001b[1;33m\u001b[0m\u001b[1;33m\u001b[0m\u001b[0m\n\u001b[0m\u001b[0;32m     25\u001b[0m         \u001b[1;32mreturn\u001b[0m \u001b[0mvalue\u001b[0m\u001b[1;33m\u001b[0m\u001b[1;33m\u001b[0m\u001b[0m\n\u001b[0;32m     26\u001b[0m \u001b[1;33m\u001b[0m\u001b[0m\n",
      "\u001b[1;32mC:\\ProgramData\\Anaconda3\\lib\\site-packages\\textblob\\blob.py\u001b[0m in \u001b[0;36mwords\u001b[1;34m(self)\u001b[0m\n\u001b[0;32m    647\u001b[0m         \u001b[1;33m:\u001b[0m\u001b[0mreturns\u001b[0m\u001b[1;33m:\u001b[0m \u001b[0mA\u001b[0m \u001b[1;33m:\u001b[0m\u001b[1;32mclass\u001b[0m\u001b[1;33m:\u001b[0m\u001b[0;31m`\u001b[0m\u001b[0mWordList\u001b[0m \u001b[1;33m<\u001b[0m\u001b[0mWordList\u001b[0m\u001b[1;33m>\u001b[0m\u001b[0;31m`\u001b[0m \u001b[0mof\u001b[0m \u001b[0mword\u001b[0m \u001b[0mtokens\u001b[0m\u001b[1;33m.\u001b[0m\u001b[1;33m\u001b[0m\u001b[1;33m\u001b[0m\u001b[0m\n\u001b[0;32m    648\u001b[0m         \"\"\"\n\u001b[1;32m--> 649\u001b[1;33m         \u001b[1;32mreturn\u001b[0m \u001b[0mWordList\u001b[0m\u001b[1;33m(\u001b[0m\u001b[0mword_tokenize\u001b[0m\u001b[1;33m(\u001b[0m\u001b[0mself\u001b[0m\u001b[1;33m.\u001b[0m\u001b[0mraw\u001b[0m\u001b[1;33m,\u001b[0m \u001b[0minclude_punc\u001b[0m\u001b[1;33m=\u001b[0m\u001b[1;32mFalse\u001b[0m\u001b[1;33m)\u001b[0m\u001b[1;33m)\u001b[0m\u001b[1;33m\u001b[0m\u001b[1;33m\u001b[0m\u001b[0m\n\u001b[0m\u001b[0;32m    650\u001b[0m \u001b[1;33m\u001b[0m\u001b[0m\n\u001b[0;32m    651\u001b[0m     \u001b[1;33m@\u001b[0m\u001b[0mproperty\u001b[0m\u001b[1;33m\u001b[0m\u001b[1;33m\u001b[0m\u001b[0m\n",
      "\u001b[1;32mC:\\ProgramData\\Anaconda3\\lib\\site-packages\\textblob\\tokenizers.py\u001b[0m in \u001b[0;36mword_tokenize\u001b[1;34m(text, include_punc, *args, **kwargs)\u001b[0m\n\u001b[0;32m     71\u001b[0m         _word_tokenizer.itokenize(sentence, include_punc=include_punc,\n\u001b[0;32m     72\u001b[0m                                 *args, **kwargs)\n\u001b[1;32m---> 73\u001b[1;33m         for sentence in sent_tokenize(text))\n\u001b[0m\u001b[0;32m     74\u001b[0m     \u001b[1;32mreturn\u001b[0m \u001b[0mwords\u001b[0m\u001b[1;33m\u001b[0m\u001b[1;33m\u001b[0m\u001b[0m\n",
      "\u001b[1;32mC:\\ProgramData\\Anaconda3\\lib\\site-packages\\textblob\\base.py\u001b[0m in \u001b[0;36mitokenize\u001b[1;34m(self, text, *args, **kwargs)\u001b[0m\n\u001b[0;32m     62\u001b[0m         \u001b[1;33m:\u001b[0m\u001b[0mrtype\u001b[0m\u001b[1;33m:\u001b[0m \u001b[0mgenerator\u001b[0m\u001b[1;33m\u001b[0m\u001b[1;33m\u001b[0m\u001b[0m\n\u001b[0;32m     63\u001b[0m         \"\"\"\n\u001b[1;32m---> 64\u001b[1;33m         \u001b[1;32mreturn\u001b[0m \u001b[1;33m(\u001b[0m\u001b[0mt\u001b[0m \u001b[1;32mfor\u001b[0m \u001b[0mt\u001b[0m \u001b[1;32min\u001b[0m \u001b[0mself\u001b[0m\u001b[1;33m.\u001b[0m\u001b[0mtokenize\u001b[0m\u001b[1;33m(\u001b[0m\u001b[0mtext\u001b[0m\u001b[1;33m,\u001b[0m \u001b[1;33m*\u001b[0m\u001b[0margs\u001b[0m\u001b[1;33m,\u001b[0m \u001b[1;33m**\u001b[0m\u001b[0mkwargs\u001b[0m\u001b[1;33m)\u001b[0m\u001b[1;33m)\u001b[0m\u001b[1;33m\u001b[0m\u001b[1;33m\u001b[0m\u001b[0m\n\u001b[0m\u001b[0;32m     65\u001b[0m \u001b[1;33m\u001b[0m\u001b[0m\n\u001b[0;32m     66\u001b[0m \u001b[1;31m##### SENTIMENT ANALYZERS ####\u001b[0m\u001b[1;33m\u001b[0m\u001b[1;33m\u001b[0m\u001b[1;33m\u001b[0m\u001b[0m\n",
      "\u001b[1;32mC:\\ProgramData\\Anaconda3\\lib\\site-packages\\textblob\\decorators.py\u001b[0m in \u001b[0;36mdecorated\u001b[1;34m(*args, **kwargs)\u001b[0m\n\u001b[0;32m     36\u001b[0m         \u001b[1;32mexcept\u001b[0m \u001b[0mLookupError\u001b[0m \u001b[1;32mas\u001b[0m \u001b[0merr\u001b[0m\u001b[1;33m:\u001b[0m\u001b[1;33m\u001b[0m\u001b[1;33m\u001b[0m\u001b[0m\n\u001b[0;32m     37\u001b[0m             \u001b[0mprint\u001b[0m\u001b[1;33m(\u001b[0m\u001b[0merr\u001b[0m\u001b[1;33m)\u001b[0m\u001b[1;33m\u001b[0m\u001b[1;33m\u001b[0m\u001b[0m\n\u001b[1;32m---> 38\u001b[1;33m             \u001b[1;32mraise\u001b[0m \u001b[0mMissingCorpusError\u001b[0m\u001b[1;33m(\u001b[0m\u001b[1;33m)\u001b[0m\u001b[1;33m\u001b[0m\u001b[1;33m\u001b[0m\u001b[0m\n\u001b[0m\u001b[0;32m     39\u001b[0m     \u001b[1;32mreturn\u001b[0m \u001b[0mdecorated\u001b[0m\u001b[1;33m\u001b[0m\u001b[1;33m\u001b[0m\u001b[0m\n",
      "\u001b[1;31mMissingCorpusError\u001b[0m: \nLooks like you are missing some required data for this feature.\n\nTo download the necessary data, simply run\n\n    python -m textblob.download_corpora\n\nor use the NLTK downloader to download the missing data: http://nltk.org/data.html\nIf this doesn't fix the problem, file an issue at https://github.com/sloria/TextBlob/issues.\n"
     ]
    }
   ],
   "source": [
    "for i in b.words:\n",
    "...    print(i)"
   ]
  },
  {
   "cell_type": "code",
   "execution_count": 13,
   "metadata": {},
   "outputs": [
    {
     "data": {
      "text/plain": [
       "TextBlob(\"i am not happy\")"
      ]
     },
     "execution_count": 13,
     "metadata": {},
     "output_type": "execute_result"
    }
   ],
   "source": [
    "b = TextBlob('i am not happ')\n",
    "b.correct()"
   ]
  },
  {
   "cell_type": "code",
   "execution_count": 14,
   "metadata": {},
   "outputs": [
    {
     "data": {
      "text/plain": [
       "TextBlob(\"enthusiasm\")"
      ]
     },
     "execution_count": 14,
     "metadata": {},
     "output_type": "execute_result"
    }
   ],
   "source": [
    "b = TextBlob('enthusium')\n",
    "b.correct()"
   ]
  },
  {
   "cell_type": "code",
   "execution_count": 15,
   "metadata": {},
   "outputs": [
    {
     "name": "stdout",
     "output_type": "stream",
     "text": [
      "\n",
      "**********************************************************************\n",
      "  Resource \u001b[93mpunkt\u001b[0m not found.\n",
      "  Please use the NLTK Downloader to obtain the resource:\n",
      "\n",
      "  \u001b[31m>>> import nltk\n",
      "  >>> nltk.download('punkt')\n",
      "  \u001b[0m\n",
      "  Attempted to load \u001b[93mtokenizers/punkt/english.pickle\u001b[0m\n",
      "\n",
      "  Searched in:\n",
      "    - 'C:\\\\Users\\\\db2admin/nltk_data'\n",
      "    - 'C:\\\\ProgramData\\\\Anaconda3\\\\nltk_data'\n",
      "    - 'C:\\\\ProgramData\\\\Anaconda3\\\\share\\\\nltk_data'\n",
      "    - 'C:\\\\ProgramData\\\\Anaconda3\\\\lib\\\\nltk_data'\n",
      "    - 'C:\\\\Users\\\\db2admin\\\\AppData\\\\Roaming\\\\nltk_data'\n",
      "    - 'C:\\\\nltk_data'\n",
      "    - 'D:\\\\nltk_data'\n",
      "    - 'E:\\\\nltk_data'\n",
      "    - ''\n",
      "**********************************************************************\n",
      "\n"
     ]
    },
    {
     "ename": "MissingCorpusError",
     "evalue": "\nLooks like you are missing some required data for this feature.\n\nTo download the necessary data, simply run\n\n    python -m textblob.download_corpora\n\nor use the NLTK downloader to download the missing data: http://nltk.org/data.html\nIf this doesn't fix the problem, file an issue at https://github.com/sloria/TextBlob/issues.\n",
     "output_type": "error",
     "traceback": [
      "\u001b[1;31m---------------------------------------------------------------------------\u001b[0m",
      "\u001b[1;31mLookupError\u001b[0m                               Traceback (most recent call last)",
      "\u001b[1;32mC:\\ProgramData\\Anaconda3\\lib\\site-packages\\textblob\\decorators.py\u001b[0m in \u001b[0;36mdecorated\u001b[1;34m(*args, **kwargs)\u001b[0m\n\u001b[0;32m     34\u001b[0m         \u001b[1;32mtry\u001b[0m\u001b[1;33m:\u001b[0m\u001b[1;33m\u001b[0m\u001b[1;33m\u001b[0m\u001b[0m\n\u001b[1;32m---> 35\u001b[1;33m             \u001b[1;32mreturn\u001b[0m \u001b[0mfunc\u001b[0m\u001b[1;33m(\u001b[0m\u001b[1;33m*\u001b[0m\u001b[0margs\u001b[0m\u001b[1;33m,\u001b[0m \u001b[1;33m**\u001b[0m\u001b[0mkwargs\u001b[0m\u001b[1;33m)\u001b[0m\u001b[1;33m\u001b[0m\u001b[1;33m\u001b[0m\u001b[0m\n\u001b[0m\u001b[0;32m     36\u001b[0m         \u001b[1;32mexcept\u001b[0m \u001b[0mLookupError\u001b[0m \u001b[1;32mas\u001b[0m \u001b[0merr\u001b[0m\u001b[1;33m:\u001b[0m\u001b[1;33m\u001b[0m\u001b[1;33m\u001b[0m\u001b[0m\n",
      "\u001b[1;32mC:\\ProgramData\\Anaconda3\\lib\\site-packages\\textblob\\tokenizers.py\u001b[0m in \u001b[0;36mtokenize\u001b[1;34m(self, text)\u001b[0m\n\u001b[0;32m     56\u001b[0m         \u001b[1;34m'''Return a list of sentences.'''\u001b[0m\u001b[1;33m\u001b[0m\u001b[1;33m\u001b[0m\u001b[0m\n\u001b[1;32m---> 57\u001b[1;33m         \u001b[1;32mreturn\u001b[0m \u001b[0mnltk\u001b[0m\u001b[1;33m.\u001b[0m\u001b[0mtokenize\u001b[0m\u001b[1;33m.\u001b[0m\u001b[0msent_tokenize\u001b[0m\u001b[1;33m(\u001b[0m\u001b[0mtext\u001b[0m\u001b[1;33m)\u001b[0m\u001b[1;33m\u001b[0m\u001b[1;33m\u001b[0m\u001b[0m\n\u001b[0m\u001b[0;32m     58\u001b[0m \u001b[1;33m\u001b[0m\u001b[0m\n",
      "\u001b[1;32mC:\\ProgramData\\Anaconda3\\lib\\site-packages\\nltk\\tokenize\\__init__.py\u001b[0m in \u001b[0;36msent_tokenize\u001b[1;34m(text, language)\u001b[0m\n\u001b[0;32m    103\u001b[0m     \"\"\"\n\u001b[1;32m--> 104\u001b[1;33m     \u001b[0mtokenizer\u001b[0m \u001b[1;33m=\u001b[0m \u001b[0mload\u001b[0m\u001b[1;33m(\u001b[0m\u001b[1;34m'tokenizers/punkt/{0}.pickle'\u001b[0m\u001b[1;33m.\u001b[0m\u001b[0mformat\u001b[0m\u001b[1;33m(\u001b[0m\u001b[0mlanguage\u001b[0m\u001b[1;33m)\u001b[0m\u001b[1;33m)\u001b[0m\u001b[1;33m\u001b[0m\u001b[1;33m\u001b[0m\u001b[0m\n\u001b[0m\u001b[0;32m    105\u001b[0m     \u001b[1;32mreturn\u001b[0m \u001b[0mtokenizer\u001b[0m\u001b[1;33m.\u001b[0m\u001b[0mtokenize\u001b[0m\u001b[1;33m(\u001b[0m\u001b[0mtext\u001b[0m\u001b[1;33m)\u001b[0m\u001b[1;33m\u001b[0m\u001b[1;33m\u001b[0m\u001b[0m\n",
      "\u001b[1;32mC:\\ProgramData\\Anaconda3\\lib\\site-packages\\nltk\\data.py\u001b[0m in \u001b[0;36mload\u001b[1;34m(resource_url, format, cache, verbose, logic_parser, fstruct_reader, encoding)\u001b[0m\n\u001b[0;32m    867\u001b[0m     \u001b[1;31m# Load the resource.\u001b[0m\u001b[1;33m\u001b[0m\u001b[1;33m\u001b[0m\u001b[1;33m\u001b[0m\u001b[0m\n\u001b[1;32m--> 868\u001b[1;33m     \u001b[0mopened_resource\u001b[0m \u001b[1;33m=\u001b[0m \u001b[0m_open\u001b[0m\u001b[1;33m(\u001b[0m\u001b[0mresource_url\u001b[0m\u001b[1;33m)\u001b[0m\u001b[1;33m\u001b[0m\u001b[1;33m\u001b[0m\u001b[0m\n\u001b[0m\u001b[0;32m    869\u001b[0m \u001b[1;33m\u001b[0m\u001b[0m\n",
      "\u001b[1;32mC:\\ProgramData\\Anaconda3\\lib\\site-packages\\nltk\\data.py\u001b[0m in \u001b[0;36m_open\u001b[1;34m(resource_url)\u001b[0m\n\u001b[0;32m    992\u001b[0m     \u001b[1;32mif\u001b[0m \u001b[0mprotocol\u001b[0m \u001b[1;32mis\u001b[0m \u001b[1;32mNone\u001b[0m \u001b[1;32mor\u001b[0m \u001b[0mprotocol\u001b[0m\u001b[1;33m.\u001b[0m\u001b[0mlower\u001b[0m\u001b[1;33m(\u001b[0m\u001b[1;33m)\u001b[0m \u001b[1;33m==\u001b[0m \u001b[1;34m'nltk'\u001b[0m\u001b[1;33m:\u001b[0m\u001b[1;33m\u001b[0m\u001b[1;33m\u001b[0m\u001b[0m\n\u001b[1;32m--> 993\u001b[1;33m         \u001b[1;32mreturn\u001b[0m \u001b[0mfind\u001b[0m\u001b[1;33m(\u001b[0m\u001b[0mpath_\u001b[0m\u001b[1;33m,\u001b[0m \u001b[0mpath\u001b[0m \u001b[1;33m+\u001b[0m \u001b[1;33m[\u001b[0m\u001b[1;34m''\u001b[0m\u001b[1;33m]\u001b[0m\u001b[1;33m)\u001b[0m\u001b[1;33m.\u001b[0m\u001b[0mopen\u001b[0m\u001b[1;33m(\u001b[0m\u001b[1;33m)\u001b[0m\u001b[1;33m\u001b[0m\u001b[1;33m\u001b[0m\u001b[0m\n\u001b[0m\u001b[0;32m    994\u001b[0m     \u001b[1;32melif\u001b[0m \u001b[0mprotocol\u001b[0m\u001b[1;33m.\u001b[0m\u001b[0mlower\u001b[0m\u001b[1;33m(\u001b[0m\u001b[1;33m)\u001b[0m \u001b[1;33m==\u001b[0m \u001b[1;34m'file'\u001b[0m\u001b[1;33m:\u001b[0m\u001b[1;33m\u001b[0m\u001b[1;33m\u001b[0m\u001b[0m\n",
      "\u001b[1;32mC:\\ProgramData\\Anaconda3\\lib\\site-packages\\nltk\\data.py\u001b[0m in \u001b[0;36mfind\u001b[1;34m(resource_name, paths)\u001b[0m\n\u001b[0;32m    698\u001b[0m     \u001b[0mresource_not_found\u001b[0m \u001b[1;33m=\u001b[0m \u001b[1;34m'\\n%s\\n%s\\n%s\\n'\u001b[0m \u001b[1;33m%\u001b[0m \u001b[1;33m(\u001b[0m\u001b[0msep\u001b[0m\u001b[1;33m,\u001b[0m \u001b[0mmsg\u001b[0m\u001b[1;33m,\u001b[0m \u001b[0msep\u001b[0m\u001b[1;33m)\u001b[0m\u001b[1;33m\u001b[0m\u001b[1;33m\u001b[0m\u001b[0m\n\u001b[1;32m--> 699\u001b[1;33m     \u001b[1;32mraise\u001b[0m \u001b[0mLookupError\u001b[0m\u001b[1;33m(\u001b[0m\u001b[0mresource_not_found\u001b[0m\u001b[1;33m)\u001b[0m\u001b[1;33m\u001b[0m\u001b[1;33m\u001b[0m\u001b[0m\n\u001b[0m\u001b[0;32m    700\u001b[0m \u001b[1;33m\u001b[0m\u001b[0m\n",
      "\u001b[1;31mLookupError\u001b[0m: \n**********************************************************************\n  Resource \u001b[93mpunkt\u001b[0m not found.\n  Please use the NLTK Downloader to obtain the resource:\n\n  \u001b[31m>>> import nltk\n  >>> nltk.download('punkt')\n  \u001b[0m\n  Attempted to load \u001b[93mtokenizers/punkt/english.pickle\u001b[0m\n\n  Searched in:\n    - 'C:\\\\Users\\\\db2admin/nltk_data'\n    - 'C:\\\\ProgramData\\\\Anaconda3\\\\nltk_data'\n    - 'C:\\\\ProgramData\\\\Anaconda3\\\\share\\\\nltk_data'\n    - 'C:\\\\ProgramData\\\\Anaconda3\\\\lib\\\\nltk_data'\n    - 'C:\\\\Users\\\\db2admin\\\\AppData\\\\Roaming\\\\nltk_data'\n    - 'C:\\\\nltk_data'\n    - 'D:\\\\nltk_data'\n    - 'E:\\\\nltk_data'\n    - ''\n**********************************************************************\n",
      "\nDuring handling of the above exception, another exception occurred:\n",
      "\u001b[1;31mMissingCorpusError\u001b[0m                        Traceback (most recent call last)",
      "\u001b[1;32m<ipython-input-15-a549b69d948f>\u001b[0m in \u001b[0;36m<module>\u001b[1;34m\u001b[0m\n\u001b[0;32m      1\u001b[0m \u001b[0mb\u001b[0m \u001b[1;33m=\u001b[0m \u001b[0mTextBlob\u001b[0m\u001b[1;33m(\u001b[0m\u001b[1;34m'i am not happ'\u001b[0m\u001b[1;33m)\u001b[0m\u001b[1;33m\u001b[0m\u001b[1;33m\u001b[0m\u001b[0m\n\u001b[1;32m----> 2\u001b[1;33m \u001b[0mb\u001b[0m\u001b[1;33m.\u001b[0m\u001b[0mwords\u001b[0m\u001b[1;33m[\u001b[0m\u001b[1;36m3\u001b[0m\u001b[1;33m]\u001b[0m\u001b[1;33m.\u001b[0m\u001b[0mspellcheck\u001b[0m\u001b[1;33m(\u001b[0m\u001b[1;33m)\u001b[0m\u001b[1;33m\u001b[0m\u001b[1;33m\u001b[0m\u001b[0m\n\u001b[0m",
      "\u001b[1;32mC:\\ProgramData\\Anaconda3\\lib\\site-packages\\textblob\\decorators.py\u001b[0m in \u001b[0;36m__get__\u001b[1;34m(self, obj, cls)\u001b[0m\n\u001b[0;32m     22\u001b[0m         \u001b[1;32mif\u001b[0m \u001b[0mobj\u001b[0m \u001b[1;32mis\u001b[0m \u001b[1;32mNone\u001b[0m\u001b[1;33m:\u001b[0m\u001b[1;33m\u001b[0m\u001b[1;33m\u001b[0m\u001b[0m\n\u001b[0;32m     23\u001b[0m             \u001b[1;32mreturn\u001b[0m \u001b[0mself\u001b[0m\u001b[1;33m\u001b[0m\u001b[1;33m\u001b[0m\u001b[0m\n\u001b[1;32m---> 24\u001b[1;33m         \u001b[0mvalue\u001b[0m \u001b[1;33m=\u001b[0m \u001b[0mobj\u001b[0m\u001b[1;33m.\u001b[0m\u001b[0m__dict__\u001b[0m\u001b[1;33m[\u001b[0m\u001b[0mself\u001b[0m\u001b[1;33m.\u001b[0m\u001b[0mfunc\u001b[0m\u001b[1;33m.\u001b[0m\u001b[0m__name__\u001b[0m\u001b[1;33m]\u001b[0m \u001b[1;33m=\u001b[0m \u001b[0mself\u001b[0m\u001b[1;33m.\u001b[0m\u001b[0mfunc\u001b[0m\u001b[1;33m(\u001b[0m\u001b[0mobj\u001b[0m\u001b[1;33m)\u001b[0m\u001b[1;33m\u001b[0m\u001b[1;33m\u001b[0m\u001b[0m\n\u001b[0m\u001b[0;32m     25\u001b[0m         \u001b[1;32mreturn\u001b[0m \u001b[0mvalue\u001b[0m\u001b[1;33m\u001b[0m\u001b[1;33m\u001b[0m\u001b[0m\n\u001b[0;32m     26\u001b[0m \u001b[1;33m\u001b[0m\u001b[0m\n",
      "\u001b[1;32mC:\\ProgramData\\Anaconda3\\lib\\site-packages\\textblob\\blob.py\u001b[0m in \u001b[0;36mwords\u001b[1;34m(self)\u001b[0m\n\u001b[0;32m    647\u001b[0m         \u001b[1;33m:\u001b[0m\u001b[0mreturns\u001b[0m\u001b[1;33m:\u001b[0m \u001b[0mA\u001b[0m \u001b[1;33m:\u001b[0m\u001b[1;32mclass\u001b[0m\u001b[1;33m:\u001b[0m\u001b[0;31m`\u001b[0m\u001b[0mWordList\u001b[0m \u001b[1;33m<\u001b[0m\u001b[0mWordList\u001b[0m\u001b[1;33m>\u001b[0m\u001b[0;31m`\u001b[0m \u001b[0mof\u001b[0m \u001b[0mword\u001b[0m \u001b[0mtokens\u001b[0m\u001b[1;33m.\u001b[0m\u001b[1;33m\u001b[0m\u001b[1;33m\u001b[0m\u001b[0m\n\u001b[0;32m    648\u001b[0m         \"\"\"\n\u001b[1;32m--> 649\u001b[1;33m         \u001b[1;32mreturn\u001b[0m \u001b[0mWordList\u001b[0m\u001b[1;33m(\u001b[0m\u001b[0mword_tokenize\u001b[0m\u001b[1;33m(\u001b[0m\u001b[0mself\u001b[0m\u001b[1;33m.\u001b[0m\u001b[0mraw\u001b[0m\u001b[1;33m,\u001b[0m \u001b[0minclude_punc\u001b[0m\u001b[1;33m=\u001b[0m\u001b[1;32mFalse\u001b[0m\u001b[1;33m)\u001b[0m\u001b[1;33m)\u001b[0m\u001b[1;33m\u001b[0m\u001b[1;33m\u001b[0m\u001b[0m\n\u001b[0m\u001b[0;32m    650\u001b[0m \u001b[1;33m\u001b[0m\u001b[0m\n\u001b[0;32m    651\u001b[0m     \u001b[1;33m@\u001b[0m\u001b[0mproperty\u001b[0m\u001b[1;33m\u001b[0m\u001b[1;33m\u001b[0m\u001b[0m\n",
      "\u001b[1;32mC:\\ProgramData\\Anaconda3\\lib\\site-packages\\textblob\\tokenizers.py\u001b[0m in \u001b[0;36mword_tokenize\u001b[1;34m(text, include_punc, *args, **kwargs)\u001b[0m\n\u001b[0;32m     71\u001b[0m         _word_tokenizer.itokenize(sentence, include_punc=include_punc,\n\u001b[0;32m     72\u001b[0m                                 *args, **kwargs)\n\u001b[1;32m---> 73\u001b[1;33m         for sentence in sent_tokenize(text))\n\u001b[0m\u001b[0;32m     74\u001b[0m     \u001b[1;32mreturn\u001b[0m \u001b[0mwords\u001b[0m\u001b[1;33m\u001b[0m\u001b[1;33m\u001b[0m\u001b[0m\n",
      "\u001b[1;32mC:\\ProgramData\\Anaconda3\\lib\\site-packages\\textblob\\base.py\u001b[0m in \u001b[0;36mitokenize\u001b[1;34m(self, text, *args, **kwargs)\u001b[0m\n\u001b[0;32m     62\u001b[0m         \u001b[1;33m:\u001b[0m\u001b[0mrtype\u001b[0m\u001b[1;33m:\u001b[0m \u001b[0mgenerator\u001b[0m\u001b[1;33m\u001b[0m\u001b[1;33m\u001b[0m\u001b[0m\n\u001b[0;32m     63\u001b[0m         \"\"\"\n\u001b[1;32m---> 64\u001b[1;33m         \u001b[1;32mreturn\u001b[0m \u001b[1;33m(\u001b[0m\u001b[0mt\u001b[0m \u001b[1;32mfor\u001b[0m \u001b[0mt\u001b[0m \u001b[1;32min\u001b[0m \u001b[0mself\u001b[0m\u001b[1;33m.\u001b[0m\u001b[0mtokenize\u001b[0m\u001b[1;33m(\u001b[0m\u001b[0mtext\u001b[0m\u001b[1;33m,\u001b[0m \u001b[1;33m*\u001b[0m\u001b[0margs\u001b[0m\u001b[1;33m,\u001b[0m \u001b[1;33m**\u001b[0m\u001b[0mkwargs\u001b[0m\u001b[1;33m)\u001b[0m\u001b[1;33m)\u001b[0m\u001b[1;33m\u001b[0m\u001b[1;33m\u001b[0m\u001b[0m\n\u001b[0m\u001b[0;32m     65\u001b[0m \u001b[1;33m\u001b[0m\u001b[0m\n\u001b[0;32m     66\u001b[0m \u001b[1;31m##### SENTIMENT ANALYZERS ####\u001b[0m\u001b[1;33m\u001b[0m\u001b[1;33m\u001b[0m\u001b[1;33m\u001b[0m\u001b[0m\n",
      "\u001b[1;32mC:\\ProgramData\\Anaconda3\\lib\\site-packages\\textblob\\decorators.py\u001b[0m in \u001b[0;36mdecorated\u001b[1;34m(*args, **kwargs)\u001b[0m\n\u001b[0;32m     36\u001b[0m         \u001b[1;32mexcept\u001b[0m \u001b[0mLookupError\u001b[0m \u001b[1;32mas\u001b[0m \u001b[0merr\u001b[0m\u001b[1;33m:\u001b[0m\u001b[1;33m\u001b[0m\u001b[1;33m\u001b[0m\u001b[0m\n\u001b[0;32m     37\u001b[0m             \u001b[0mprint\u001b[0m\u001b[1;33m(\u001b[0m\u001b[0merr\u001b[0m\u001b[1;33m)\u001b[0m\u001b[1;33m\u001b[0m\u001b[1;33m\u001b[0m\u001b[0m\n\u001b[1;32m---> 38\u001b[1;33m             \u001b[1;32mraise\u001b[0m \u001b[0mMissingCorpusError\u001b[0m\u001b[1;33m(\u001b[0m\u001b[1;33m)\u001b[0m\u001b[1;33m\u001b[0m\u001b[1;33m\u001b[0m\u001b[0m\n\u001b[0m\u001b[0;32m     39\u001b[0m     \u001b[1;32mreturn\u001b[0m \u001b[0mdecorated\u001b[0m\u001b[1;33m\u001b[0m\u001b[1;33m\u001b[0m\u001b[0m\n",
      "\u001b[1;31mMissingCorpusError\u001b[0m: \nLooks like you are missing some required data for this feature.\n\nTo download the necessary data, simply run\n\n    python -m textblob.download_corpora\n\nor use the NLTK downloader to download the missing data: http://nltk.org/data.html\nIf this doesn't fix the problem, file an issue at https://github.com/sloria/TextBlob/issues.\n"
     ]
    }
   ],
   "source": [
    "b = TextBlob('i am not happ')\n",
    "b.words[3].spellcheck()"
   ]
  },
  {
   "cell_type": "code",
   "execution_count": 17,
   "metadata": {},
   "outputs": [],
   "source": [
    "import pandas as pd"
   ]
  },
  {
   "cell_type": "code",
   "execution_count": 18,
   "metadata": {},
   "outputs": [],
   "source": [
    "list = [1,'Nancy',3,4]"
   ]
  },
  {
   "cell_type": "code",
   "execution_count": 28,
   "metadata": {},
   "outputs": [
    {
     "data": {
      "text/plain": [
       "[1, 'Nancy']"
      ]
     },
     "execution_count": 28,
     "metadata": {},
     "output_type": "execute_result"
    }
   ],
   "source": [
    "list[:2]"
   ]
  },
  {
   "cell_type": "code",
   "execution_count": 21,
   "metadata": {},
   "outputs": [
    {
     "data": {
      "text/plain": [
       "0        1\n",
       "1    Nancy\n",
       "2        3\n",
       "3        4\n",
       "dtype: object"
      ]
     },
     "execution_count": 21,
     "metadata": {},
     "output_type": "execute_result"
    }
   ],
   "source": [
    "pd.Series(list)"
   ]
  },
  {
   "cell_type": "code",
   "execution_count": 22,
   "metadata": {},
   "outputs": [
    {
     "data": {
      "text/html": [
       "<div>\n",
       "<style scoped>\n",
       "    .dataframe tbody tr th:only-of-type {\n",
       "        vertical-align: middle;\n",
       "    }\n",
       "\n",
       "    .dataframe tbody tr th {\n",
       "        vertical-align: top;\n",
       "    }\n",
       "\n",
       "    .dataframe thead th {\n",
       "        text-align: right;\n",
       "    }\n",
       "</style>\n",
       "<table border=\"1\" class=\"dataframe\">\n",
       "  <thead>\n",
       "    <tr style=\"text-align: right;\">\n",
       "      <th></th>\n",
       "      <th>0</th>\n",
       "    </tr>\n",
       "  </thead>\n",
       "  <tbody>\n",
       "    <tr>\n",
       "      <th>0</th>\n",
       "      <td>1</td>\n",
       "    </tr>\n",
       "    <tr>\n",
       "      <th>1</th>\n",
       "      <td>Nancy</td>\n",
       "    </tr>\n",
       "    <tr>\n",
       "      <th>2</th>\n",
       "      <td>3</td>\n",
       "    </tr>\n",
       "    <tr>\n",
       "      <th>3</th>\n",
       "      <td>4</td>\n",
       "    </tr>\n",
       "  </tbody>\n",
       "</table>\n",
       "</div>"
      ],
      "text/plain": [
       "       0\n",
       "0      1\n",
       "1  Nancy\n",
       "2      3\n",
       "3      4"
      ]
     },
     "execution_count": 22,
     "metadata": {},
     "output_type": "execute_result"
    }
   ],
   "source": [
    "pd.DataFrame(list)"
   ]
  },
  {
   "cell_type": "code",
   "execution_count": 25,
   "metadata": {},
   "outputs": [],
   "source": [
    "d ={\"first\":[1,2,3,4],\"Second\":[5,6,7,8],\"Third\":[9,10,11,12]}"
   ]
  },
  {
   "cell_type": "code",
   "execution_count": 30,
   "metadata": {},
   "outputs": [
    {
     "data": {
      "text/html": [
       "<div>\n",
       "<style scoped>\n",
       "    .dataframe tbody tr th:only-of-type {\n",
       "        vertical-align: middle;\n",
       "    }\n",
       "\n",
       "    .dataframe tbody tr th {\n",
       "        vertical-align: top;\n",
       "    }\n",
       "\n",
       "    .dataframe thead th {\n",
       "        text-align: right;\n",
       "    }\n",
       "</style>\n",
       "<table border=\"1\" class=\"dataframe\">\n",
       "  <thead>\n",
       "    <tr style=\"text-align: right;\">\n",
       "      <th></th>\n",
       "      <th>first</th>\n",
       "      <th>Second</th>\n",
       "      <th>Third</th>\n",
       "    </tr>\n",
       "  </thead>\n",
       "  <tbody>\n",
       "    <tr>\n",
       "      <th>0</th>\n",
       "      <td>1</td>\n",
       "      <td>5</td>\n",
       "      <td>9</td>\n",
       "    </tr>\n",
       "    <tr>\n",
       "      <th>1</th>\n",
       "      <td>2</td>\n",
       "      <td>6</td>\n",
       "      <td>10</td>\n",
       "    </tr>\n",
       "    <tr>\n",
       "      <th>2</th>\n",
       "      <td>3</td>\n",
       "      <td>7</td>\n",
       "      <td>11</td>\n",
       "    </tr>\n",
       "    <tr>\n",
       "      <th>3</th>\n",
       "      <td>4</td>\n",
       "      <td>8</td>\n",
       "      <td>12</td>\n",
       "    </tr>\n",
       "  </tbody>\n",
       "</table>\n",
       "</div>"
      ],
      "text/plain": [
       "   first  Second  Third\n",
       "0      1       5      9\n",
       "1      2       6     10\n",
       "2      3       7     11\n",
       "3      4       8     12"
      ]
     },
     "execution_count": 30,
     "metadata": {},
     "output_type": "execute_result"
    }
   ],
   "source": [
    "pd.DataFrame(d)"
   ]
  },
  {
   "cell_type": "code",
   "execution_count": 37,
   "metadata": {},
   "outputs": [
    {
     "data": {
      "text/html": [
       "<div>\n",
       "<style scoped>\n",
       "    .dataframe tbody tr th:only-of-type {\n",
       "        vertical-align: middle;\n",
       "    }\n",
       "\n",
       "    .dataframe tbody tr th {\n",
       "        vertical-align: top;\n",
       "    }\n",
       "\n",
       "    .dataframe thead th {\n",
       "        text-align: right;\n",
       "    }\n",
       "</style>\n",
       "<table border=\"1\" class=\"dataframe\">\n",
       "  <thead>\n",
       "    <tr style=\"text-align: right;\">\n",
       "      <th></th>\n",
       "      <th>0</th>\n",
       "    </tr>\n",
       "  </thead>\n",
       "  <tbody>\n",
       "    <tr>\n",
       "      <th>0</th>\n",
       "      <td>1</td>\n",
       "    </tr>\n",
       "    <tr>\n",
       "      <th>1</th>\n",
       "      <td>2</td>\n",
       "    </tr>\n",
       "    <tr>\n",
       "      <th>2</th>\n",
       "      <td>3</td>\n",
       "    </tr>\n",
       "    <tr>\n",
       "      <th>3</th>\n",
       "      <td>4</td>\n",
       "    </tr>\n",
       "  </tbody>\n",
       "</table>\n",
       "</div>"
      ],
      "text/plain": [
       "   0\n",
       "0  1\n",
       "1  2\n",
       "2  3\n",
       "3  4"
      ]
     },
     "execution_count": 37,
     "metadata": {},
     "output_type": "execute_result"
    }
   ],
   "source": [
    "pd.DataFrame(d['first'])"
   ]
  },
  {
   "cell_type": "code",
   "execution_count": 42,
   "metadata": {},
   "outputs": [
    {
     "data": {
      "text/html": [
       "<div>\n",
       "<style scoped>\n",
       "    .dataframe tbody tr th:only-of-type {\n",
       "        vertical-align: middle;\n",
       "    }\n",
       "\n",
       "    .dataframe tbody tr th {\n",
       "        vertical-align: top;\n",
       "    }\n",
       "\n",
       "    .dataframe thead th {\n",
       "        text-align: right;\n",
       "    }\n",
       "</style>\n",
       "<table border=\"1\" class=\"dataframe\">\n",
       "  <thead>\n",
       "    <tr style=\"text-align: right;\">\n",
       "      <th></th>\n",
       "      <th>0</th>\n",
       "    </tr>\n",
       "  </thead>\n",
       "  <tbody>\n",
       "    <tr>\n",
       "      <th>0</th>\n",
       "      <td>1</td>\n",
       "    </tr>\n",
       "    <tr>\n",
       "      <th>1</th>\n",
       "      <td>2</td>\n",
       "    </tr>\n",
       "    <tr>\n",
       "      <th>2</th>\n",
       "      <td>3</td>\n",
       "    </tr>\n",
       "    <tr>\n",
       "      <th>3</th>\n",
       "      <td>4</td>\n",
       "    </tr>\n",
       "  </tbody>\n",
       "</table>\n",
       "</div>"
      ],
      "text/plain": [
       "   0\n",
       "0  1\n",
       "1  2\n",
       "2  3\n",
       "3  4"
      ]
     },
     "execution_count": 42,
     "metadata": {},
     "output_type": "execute_result"
    }
   ],
   "source": [
    "pd.DataFrame(d['first'])"
   ]
  },
  {
   "cell_type": "code",
   "execution_count": 45,
   "metadata": {},
   "outputs": [
    {
     "ename": "ValueError",
     "evalue": "Shape of passed values is (4, 1), indices imply (4, 4)",
     "output_type": "error",
     "traceback": [
      "\u001b[1;31m---------------------------------------------------------------------------\u001b[0m",
      "\u001b[1;31mValueError\u001b[0m                                Traceback (most recent call last)",
      "\u001b[1;32mC:\\ProgramData\\Anaconda3\\lib\\site-packages\\pandas\\core\\internals\\managers.py\u001b[0m in \u001b[0;36mcreate_block_manager_from_blocks\u001b[1;34m(blocks, axes)\u001b[0m\n\u001b[0;32m   1650\u001b[0m                 blocks = [make_block(values=blocks[0],\n\u001b[1;32m-> 1651\u001b[1;33m                                      placement=slice(0, len(axes[0])))]\n\u001b[0m\u001b[0;32m   1652\u001b[0m \u001b[1;33m\u001b[0m\u001b[0m\n",
      "\u001b[1;32mC:\\ProgramData\\Anaconda3\\lib\\site-packages\\pandas\\core\\internals\\blocks.py\u001b[0m in \u001b[0;36mmake_block\u001b[1;34m(values, placement, klass, ndim, dtype, fastpath)\u001b[0m\n\u001b[0;32m   3094\u001b[0m \u001b[1;33m\u001b[0m\u001b[0m\n\u001b[1;32m-> 3095\u001b[1;33m     \u001b[1;32mreturn\u001b[0m \u001b[0mklass\u001b[0m\u001b[1;33m(\u001b[0m\u001b[0mvalues\u001b[0m\u001b[1;33m,\u001b[0m \u001b[0mndim\u001b[0m\u001b[1;33m=\u001b[0m\u001b[0mndim\u001b[0m\u001b[1;33m,\u001b[0m \u001b[0mplacement\u001b[0m\u001b[1;33m=\u001b[0m\u001b[0mplacement\u001b[0m\u001b[1;33m)\u001b[0m\u001b[1;33m\u001b[0m\u001b[1;33m\u001b[0m\u001b[0m\n\u001b[0m\u001b[0;32m   3096\u001b[0m \u001b[1;33m\u001b[0m\u001b[0m\n",
      "\u001b[1;32mC:\\ProgramData\\Anaconda3\\lib\\site-packages\\pandas\\core\\internals\\blocks.py\u001b[0m in \u001b[0;36m__init__\u001b[1;34m(self, values, placement, ndim)\u001b[0m\n\u001b[0;32m     86\u001b[0m                 \u001b[1;34m'Wrong number of items passed {val}, placement implies '\u001b[0m\u001b[1;33m\u001b[0m\u001b[1;33m\u001b[0m\u001b[0m\n\u001b[1;32m---> 87\u001b[1;33m                 '{mgr}'.format(val=len(self.values), mgr=len(self.mgr_locs)))\n\u001b[0m\u001b[0;32m     88\u001b[0m \u001b[1;33m\u001b[0m\u001b[0m\n",
      "\u001b[1;31mValueError\u001b[0m: Wrong number of items passed 1, placement implies 4",
      "\nDuring handling of the above exception, another exception occurred:\n",
      "\u001b[1;31mValueError\u001b[0m                                Traceback (most recent call last)",
      "\u001b[1;32m<ipython-input-45-101472355760>\u001b[0m in \u001b[0;36m<module>\u001b[1;34m\u001b[0m\n\u001b[1;32m----> 1\u001b[1;33m \u001b[0mpd\u001b[0m\u001b[1;33m.\u001b[0m\u001b[0mDataFrame\u001b[0m\u001b[1;33m(\u001b[0m\u001b[0md\u001b[0m\u001b[1;33m[\u001b[0m\u001b[1;34m'first'\u001b[0m\u001b[1;33m]\u001b[0m\u001b[1;33m,\u001b[0m\u001b[0md\u001b[0m\u001b[1;33m[\u001b[0m\u001b[1;34m'Second'\u001b[0m\u001b[1;33m]\u001b[0m\u001b[1;33m,\u001b[0m\u001b[0md\u001b[0m\u001b[1;33m[\u001b[0m\u001b[1;34m'Third'\u001b[0m\u001b[1;33m]\u001b[0m\u001b[1;33m)\u001b[0m\u001b[1;33m\u001b[0m\u001b[1;33m\u001b[0m\u001b[0m\n\u001b[0m",
      "\u001b[1;32mC:\\ProgramData\\Anaconda3\\lib\\site-packages\\pandas\\core\\frame.py\u001b[0m in \u001b[0;36m__init__\u001b[1;34m(self, data, index, columns, dtype, copy)\u001b[0m\n\u001b[0;32m    449\u001b[0m                 \u001b[1;32melse\u001b[0m\u001b[1;33m:\u001b[0m\u001b[1;33m\u001b[0m\u001b[1;33m\u001b[0m\u001b[0m\n\u001b[0;32m    450\u001b[0m                     mgr = init_ndarray(data, index, columns, dtype=dtype,\n\u001b[1;32m--> 451\u001b[1;33m                                        copy=copy)\n\u001b[0m\u001b[0;32m    452\u001b[0m             \u001b[1;32melse\u001b[0m\u001b[1;33m:\u001b[0m\u001b[1;33m\u001b[0m\u001b[1;33m\u001b[0m\u001b[0m\n\u001b[0;32m    453\u001b[0m                 \u001b[0mmgr\u001b[0m \u001b[1;33m=\u001b[0m \u001b[0minit_dict\u001b[0m\u001b[1;33m(\u001b[0m\u001b[1;33m{\u001b[0m\u001b[1;33m}\u001b[0m\u001b[1;33m,\u001b[0m \u001b[0mindex\u001b[0m\u001b[1;33m,\u001b[0m \u001b[0mcolumns\u001b[0m\u001b[1;33m,\u001b[0m \u001b[0mdtype\u001b[0m\u001b[1;33m=\u001b[0m\u001b[0mdtype\u001b[0m\u001b[1;33m)\u001b[0m\u001b[1;33m\u001b[0m\u001b[1;33m\u001b[0m\u001b[0m\n",
      "\u001b[1;32mC:\\ProgramData\\Anaconda3\\lib\\site-packages\\pandas\\core\\internals\\construction.py\u001b[0m in \u001b[0;36minit_ndarray\u001b[1;34m(values, index, columns, dtype, copy)\u001b[0m\n\u001b[0;32m    165\u001b[0m         \u001b[0mvalues\u001b[0m \u001b[1;33m=\u001b[0m \u001b[0mmaybe_infer_to_datetimelike\u001b[0m\u001b[1;33m(\u001b[0m\u001b[0mvalues\u001b[0m\u001b[1;33m)\u001b[0m\u001b[1;33m\u001b[0m\u001b[1;33m\u001b[0m\u001b[0m\n\u001b[0;32m    166\u001b[0m \u001b[1;33m\u001b[0m\u001b[0m\n\u001b[1;32m--> 167\u001b[1;33m     \u001b[1;32mreturn\u001b[0m \u001b[0mcreate_block_manager_from_blocks\u001b[0m\u001b[1;33m(\u001b[0m\u001b[1;33m[\u001b[0m\u001b[0mvalues\u001b[0m\u001b[1;33m]\u001b[0m\u001b[1;33m,\u001b[0m \u001b[1;33m[\u001b[0m\u001b[0mcolumns\u001b[0m\u001b[1;33m,\u001b[0m \u001b[0mindex\u001b[0m\u001b[1;33m]\u001b[0m\u001b[1;33m)\u001b[0m\u001b[1;33m\u001b[0m\u001b[1;33m\u001b[0m\u001b[0m\n\u001b[0m\u001b[0;32m    168\u001b[0m \u001b[1;33m\u001b[0m\u001b[0m\n\u001b[0;32m    169\u001b[0m \u001b[1;33m\u001b[0m\u001b[0m\n",
      "\u001b[1;32mC:\\ProgramData\\Anaconda3\\lib\\site-packages\\pandas\\core\\internals\\managers.py\u001b[0m in \u001b[0;36mcreate_block_manager_from_blocks\u001b[1;34m(blocks, axes)\u001b[0m\n\u001b[0;32m   1658\u001b[0m         \u001b[0mblocks\u001b[0m \u001b[1;33m=\u001b[0m \u001b[1;33m[\u001b[0m\u001b[0mgetattr\u001b[0m\u001b[1;33m(\u001b[0m\u001b[0mb\u001b[0m\u001b[1;33m,\u001b[0m \u001b[1;34m'values'\u001b[0m\u001b[1;33m,\u001b[0m \u001b[0mb\u001b[0m\u001b[1;33m)\u001b[0m \u001b[1;32mfor\u001b[0m \u001b[0mb\u001b[0m \u001b[1;32min\u001b[0m \u001b[0mblocks\u001b[0m\u001b[1;33m]\u001b[0m\u001b[1;33m\u001b[0m\u001b[1;33m\u001b[0m\u001b[0m\n\u001b[0;32m   1659\u001b[0m         \u001b[0mtot_items\u001b[0m \u001b[1;33m=\u001b[0m \u001b[0msum\u001b[0m\u001b[1;33m(\u001b[0m\u001b[0mb\u001b[0m\u001b[1;33m.\u001b[0m\u001b[0mshape\u001b[0m\u001b[1;33m[\u001b[0m\u001b[1;36m0\u001b[0m\u001b[1;33m]\u001b[0m \u001b[1;32mfor\u001b[0m \u001b[0mb\u001b[0m \u001b[1;32min\u001b[0m \u001b[0mblocks\u001b[0m\u001b[1;33m)\u001b[0m\u001b[1;33m\u001b[0m\u001b[1;33m\u001b[0m\u001b[0m\n\u001b[1;32m-> 1660\u001b[1;33m         \u001b[0mconstruction_error\u001b[0m\u001b[1;33m(\u001b[0m\u001b[0mtot_items\u001b[0m\u001b[1;33m,\u001b[0m \u001b[0mblocks\u001b[0m\u001b[1;33m[\u001b[0m\u001b[1;36m0\u001b[0m\u001b[1;33m]\u001b[0m\u001b[1;33m.\u001b[0m\u001b[0mshape\u001b[0m\u001b[1;33m[\u001b[0m\u001b[1;36m1\u001b[0m\u001b[1;33m:\u001b[0m\u001b[1;33m]\u001b[0m\u001b[1;33m,\u001b[0m \u001b[0maxes\u001b[0m\u001b[1;33m,\u001b[0m \u001b[0me\u001b[0m\u001b[1;33m)\u001b[0m\u001b[1;33m\u001b[0m\u001b[1;33m\u001b[0m\u001b[0m\n\u001b[0m\u001b[0;32m   1661\u001b[0m \u001b[1;33m\u001b[0m\u001b[0m\n\u001b[0;32m   1662\u001b[0m \u001b[1;33m\u001b[0m\u001b[0m\n",
      "\u001b[1;32mC:\\ProgramData\\Anaconda3\\lib\\site-packages\\pandas\\core\\internals\\managers.py\u001b[0m in \u001b[0;36mconstruction_error\u001b[1;34m(tot_items, block_shape, axes, e)\u001b[0m\n\u001b[0;32m   1689\u001b[0m         \u001b[1;32mraise\u001b[0m \u001b[0mValueError\u001b[0m\u001b[1;33m(\u001b[0m\u001b[1;34m\"Empty data passed with indices specified.\"\u001b[0m\u001b[1;33m)\u001b[0m\u001b[1;33m\u001b[0m\u001b[1;33m\u001b[0m\u001b[0m\n\u001b[0;32m   1690\u001b[0m     raise ValueError(\"Shape of passed values is {0}, indices imply {1}\".format(\n\u001b[1;32m-> 1691\u001b[1;33m         passed, implied))\n\u001b[0m\u001b[0;32m   1692\u001b[0m \u001b[1;33m\u001b[0m\u001b[0m\n\u001b[0;32m   1693\u001b[0m \u001b[1;33m\u001b[0m\u001b[0m\n",
      "\u001b[1;31mValueError\u001b[0m: Shape of passed values is (4, 1), indices imply (4, 4)"
     ]
    }
   ],
   "source": [
    "pd.DataFrame(d['first'],d['Second'],d['Third'])"
   ]
  },
  {
   "cell_type": "code",
   "execution_count": 46,
   "metadata": {},
   "outputs": [],
   "source": [
    "a=pd.DataFrame(d)"
   ]
  },
  {
   "cell_type": "code",
   "execution_count": 47,
   "metadata": {},
   "outputs": [
    {
     "data": {
      "text/html": [
       "<div>\n",
       "<style scoped>\n",
       "    .dataframe tbody tr th:only-of-type {\n",
       "        vertical-align: middle;\n",
       "    }\n",
       "\n",
       "    .dataframe tbody tr th {\n",
       "        vertical-align: top;\n",
       "    }\n",
       "\n",
       "    .dataframe thead th {\n",
       "        text-align: right;\n",
       "    }\n",
       "</style>\n",
       "<table border=\"1\" class=\"dataframe\">\n",
       "  <thead>\n",
       "    <tr style=\"text-align: right;\">\n",
       "      <th></th>\n",
       "      <th>first</th>\n",
       "      <th>Second</th>\n",
       "    </tr>\n",
       "  </thead>\n",
       "  <tbody>\n",
       "    <tr>\n",
       "      <th>0</th>\n",
       "      <td>1</td>\n",
       "      <td>5</td>\n",
       "    </tr>\n",
       "    <tr>\n",
       "      <th>1</th>\n",
       "      <td>2</td>\n",
       "      <td>6</td>\n",
       "    </tr>\n",
       "    <tr>\n",
       "      <th>2</th>\n",
       "      <td>3</td>\n",
       "      <td>7</td>\n",
       "    </tr>\n",
       "    <tr>\n",
       "      <th>3</th>\n",
       "      <td>4</td>\n",
       "      <td>8</td>\n",
       "    </tr>\n",
       "  </tbody>\n",
       "</table>\n",
       "</div>"
      ],
      "text/plain": [
       "   first  Second\n",
       "0      1       5\n",
       "1      2       6\n",
       "2      3       7\n",
       "3      4       8"
      ]
     },
     "execution_count": 47,
     "metadata": {},
     "output_type": "execute_result"
    }
   ],
   "source": [
    "a[['first','Second']]"
   ]
  },
  {
   "cell_type": "code",
   "execution_count": 48,
   "metadata": {},
   "outputs": [
    {
     "data": {
      "text/html": [
       "<div>\n",
       "<style scoped>\n",
       "    .dataframe tbody tr th:only-of-type {\n",
       "        vertical-align: middle;\n",
       "    }\n",
       "\n",
       "    .dataframe tbody tr th {\n",
       "        vertical-align: top;\n",
       "    }\n",
       "\n",
       "    .dataframe thead th {\n",
       "        text-align: right;\n",
       "    }\n",
       "</style>\n",
       "<table border=\"1\" class=\"dataframe\">\n",
       "  <thead>\n",
       "    <tr style=\"text-align: right;\">\n",
       "      <th></th>\n",
       "      <th>first</th>\n",
       "      <th>Second</th>\n",
       "      <th>Third</th>\n",
       "    </tr>\n",
       "  </thead>\n",
       "  <tbody>\n",
       "    <tr>\n",
       "      <th>0</th>\n",
       "      <td>1</td>\n",
       "      <td>5</td>\n",
       "      <td>9</td>\n",
       "    </tr>\n",
       "    <tr>\n",
       "      <th>1</th>\n",
       "      <td>2</td>\n",
       "      <td>6</td>\n",
       "      <td>10</td>\n",
       "    </tr>\n",
       "    <tr>\n",
       "      <th>2</th>\n",
       "      <td>3</td>\n",
       "      <td>7</td>\n",
       "      <td>11</td>\n",
       "    </tr>\n",
       "    <tr>\n",
       "      <th>3</th>\n",
       "      <td>4</td>\n",
       "      <td>8</td>\n",
       "      <td>12</td>\n",
       "    </tr>\n",
       "  </tbody>\n",
       "</table>\n",
       "</div>"
      ],
      "text/plain": [
       "   first  Second  Third\n",
       "0      1       5      9\n",
       "1      2       6     10\n",
       "2      3       7     11\n",
       "3      4       8     12"
      ]
     },
     "execution_count": 48,
     "metadata": {},
     "output_type": "execute_result"
    }
   ],
   "source": [
    "a"
   ]
  },
  {
   "cell_type": "code",
   "execution_count": 50,
   "metadata": {},
   "outputs": [],
   "source": [
    "a = pd.read_csv(\"FL_insurance_sample.csv\")"
   ]
  },
  {
   "cell_type": "code",
   "execution_count": 51,
   "metadata": {},
   "outputs": [
    {
     "name": "stdout",
     "output_type": "stream",
     "text": [
      "       policyID statecode           county  eq_site_limit  hu_site_limit  \\\n",
      "0        119736        FL      CLAY COUNTY       498960.0      498960.00   \n",
      "1        448094        FL      CLAY COUNTY      1322376.3     1322376.30   \n",
      "2        206893        FL      CLAY COUNTY       190724.4      190724.40   \n",
      "3        333743        FL      CLAY COUNTY            0.0       79520.76   \n",
      "4        172534        FL      CLAY COUNTY            0.0      254281.50   \n",
      "5        785275        FL      CLAY COUNTY            0.0      515035.62   \n",
      "6        995932        FL      CLAY COUNTY            0.0    19260000.00   \n",
      "7        223488        FL      CLAY COUNTY       328500.0      328500.00   \n",
      "8        433512        FL      CLAY COUNTY       315000.0      315000.00   \n",
      "9        142071        FL      CLAY COUNTY       705600.0      705600.00   \n",
      "10       253816        FL      CLAY COUNTY       831498.3      831498.30   \n",
      "11       894922        FL      CLAY COUNTY            0.0       24059.09   \n",
      "12       422834        FL      CLAY COUNTY            0.0       48115.94   \n",
      "13       582721        FL      CLAY COUNTY            0.0       28869.12   \n",
      "14       842700        FL      CLAY COUNTY            0.0       56135.64   \n",
      "15       874333        FL      CLAY COUNTY            0.0       48115.94   \n",
      "16       580146        FL      CLAY COUNTY            0.0       48115.94   \n",
      "17       456149        FL      CLAY COUNTY            0.0       80192.49   \n",
      "18       767862        FL      CLAY COUNTY            0.0       48115.94   \n",
      "19       353022        FL      CLAY COUNTY            0.0       60946.79   \n",
      "20       367814        FL      CLAY COUNTY            0.0       28869.12   \n",
      "21       671392        FL      CLAY COUNTY            0.0    13410000.00   \n",
      "22       772887        FL      CLAY COUNTY            0.0     1669113.93   \n",
      "23       983122        FL      CLAY COUNTY            0.0      179562.23   \n",
      "24       934215        FL      CLAY COUNTY            0.0      177744.16   \n",
      "25       385951        FL      CLAY COUNTY            0.0       17757.58   \n",
      "26       716332        FL      CLAY COUNTY            0.0      130129.87   \n",
      "27       751262        FL      CLAY COUNTY            0.0       42854.77   \n",
      "28       633663        FL      CLAY COUNTY            0.0         785.58   \n",
      "29       105851        FL      CLAY COUNTY            0.0      170361.91   \n",
      "...         ...       ...              ...            ...            ...   \n",
      "36604    792963        FL  PINELLAS COUNTY            0.0      492483.92   \n",
      "36605    367030        FL  PINELLAS COUNTY            0.0      954000.00   \n",
      "36606    594660        FL  PINELLAS COUNTY            0.0      900000.00   \n",
      "36607    360785        FL  PINELLAS COUNTY            0.0     1093500.00   \n",
      "36608    847570        FL  PINELLAS COUNTY            0.0      436632.30   \n",
      "36609    196088        FL  PINELLAS COUNTY      1917403.2     1917403.20   \n",
      "36610    166064        FL  PINELLAS COUNTY      1392346.8     1392346.80   \n",
      "36611    507269        FL  PINELLAS COUNTY      1175310.0     1175310.00   \n",
      "36612    335445        FL  PINELLAS COUNTY        47250.9       47250.90   \n",
      "36613    451921        FL  PINELLAS COUNTY        18630.0       18630.00   \n",
      "36614    859202        FL  PINELLAS COUNTY         9450.0        9450.00   \n",
      "36615    584224        FL  PINELLAS COUNTY            0.0      866904.30   \n",
      "36616    603769        FL  PINELLAS COUNTY            0.0     1541972.70   \n",
      "36617    575194        FL  PINELLAS COUNTY            0.0     3759303.60   \n",
      "36618    708726        FL  PINELLAS COUNTY            0.0      717846.30   \n",
      "36619    645213        FL  PINELLAS COUNTY            0.0     1728847.80   \n",
      "36620    175829        FL  PINELLAS COUNTY            0.0    24210000.00   \n",
      "36621    546178        FL  PINELLAS COUNTY            0.0     1331880.30   \n",
      "36622    938910        FL  PINELLAS COUNTY            0.0       35408.70   \n",
      "36623    592170        FL  PINELLAS COUNTY            0.0       24574.50   \n",
      "36624    827844        FL  PINELLAS COUNTY            0.0       38112.30   \n",
      "36625    876385        FL  PINELLAS COUNTY            0.0       18312.30   \n",
      "36626    167630        FL  PINELLAS COUNTY            0.0        4522.50   \n",
      "36627    241496        FL  PINELLAS COUNTY            0.0        1350.00   \n",
      "36628    780814        FL  PINELLAS COUNTY            0.0        9770.40   \n",
      "36629    404309        FL  PINELLAS COUNTY            0.0       88722.00   \n",
      "36630    465875        FL  PINELLAS COUNTY      1297057.5     1297057.50   \n",
      "36631    791209        FL  PINELLAS COUNTY       173286.9      173286.90   \n",
      "36632    322627        FL  PINELLAS COUNTY      1499781.6     1499781.60   \n",
      "36633    398149        FL  PINELLAS COUNTY       373488.3      373488.30   \n",
      "\n",
      "       fl_site_limit  fr_site_limit     tiv_2011     tiv_2012  \\\n",
      "0           498960.0       498960.0    498960.00    792148.90   \n",
      "1          1322376.3      1322376.3   1322376.30   1438163.57   \n",
      "2           190724.4       190724.4    190724.40    192476.78   \n",
      "3                0.0            0.0     79520.76     86854.48   \n",
      "4                0.0       254281.5    254281.50    246144.49   \n",
      "5                0.0            0.0    515035.62    884419.17   \n",
      "6                0.0            0.0  19260000.00  20610000.00   \n",
      "7           328500.0       328500.0    328500.00    348374.25   \n",
      "8           315000.0       315000.0    315000.00    265821.57   \n",
      "9           705600.0       705600.0    705600.00   1010842.56   \n",
      "10          831498.3       831498.3    831498.30   1117791.48   \n",
      "11               0.0            0.0     24059.09     33952.19   \n",
      "12               0.0            0.0     48115.94     66755.39   \n",
      "13               0.0            0.0     28869.12     42826.99   \n",
      "14               0.0            0.0     56135.64     50656.80   \n",
      "15               0.0            0.0     48115.94     67905.07   \n",
      "16               0.0            0.0     48115.94     66938.90   \n",
      "17               0.0            0.0     80192.49     86421.04   \n",
      "18               0.0            0.0     48115.94     73798.50   \n",
      "19               0.0            0.0     60946.79     62467.29   \n",
      "20               0.0            0.0     28869.12     42727.74   \n",
      "21               0.0            0.0  13410000.00  11700000.00   \n",
      "22               0.0            0.0   1669113.93   2099127.76   \n",
      "23               0.0            0.0    179562.23    211372.57   \n",
      "24               0.0            0.0    177744.16    157171.16   \n",
      "25               0.0            0.0     17757.58     16948.72   \n",
      "26               0.0            0.0    130129.87    101758.43   \n",
      "27               0.0            0.0     42854.77     63592.88   \n",
      "28               0.0            0.0       785.58       662.18   \n",
      "29               0.0            0.0    170361.91    177176.38   \n",
      "...              ...            ...          ...          ...   \n",
      "36604            0.0            0.0    492483.92    631451.06   \n",
      "36605            0.0       954000.0    954000.00   1572497.28   \n",
      "36606            0.0       900000.0    900000.00    811814.40   \n",
      "36607            0.0      1093500.0   1093500.00   1534191.44   \n",
      "36608            0.0            0.0    436632.30    688459.98   \n",
      "36609      1917403.2      1917403.2   1917403.20   3302918.75   \n",
      "36610      1392346.8      1392346.8   1392346.80   1361819.60   \n",
      "36611      1175310.0      1175310.0   1175310.00   1521291.88   \n",
      "36612        47250.9        47250.9     47250.90     37895.60   \n",
      "36613        18630.0        18630.0     18630.00     21790.39   \n",
      "36614         9450.0         9450.0      9450.00      9577.31   \n",
      "36615            0.0       866904.3    866904.30   1329858.94   \n",
      "36616            0.0      1541972.7   1541972.70   2064682.94   \n",
      "36617            0.0      3759303.6   3759303.60   4209183.22   \n",
      "36618            0.0       717846.3    717846.30   1097387.43   \n",
      "36619            0.0      1728847.8   1728847.80   1449908.58   \n",
      "36620            0.0     24210000.0  24210000.00  27000000.00   \n",
      "36621            0.0      1331880.3   1331880.30   1770812.11   \n",
      "36622            0.0        35408.7     35408.70     51588.17   \n",
      "36623            0.0        24574.5     24574.50     40907.70   \n",
      "36624            0.0        38112.3     38112.30     52710.45   \n",
      "36625            0.0        18312.3     18312.30     18575.81   \n",
      "36626            0.0         4522.5      4522.50      4048.11   \n",
      "36627            0.0         1350.0      1350.00      1430.16   \n",
      "36628            0.0         9770.4      9770.40      9349.98   \n",
      "36629            0.0        88722.0     88722.00    155065.65   \n",
      "36630      1297057.5      1297057.5   1297057.50   1577500.79   \n",
      "36631            0.0            0.0    173286.90    205527.97   \n",
      "36632            0.0            0.0   1499781.60   1768782.43   \n",
      "36633            0.0            0.0    373488.30    596003.67   \n",
      "\n",
      "       eq_site_deductible  hu_site_deductible  fl_site_deductible  \\\n",
      "0                     0.0              9979.2                 0.0   \n",
      "1                     0.0                 0.0                 0.0   \n",
      "2                     0.0                 0.0                 0.0   \n",
      "3                     0.0                 0.0                 0.0   \n",
      "4                     0.0                 0.0                 0.0   \n",
      "5                     0.0                 0.0                 0.0   \n",
      "6                     0.0                 0.0                 0.0   \n",
      "7                     0.0             16425.0                 0.0   \n",
      "8                     0.0             15750.0                 0.0   \n",
      "9                 14112.0             35280.0                 0.0   \n",
      "10                    0.0                 0.0                 0.0   \n",
      "11                    0.0                 0.0                 0.0   \n",
      "12                    0.0                 0.0                 0.0   \n",
      "13                    0.0                 0.0                 0.0   \n",
      "14                    0.0                 0.0                 0.0   \n",
      "15                    0.0                 0.0                 0.0   \n",
      "16                    0.0                 0.0                 0.0   \n",
      "17                    0.0                 0.0                 0.0   \n",
      "18                    0.0                 0.0                 0.0   \n",
      "19                    0.0                 0.0                 0.0   \n",
      "20                    0.0                 0.0                 0.0   \n",
      "21                    0.0                 0.0                 0.0   \n",
      "22                    0.0                 0.0                 0.0   \n",
      "23                    0.0                 0.0                 0.0   \n",
      "24                    0.0                 0.0                 0.0   \n",
      "25                    0.0                 0.0                 0.0   \n",
      "26                    0.0                 0.0                 0.0   \n",
      "27                    0.0                 0.0                 0.0   \n",
      "28                    0.0                 0.0                 0.0   \n",
      "29                    0.0                 0.0                 0.0   \n",
      "...                   ...                 ...                 ...   \n",
      "36604                 0.0                 0.0                 0.0   \n",
      "36605                 0.0             47700.0                 0.0   \n",
      "36606                 0.0             27000.0                 0.0   \n",
      "36607                 0.0             32805.0                 0.0   \n",
      "36608                 0.0                 0.0                 0.0   \n",
      "36609                 0.0                 0.0                 0.0   \n",
      "36610                 0.0                 0.0                 0.0   \n",
      "36611                 0.0                 0.0                 0.0   \n",
      "36612                 0.0                 0.0                 0.0   \n",
      "36613                 0.0                 0.0                 0.0   \n",
      "36614                 0.0                 0.0                 0.0   \n",
      "36615                 0.0                 0.0                 0.0   \n",
      "36616                 0.0                 0.0                 0.0   \n",
      "36617                 0.0                 0.0                 0.0   \n",
      "36618                 0.0                 0.0                 0.0   \n",
      "36619                 0.0                 0.0                 0.0   \n",
      "36620                 0.0                 0.0                 0.0   \n",
      "36621                 0.0                 0.0                 0.0   \n",
      "36622                 0.0                 0.0                 0.0   \n",
      "36623                 0.0                 0.0                 0.0   \n",
      "36624                 0.0                 0.0                 0.0   \n",
      "36625                 0.0                 0.0                 0.0   \n",
      "36626                 0.0                 0.0                 0.0   \n",
      "36627                 0.0                 0.0                 0.0   \n",
      "36628                 0.0                 0.0                 0.0   \n",
      "36629                 0.0                 0.0                 0.0   \n",
      "36630                 0.0                 0.0                 0.0   \n",
      "36631                 0.0                 0.0                 0.0   \n",
      "36632                 0.0                 0.0                 0.0   \n",
      "36633                 0.0                 0.0                 0.0   \n",
      "\n",
      "       fr_site_deductible  point_latitude  point_longitude         line  \\\n",
      "0                       0       30.102261       -81.711777  Residential   \n",
      "1                       0       30.063936       -81.707664  Residential   \n",
      "2                       0       30.089579       -81.700455  Residential   \n",
      "3                       0       30.063236       -81.707703  Residential   \n",
      "4                       0       30.060614       -81.702675  Residential   \n",
      "5                       0       30.063236       -81.707703  Residential   \n",
      "6                       0       30.102226       -81.713882   Commercial   \n",
      "7                       0       30.102217       -81.707146  Residential   \n",
      "8                       0       30.118774       -81.704613  Residential   \n",
      "9                       0       30.100628       -81.703751  Residential   \n",
      "10                      0       30.102160       -81.719444  Residential   \n",
      "11                      0       30.095957       -81.695099  Residential   \n",
      "12                      0       30.100073       -81.739822  Residential   \n",
      "13                      0       30.092480       -81.725167  Residential   \n",
      "14                      0       30.101356       -81.726248  Residential   \n",
      "15                      0       30.113743       -81.727463  Residential   \n",
      "16                      0       30.121655       -81.732391  Residential   \n",
      "17                      0       30.109537       -81.741661  Residential   \n",
      "18                      0       30.118240       -81.745335  Residential   \n",
      "19                      0       30.065799       -81.717416  Residential   \n",
      "20                      0       30.082993       -81.710581  Residential   \n",
      "21                      0       30.091921       -81.711929   Commercial   \n",
      "22                      0       30.117352       -81.711884  Residential   \n",
      "23                      0       30.095783       -81.713181  Residential   \n",
      "24                      0       30.110518       -81.727478  Residential   \n",
      "25                      0       30.102880       -81.705719  Residential   \n",
      "26                      0       30.068468       -81.716240  Residential   \n",
      "27                      0       30.068468       -81.716240  Residential   \n",
      "28                      0       30.068468       -81.716240  Residential   \n",
      "29                      0       30.068468       -81.716240  Residential   \n",
      "...                   ...             ...              ...          ...   \n",
      "36604                   0       28.063780       -82.702550  Residential   \n",
      "36605                   0       28.041555       -82.669777  Residential   \n",
      "36606                   0       28.040613       -82.668579  Residential   \n",
      "36607                   0       28.048200       -82.681200  Residential   \n",
      "36608                   0       28.056019       -82.763885  Residential   \n",
      "36609                   0       28.081780       -82.748710   Commercial   \n",
      "36610                   0       28.081780       -82.748710  Residential   \n",
      "36611                   0       28.053280       -82.745920  Residential   \n",
      "36612                   0       28.081780       -82.748710  Residential   \n",
      "36613                   0       28.081780       -82.748710  Residential   \n",
      "36614                   0       28.053280       -82.745920  Residential   \n",
      "36615                   0       28.122885       -82.770218  Residential   \n",
      "36616                   0       28.122885       -82.770218  Residential   \n",
      "36617                   0       28.122885       -82.770218   Commercial   \n",
      "36618                   0       28.122885       -82.770218  Residential   \n",
      "36619                   0       28.122885       -82.770218  Residential   \n",
      "36620                   0       28.122885       -82.770218   Commercial   \n",
      "36621                   0       28.122885       -82.770218  Residential   \n",
      "36622                   0       28.122885       -82.770218  Residential   \n",
      "36623                   0       28.122885       -82.770218  Residential   \n",
      "36624                   0       28.122885       -82.770218  Residential   \n",
      "36625                   0       28.122885       -82.770218  Residential   \n",
      "36626                   0       28.122885       -82.770218  Residential   \n",
      "36627                   0       28.122885       -82.770218  Residential   \n",
      "36628                   0       28.122885       -82.770218  Residential   \n",
      "36629                   0       28.122885       -82.770218  Residential   \n",
      "36630                   0       28.080900       -82.758800  Residential   \n",
      "36631                   0       28.110550       -82.766360  Residential   \n",
      "36632                   0       28.089415       -82.697411  Residential   \n",
      "36633                   0       28.064440       -82.774590  Residential   \n",
      "\n",
      "              construction  point_granularity  \n",
      "0                  Masonry                  1  \n",
      "1                  Masonry                  3  \n",
      "2                     Wood                  1  \n",
      "3                     Wood                  3  \n",
      "4                     Wood                  1  \n",
      "5                  Masonry                  3  \n",
      "6      Reinforced Concrete                  1  \n",
      "7                     Wood                  1  \n",
      "8                     Wood                  1  \n",
      "9                  Masonry                  1  \n",
      "10                 Masonry                  1  \n",
      "11                    Wood                  1  \n",
      "12                    Wood                  1  \n",
      "13                    Wood                  1  \n",
      "14                    Wood                  1  \n",
      "15                    Wood                  1  \n",
      "16                    Wood                  3  \n",
      "17                    Wood                  1  \n",
      "18                    Wood                  3  \n",
      "19                    Wood                  1  \n",
      "20                    Wood                  1  \n",
      "21     Reinforced Concrete                  3  \n",
      "22                 Masonry                  1  \n",
      "23                    Wood                  3  \n",
      "24                    Wood                  1  \n",
      "25                    Wood                  1  \n",
      "26                    Wood                  1  \n",
      "27                    Wood                  1  \n",
      "28                    Wood                  1  \n",
      "29                    Wood                  1  \n",
      "...                    ...                ...  \n",
      "36604              Masonry                  1  \n",
      "36605              Masonry                  1  \n",
      "36606              Masonry                  1  \n",
      "36607              Masonry                  4  \n",
      "36608              Masonry                  3  \n",
      "36609   Reinforced Masonry                  1  \n",
      "36610              Masonry                  1  \n",
      "36611              Masonry                  1  \n",
      "36612                 Wood                  1  \n",
      "36613                 Wood                  1  \n",
      "36614                 Wood                  1  \n",
      "36615              Masonry                  3  \n",
      "36616              Masonry                  3  \n",
      "36617   Reinforced Masonry                  3  \n",
      "36618              Masonry                  3  \n",
      "36619              Masonry                  3  \n",
      "36620  Reinforced Concrete                  3  \n",
      "36621              Masonry                  3  \n",
      "36622                 Wood                  3  \n",
      "36623                 Wood                  3  \n",
      "36624                 Wood                  3  \n",
      "36625                 Wood                  3  \n",
      "36626                 Wood                  3  \n",
      "36627                 Wood                  3  \n",
      "36628                 Wood                  3  \n",
      "36629                 Wood                  3  \n",
      "36630              Masonry                  1  \n",
      "36631                 Wood                  4  \n",
      "36632              Masonry                  3  \n",
      "36633              Masonry                  1  \n",
      "\n",
      "[36634 rows x 18 columns]\n"
     ]
    }
   ],
   "source": [
    "print(a)"
   ]
  },
  {
   "cell_type": "code",
   "execution_count": 54,
   "metadata": {},
   "outputs": [
    {
     "data": {
      "text/html": [
       "<div>\n",
       "<style scoped>\n",
       "    .dataframe tbody tr th:only-of-type {\n",
       "        vertical-align: middle;\n",
       "    }\n",
       "\n",
       "    .dataframe tbody tr th {\n",
       "        vertical-align: top;\n",
       "    }\n",
       "\n",
       "    .dataframe thead th {\n",
       "        text-align: right;\n",
       "    }\n",
       "</style>\n",
       "<table border=\"1\" class=\"dataframe\">\n",
       "  <thead>\n",
       "    <tr style=\"text-align: right;\">\n",
       "      <th></th>\n",
       "      <th>policyID</th>\n",
       "      <th>statecode</th>\n",
       "    </tr>\n",
       "  </thead>\n",
       "  <tbody>\n",
       "    <tr>\n",
       "      <th>0</th>\n",
       "      <td>119736</td>\n",
       "      <td>FL</td>\n",
       "    </tr>\n",
       "    <tr>\n",
       "      <th>1</th>\n",
       "      <td>448094</td>\n",
       "      <td>FL</td>\n",
       "    </tr>\n",
       "    <tr>\n",
       "      <th>2</th>\n",
       "      <td>206893</td>\n",
       "      <td>FL</td>\n",
       "    </tr>\n",
       "    <tr>\n",
       "      <th>3</th>\n",
       "      <td>333743</td>\n",
       "      <td>FL</td>\n",
       "    </tr>\n",
       "    <tr>\n",
       "      <th>4</th>\n",
       "      <td>172534</td>\n",
       "      <td>FL</td>\n",
       "    </tr>\n",
       "    <tr>\n",
       "      <th>5</th>\n",
       "      <td>785275</td>\n",
       "      <td>FL</td>\n",
       "    </tr>\n",
       "    <tr>\n",
       "      <th>6</th>\n",
       "      <td>995932</td>\n",
       "      <td>FL</td>\n",
       "    </tr>\n",
       "    <tr>\n",
       "      <th>7</th>\n",
       "      <td>223488</td>\n",
       "      <td>FL</td>\n",
       "    </tr>\n",
       "    <tr>\n",
       "      <th>8</th>\n",
       "      <td>433512</td>\n",
       "      <td>FL</td>\n",
       "    </tr>\n",
       "    <tr>\n",
       "      <th>9</th>\n",
       "      <td>142071</td>\n",
       "      <td>FL</td>\n",
       "    </tr>\n",
       "    <tr>\n",
       "      <th>10</th>\n",
       "      <td>253816</td>\n",
       "      <td>FL</td>\n",
       "    </tr>\n",
       "    <tr>\n",
       "      <th>11</th>\n",
       "      <td>894922</td>\n",
       "      <td>FL</td>\n",
       "    </tr>\n",
       "    <tr>\n",
       "      <th>12</th>\n",
       "      <td>422834</td>\n",
       "      <td>FL</td>\n",
       "    </tr>\n",
       "    <tr>\n",
       "      <th>13</th>\n",
       "      <td>582721</td>\n",
       "      <td>FL</td>\n",
       "    </tr>\n",
       "    <tr>\n",
       "      <th>14</th>\n",
       "      <td>842700</td>\n",
       "      <td>FL</td>\n",
       "    </tr>\n",
       "    <tr>\n",
       "      <th>15</th>\n",
       "      <td>874333</td>\n",
       "      <td>FL</td>\n",
       "    </tr>\n",
       "    <tr>\n",
       "      <th>16</th>\n",
       "      <td>580146</td>\n",
       "      <td>FL</td>\n",
       "    </tr>\n",
       "    <tr>\n",
       "      <th>17</th>\n",
       "      <td>456149</td>\n",
       "      <td>FL</td>\n",
       "    </tr>\n",
       "    <tr>\n",
       "      <th>18</th>\n",
       "      <td>767862</td>\n",
       "      <td>FL</td>\n",
       "    </tr>\n",
       "    <tr>\n",
       "      <th>19</th>\n",
       "      <td>353022</td>\n",
       "      <td>FL</td>\n",
       "    </tr>\n",
       "    <tr>\n",
       "      <th>20</th>\n",
       "      <td>367814</td>\n",
       "      <td>FL</td>\n",
       "    </tr>\n",
       "    <tr>\n",
       "      <th>21</th>\n",
       "      <td>671392</td>\n",
       "      <td>FL</td>\n",
       "    </tr>\n",
       "    <tr>\n",
       "      <th>22</th>\n",
       "      <td>772887</td>\n",
       "      <td>FL</td>\n",
       "    </tr>\n",
       "    <tr>\n",
       "      <th>23</th>\n",
       "      <td>983122</td>\n",
       "      <td>FL</td>\n",
       "    </tr>\n",
       "    <tr>\n",
       "      <th>24</th>\n",
       "      <td>934215</td>\n",
       "      <td>FL</td>\n",
       "    </tr>\n",
       "    <tr>\n",
       "      <th>25</th>\n",
       "      <td>385951</td>\n",
       "      <td>FL</td>\n",
       "    </tr>\n",
       "    <tr>\n",
       "      <th>26</th>\n",
       "      <td>716332</td>\n",
       "      <td>FL</td>\n",
       "    </tr>\n",
       "    <tr>\n",
       "      <th>27</th>\n",
       "      <td>751262</td>\n",
       "      <td>FL</td>\n",
       "    </tr>\n",
       "    <tr>\n",
       "      <th>28</th>\n",
       "      <td>633663</td>\n",
       "      <td>FL</td>\n",
       "    </tr>\n",
       "    <tr>\n",
       "      <th>29</th>\n",
       "      <td>105851</td>\n",
       "      <td>FL</td>\n",
       "    </tr>\n",
       "    <tr>\n",
       "      <th>...</th>\n",
       "      <td>...</td>\n",
       "      <td>...</td>\n",
       "    </tr>\n",
       "    <tr>\n",
       "      <th>36604</th>\n",
       "      <td>792963</td>\n",
       "      <td>FL</td>\n",
       "    </tr>\n",
       "    <tr>\n",
       "      <th>36605</th>\n",
       "      <td>367030</td>\n",
       "      <td>FL</td>\n",
       "    </tr>\n",
       "    <tr>\n",
       "      <th>36606</th>\n",
       "      <td>594660</td>\n",
       "      <td>FL</td>\n",
       "    </tr>\n",
       "    <tr>\n",
       "      <th>36607</th>\n",
       "      <td>360785</td>\n",
       "      <td>FL</td>\n",
       "    </tr>\n",
       "    <tr>\n",
       "      <th>36608</th>\n",
       "      <td>847570</td>\n",
       "      <td>FL</td>\n",
       "    </tr>\n",
       "    <tr>\n",
       "      <th>36609</th>\n",
       "      <td>196088</td>\n",
       "      <td>FL</td>\n",
       "    </tr>\n",
       "    <tr>\n",
       "      <th>36610</th>\n",
       "      <td>166064</td>\n",
       "      <td>FL</td>\n",
       "    </tr>\n",
       "    <tr>\n",
       "      <th>36611</th>\n",
       "      <td>507269</td>\n",
       "      <td>FL</td>\n",
       "    </tr>\n",
       "    <tr>\n",
       "      <th>36612</th>\n",
       "      <td>335445</td>\n",
       "      <td>FL</td>\n",
       "    </tr>\n",
       "    <tr>\n",
       "      <th>36613</th>\n",
       "      <td>451921</td>\n",
       "      <td>FL</td>\n",
       "    </tr>\n",
       "    <tr>\n",
       "      <th>36614</th>\n",
       "      <td>859202</td>\n",
       "      <td>FL</td>\n",
       "    </tr>\n",
       "    <tr>\n",
       "      <th>36615</th>\n",
       "      <td>584224</td>\n",
       "      <td>FL</td>\n",
       "    </tr>\n",
       "    <tr>\n",
       "      <th>36616</th>\n",
       "      <td>603769</td>\n",
       "      <td>FL</td>\n",
       "    </tr>\n",
       "    <tr>\n",
       "      <th>36617</th>\n",
       "      <td>575194</td>\n",
       "      <td>FL</td>\n",
       "    </tr>\n",
       "    <tr>\n",
       "      <th>36618</th>\n",
       "      <td>708726</td>\n",
       "      <td>FL</td>\n",
       "    </tr>\n",
       "    <tr>\n",
       "      <th>36619</th>\n",
       "      <td>645213</td>\n",
       "      <td>FL</td>\n",
       "    </tr>\n",
       "    <tr>\n",
       "      <th>36620</th>\n",
       "      <td>175829</td>\n",
       "      <td>FL</td>\n",
       "    </tr>\n",
       "    <tr>\n",
       "      <th>36621</th>\n",
       "      <td>546178</td>\n",
       "      <td>FL</td>\n",
       "    </tr>\n",
       "    <tr>\n",
       "      <th>36622</th>\n",
       "      <td>938910</td>\n",
       "      <td>FL</td>\n",
       "    </tr>\n",
       "    <tr>\n",
       "      <th>36623</th>\n",
       "      <td>592170</td>\n",
       "      <td>FL</td>\n",
       "    </tr>\n",
       "    <tr>\n",
       "      <th>36624</th>\n",
       "      <td>827844</td>\n",
       "      <td>FL</td>\n",
       "    </tr>\n",
       "    <tr>\n",
       "      <th>36625</th>\n",
       "      <td>876385</td>\n",
       "      <td>FL</td>\n",
       "    </tr>\n",
       "    <tr>\n",
       "      <th>36626</th>\n",
       "      <td>167630</td>\n",
       "      <td>FL</td>\n",
       "    </tr>\n",
       "    <tr>\n",
       "      <th>36627</th>\n",
       "      <td>241496</td>\n",
       "      <td>FL</td>\n",
       "    </tr>\n",
       "    <tr>\n",
       "      <th>36628</th>\n",
       "      <td>780814</td>\n",
       "      <td>FL</td>\n",
       "    </tr>\n",
       "    <tr>\n",
       "      <th>36629</th>\n",
       "      <td>404309</td>\n",
       "      <td>FL</td>\n",
       "    </tr>\n",
       "    <tr>\n",
       "      <th>36630</th>\n",
       "      <td>465875</td>\n",
       "      <td>FL</td>\n",
       "    </tr>\n",
       "    <tr>\n",
       "      <th>36631</th>\n",
       "      <td>791209</td>\n",
       "      <td>FL</td>\n",
       "    </tr>\n",
       "    <tr>\n",
       "      <th>36632</th>\n",
       "      <td>322627</td>\n",
       "      <td>FL</td>\n",
       "    </tr>\n",
       "    <tr>\n",
       "      <th>36633</th>\n",
       "      <td>398149</td>\n",
       "      <td>FL</td>\n",
       "    </tr>\n",
       "  </tbody>\n",
       "</table>\n",
       "<p>36634 rows × 2 columns</p>\n",
       "</div>"
      ],
      "text/plain": [
       "       policyID statecode\n",
       "0        119736        FL\n",
       "1        448094        FL\n",
       "2        206893        FL\n",
       "3        333743        FL\n",
       "4        172534        FL\n",
       "5        785275        FL\n",
       "6        995932        FL\n",
       "7        223488        FL\n",
       "8        433512        FL\n",
       "9        142071        FL\n",
       "10       253816        FL\n",
       "11       894922        FL\n",
       "12       422834        FL\n",
       "13       582721        FL\n",
       "14       842700        FL\n",
       "15       874333        FL\n",
       "16       580146        FL\n",
       "17       456149        FL\n",
       "18       767862        FL\n",
       "19       353022        FL\n",
       "20       367814        FL\n",
       "21       671392        FL\n",
       "22       772887        FL\n",
       "23       983122        FL\n",
       "24       934215        FL\n",
       "25       385951        FL\n",
       "26       716332        FL\n",
       "27       751262        FL\n",
       "28       633663        FL\n",
       "29       105851        FL\n",
       "...         ...       ...\n",
       "36604    792963        FL\n",
       "36605    367030        FL\n",
       "36606    594660        FL\n",
       "36607    360785        FL\n",
       "36608    847570        FL\n",
       "36609    196088        FL\n",
       "36610    166064        FL\n",
       "36611    507269        FL\n",
       "36612    335445        FL\n",
       "36613    451921        FL\n",
       "36614    859202        FL\n",
       "36615    584224        FL\n",
       "36616    603769        FL\n",
       "36617    575194        FL\n",
       "36618    708726        FL\n",
       "36619    645213        FL\n",
       "36620    175829        FL\n",
       "36621    546178        FL\n",
       "36622    938910        FL\n",
       "36623    592170        FL\n",
       "36624    827844        FL\n",
       "36625    876385        FL\n",
       "36626    167630        FL\n",
       "36627    241496        FL\n",
       "36628    780814        FL\n",
       "36629    404309        FL\n",
       "36630    465875        FL\n",
       "36631    791209        FL\n",
       "36632    322627        FL\n",
       "36633    398149        FL\n",
       "\n",
       "[36634 rows x 2 columns]"
      ]
     },
     "execution_count": 54,
     "metadata": {},
     "output_type": "execute_result"
    }
   ],
   "source": [
    "a[['policyID','statecode']]"
   ]
  },
  {
   "cell_type": "code",
   "execution_count": 56,
   "metadata": {},
   "outputs": [],
   "source": [
    "a = pd.read_csv('FL_insurance_sample.csv',index_col ='policyID')"
   ]
  },
  {
   "cell_type": "code",
   "execution_count": 58,
   "metadata": {},
   "outputs": [],
   "source": [
    "b = a.loc[404309]"
   ]
  },
  {
   "cell_type": "code",
   "execution_count": 59,
   "metadata": {},
   "outputs": [
    {
     "data": {
      "text/plain": [
       "statecode                          FL\n",
       "county                PINELLAS COUNTY\n",
       "eq_site_limit                       0\n",
       "hu_site_limit                   88722\n",
       "fl_site_limit                       0\n",
       "fr_site_limit                   88722\n",
       "tiv_2011                        88722\n",
       "tiv_2012                       155066\n",
       "eq_site_deductible                  0\n",
       "hu_site_deductible                  0\n",
       "fl_site_deductible                  0\n",
       "fr_site_deductible                  0\n",
       "point_latitude                28.1229\n",
       "point_longitude              -82.7702\n",
       "line                      Residential\n",
       "construction                     Wood\n",
       "point_granularity                   3\n",
       "Name: 404309, dtype: object"
      ]
     },
     "execution_count": 59,
     "metadata": {},
     "output_type": "execute_result"
    }
   ],
   "source": [
    "b"
   ]
  },
  {
   "cell_type": "code",
   "execution_count": 64,
   "metadata": {},
   "outputs": [
    {
     "ename": "KeyError",
     "evalue": "'Wood'",
     "output_type": "error",
     "traceback": [
      "\u001b[1;31m---------------------------------------------------------------------------\u001b[0m",
      "\u001b[1;31mKeyError\u001b[0m                                  Traceback (most recent call last)",
      "\u001b[1;32mC:\\ProgramData\\Anaconda3\\lib\\site-packages\\pandas\\core\\indexes\\base.py\u001b[0m in \u001b[0;36mget_loc\u001b[1;34m(self, key, method, tolerance)\u001b[0m\n\u001b[0;32m   2656\u001b[0m             \u001b[1;32mtry\u001b[0m\u001b[1;33m:\u001b[0m\u001b[1;33m\u001b[0m\u001b[1;33m\u001b[0m\u001b[0m\n\u001b[1;32m-> 2657\u001b[1;33m                 \u001b[1;32mreturn\u001b[0m \u001b[0mself\u001b[0m\u001b[1;33m.\u001b[0m\u001b[0m_engine\u001b[0m\u001b[1;33m.\u001b[0m\u001b[0mget_loc\u001b[0m\u001b[1;33m(\u001b[0m\u001b[0mkey\u001b[0m\u001b[1;33m)\u001b[0m\u001b[1;33m\u001b[0m\u001b[1;33m\u001b[0m\u001b[0m\n\u001b[0m\u001b[0;32m   2658\u001b[0m             \u001b[1;32mexcept\u001b[0m \u001b[0mKeyError\u001b[0m\u001b[1;33m:\u001b[0m\u001b[1;33m\u001b[0m\u001b[1;33m\u001b[0m\u001b[0m\n",
      "\u001b[1;32mpandas/_libs/index.pyx\u001b[0m in \u001b[0;36mpandas._libs.index.IndexEngine.get_loc\u001b[1;34m()\u001b[0m\n",
      "\u001b[1;32mpandas/_libs/index.pyx\u001b[0m in \u001b[0;36mpandas._libs.index.IndexEngine.get_loc\u001b[1;34m()\u001b[0m\n",
      "\u001b[1;32mpandas/_libs/index_class_helper.pxi\u001b[0m in \u001b[0;36mpandas._libs.index.Int64Engine._check_type\u001b[1;34m()\u001b[0m\n",
      "\u001b[1;31mKeyError\u001b[0m: 'Wood'",
      "\nDuring handling of the above exception, another exception occurred:\n",
      "\u001b[1;31mKeyError\u001b[0m                                  Traceback (most recent call last)",
      "\u001b[1;32m<ipython-input-64-2c5eab24a085>\u001b[0m in \u001b[0;36m<module>\u001b[1;34m\u001b[0m\n\u001b[1;32m----> 1\u001b[1;33m \u001b[0mb1\u001b[0m \u001b[1;33m=\u001b[0m \u001b[0ma\u001b[0m\u001b[1;33m.\u001b[0m\u001b[0mloc\u001b[0m\u001b[1;33m[\u001b[0m\u001b[1;34m'Wood'\u001b[0m\u001b[1;33m]\u001b[0m\u001b[1;33m\u001b[0m\u001b[1;33m\u001b[0m\u001b[0m\n\u001b[0m",
      "\u001b[1;32mC:\\ProgramData\\Anaconda3\\lib\\site-packages\\pandas\\core\\indexing.py\u001b[0m in \u001b[0;36m__getitem__\u001b[1;34m(self, key)\u001b[0m\n\u001b[0;32m   1498\u001b[0m \u001b[1;33m\u001b[0m\u001b[0m\n\u001b[0;32m   1499\u001b[0m             \u001b[0mmaybe_callable\u001b[0m \u001b[1;33m=\u001b[0m \u001b[0mcom\u001b[0m\u001b[1;33m.\u001b[0m\u001b[0mapply_if_callable\u001b[0m\u001b[1;33m(\u001b[0m\u001b[0mkey\u001b[0m\u001b[1;33m,\u001b[0m \u001b[0mself\u001b[0m\u001b[1;33m.\u001b[0m\u001b[0mobj\u001b[0m\u001b[1;33m)\u001b[0m\u001b[1;33m\u001b[0m\u001b[1;33m\u001b[0m\u001b[0m\n\u001b[1;32m-> 1500\u001b[1;33m             \u001b[1;32mreturn\u001b[0m \u001b[0mself\u001b[0m\u001b[1;33m.\u001b[0m\u001b[0m_getitem_axis\u001b[0m\u001b[1;33m(\u001b[0m\u001b[0mmaybe_callable\u001b[0m\u001b[1;33m,\u001b[0m \u001b[0maxis\u001b[0m\u001b[1;33m=\u001b[0m\u001b[0maxis\u001b[0m\u001b[1;33m)\u001b[0m\u001b[1;33m\u001b[0m\u001b[1;33m\u001b[0m\u001b[0m\n\u001b[0m\u001b[0;32m   1501\u001b[0m \u001b[1;33m\u001b[0m\u001b[0m\n\u001b[0;32m   1502\u001b[0m     \u001b[1;32mdef\u001b[0m \u001b[0m_is_scalar_access\u001b[0m\u001b[1;33m(\u001b[0m\u001b[0mself\u001b[0m\u001b[1;33m,\u001b[0m \u001b[0mkey\u001b[0m\u001b[1;33m)\u001b[0m\u001b[1;33m:\u001b[0m\u001b[1;33m\u001b[0m\u001b[1;33m\u001b[0m\u001b[0m\n",
      "\u001b[1;32mC:\\ProgramData\\Anaconda3\\lib\\site-packages\\pandas\\core\\indexing.py\u001b[0m in \u001b[0;36m_getitem_axis\u001b[1;34m(self, key, axis)\u001b[0m\n\u001b[0;32m   1911\u001b[0m         \u001b[1;31m# fall thru to straight lookup\u001b[0m\u001b[1;33m\u001b[0m\u001b[1;33m\u001b[0m\u001b[1;33m\u001b[0m\u001b[0m\n\u001b[0;32m   1912\u001b[0m         \u001b[0mself\u001b[0m\u001b[1;33m.\u001b[0m\u001b[0m_validate_key\u001b[0m\u001b[1;33m(\u001b[0m\u001b[0mkey\u001b[0m\u001b[1;33m,\u001b[0m \u001b[0maxis\u001b[0m\u001b[1;33m)\u001b[0m\u001b[1;33m\u001b[0m\u001b[1;33m\u001b[0m\u001b[0m\n\u001b[1;32m-> 1913\u001b[1;33m         \u001b[1;32mreturn\u001b[0m \u001b[0mself\u001b[0m\u001b[1;33m.\u001b[0m\u001b[0m_get_label\u001b[0m\u001b[1;33m(\u001b[0m\u001b[0mkey\u001b[0m\u001b[1;33m,\u001b[0m \u001b[0maxis\u001b[0m\u001b[1;33m=\u001b[0m\u001b[0maxis\u001b[0m\u001b[1;33m)\u001b[0m\u001b[1;33m\u001b[0m\u001b[1;33m\u001b[0m\u001b[0m\n\u001b[0m\u001b[0;32m   1914\u001b[0m \u001b[1;33m\u001b[0m\u001b[0m\n\u001b[0;32m   1915\u001b[0m \u001b[1;33m\u001b[0m\u001b[0m\n",
      "\u001b[1;32mC:\\ProgramData\\Anaconda3\\lib\\site-packages\\pandas\\core\\indexing.py\u001b[0m in \u001b[0;36m_get_label\u001b[1;34m(self, label, axis)\u001b[0m\n\u001b[0;32m    139\u001b[0m             \u001b[1;32mraise\u001b[0m \u001b[0mIndexingError\u001b[0m\u001b[1;33m(\u001b[0m\u001b[1;34m'no slices here, handle elsewhere'\u001b[0m\u001b[1;33m)\u001b[0m\u001b[1;33m\u001b[0m\u001b[1;33m\u001b[0m\u001b[0m\n\u001b[0;32m    140\u001b[0m \u001b[1;33m\u001b[0m\u001b[0m\n\u001b[1;32m--> 141\u001b[1;33m         \u001b[1;32mreturn\u001b[0m \u001b[0mself\u001b[0m\u001b[1;33m.\u001b[0m\u001b[0mobj\u001b[0m\u001b[1;33m.\u001b[0m\u001b[0m_xs\u001b[0m\u001b[1;33m(\u001b[0m\u001b[0mlabel\u001b[0m\u001b[1;33m,\u001b[0m \u001b[0maxis\u001b[0m\u001b[1;33m=\u001b[0m\u001b[0maxis\u001b[0m\u001b[1;33m)\u001b[0m\u001b[1;33m\u001b[0m\u001b[1;33m\u001b[0m\u001b[0m\n\u001b[0m\u001b[0;32m    142\u001b[0m \u001b[1;33m\u001b[0m\u001b[0m\n\u001b[0;32m    143\u001b[0m     \u001b[1;32mdef\u001b[0m \u001b[0m_get_loc\u001b[0m\u001b[1;33m(\u001b[0m\u001b[0mself\u001b[0m\u001b[1;33m,\u001b[0m \u001b[0mkey\u001b[0m\u001b[1;33m,\u001b[0m \u001b[0maxis\u001b[0m\u001b[1;33m=\u001b[0m\u001b[1;32mNone\u001b[0m\u001b[1;33m)\u001b[0m\u001b[1;33m:\u001b[0m\u001b[1;33m\u001b[0m\u001b[1;33m\u001b[0m\u001b[0m\n",
      "\u001b[1;32mC:\\ProgramData\\Anaconda3\\lib\\site-packages\\pandas\\core\\generic.py\u001b[0m in \u001b[0;36mxs\u001b[1;34m(self, key, axis, level, drop_level)\u001b[0m\n\u001b[0;32m   3583\u001b[0m                                                       drop_level=drop_level)\n\u001b[0;32m   3584\u001b[0m         \u001b[1;32melse\u001b[0m\u001b[1;33m:\u001b[0m\u001b[1;33m\u001b[0m\u001b[1;33m\u001b[0m\u001b[0m\n\u001b[1;32m-> 3585\u001b[1;33m             \u001b[0mloc\u001b[0m \u001b[1;33m=\u001b[0m \u001b[0mself\u001b[0m\u001b[1;33m.\u001b[0m\u001b[0mindex\u001b[0m\u001b[1;33m.\u001b[0m\u001b[0mget_loc\u001b[0m\u001b[1;33m(\u001b[0m\u001b[0mkey\u001b[0m\u001b[1;33m)\u001b[0m\u001b[1;33m\u001b[0m\u001b[1;33m\u001b[0m\u001b[0m\n\u001b[0m\u001b[0;32m   3586\u001b[0m \u001b[1;33m\u001b[0m\u001b[0m\n\u001b[0;32m   3587\u001b[0m             \u001b[1;32mif\u001b[0m \u001b[0misinstance\u001b[0m\u001b[1;33m(\u001b[0m\u001b[0mloc\u001b[0m\u001b[1;33m,\u001b[0m \u001b[0mnp\u001b[0m\u001b[1;33m.\u001b[0m\u001b[0mndarray\u001b[0m\u001b[1;33m)\u001b[0m\u001b[1;33m:\u001b[0m\u001b[1;33m\u001b[0m\u001b[1;33m\u001b[0m\u001b[0m\n",
      "\u001b[1;32mC:\\ProgramData\\Anaconda3\\lib\\site-packages\\pandas\\core\\indexes\\base.py\u001b[0m in \u001b[0;36mget_loc\u001b[1;34m(self, key, method, tolerance)\u001b[0m\n\u001b[0;32m   2657\u001b[0m                 \u001b[1;32mreturn\u001b[0m \u001b[0mself\u001b[0m\u001b[1;33m.\u001b[0m\u001b[0m_engine\u001b[0m\u001b[1;33m.\u001b[0m\u001b[0mget_loc\u001b[0m\u001b[1;33m(\u001b[0m\u001b[0mkey\u001b[0m\u001b[1;33m)\u001b[0m\u001b[1;33m\u001b[0m\u001b[1;33m\u001b[0m\u001b[0m\n\u001b[0;32m   2658\u001b[0m             \u001b[1;32mexcept\u001b[0m \u001b[0mKeyError\u001b[0m\u001b[1;33m:\u001b[0m\u001b[1;33m\u001b[0m\u001b[1;33m\u001b[0m\u001b[0m\n\u001b[1;32m-> 2659\u001b[1;33m                 \u001b[1;32mreturn\u001b[0m \u001b[0mself\u001b[0m\u001b[1;33m.\u001b[0m\u001b[0m_engine\u001b[0m\u001b[1;33m.\u001b[0m\u001b[0mget_loc\u001b[0m\u001b[1;33m(\u001b[0m\u001b[0mself\u001b[0m\u001b[1;33m.\u001b[0m\u001b[0m_maybe_cast_indexer\u001b[0m\u001b[1;33m(\u001b[0m\u001b[0mkey\u001b[0m\u001b[1;33m)\u001b[0m\u001b[1;33m)\u001b[0m\u001b[1;33m\u001b[0m\u001b[1;33m\u001b[0m\u001b[0m\n\u001b[0m\u001b[0;32m   2660\u001b[0m         \u001b[0mindexer\u001b[0m \u001b[1;33m=\u001b[0m \u001b[0mself\u001b[0m\u001b[1;33m.\u001b[0m\u001b[0mget_indexer\u001b[0m\u001b[1;33m(\u001b[0m\u001b[1;33m[\u001b[0m\u001b[0mkey\u001b[0m\u001b[1;33m]\u001b[0m\u001b[1;33m,\u001b[0m \u001b[0mmethod\u001b[0m\u001b[1;33m=\u001b[0m\u001b[0mmethod\u001b[0m\u001b[1;33m,\u001b[0m \u001b[0mtolerance\u001b[0m\u001b[1;33m=\u001b[0m\u001b[0mtolerance\u001b[0m\u001b[1;33m)\u001b[0m\u001b[1;33m\u001b[0m\u001b[1;33m\u001b[0m\u001b[0m\n\u001b[0;32m   2661\u001b[0m         \u001b[1;32mif\u001b[0m \u001b[0mindexer\u001b[0m\u001b[1;33m.\u001b[0m\u001b[0mndim\u001b[0m \u001b[1;33m>\u001b[0m \u001b[1;36m1\u001b[0m \u001b[1;32mor\u001b[0m \u001b[0mindexer\u001b[0m\u001b[1;33m.\u001b[0m\u001b[0msize\u001b[0m \u001b[1;33m>\u001b[0m \u001b[1;36m1\u001b[0m\u001b[1;33m:\u001b[0m\u001b[1;33m\u001b[0m\u001b[1;33m\u001b[0m\u001b[0m\n",
      "\u001b[1;32mpandas/_libs/index.pyx\u001b[0m in \u001b[0;36mpandas._libs.index.IndexEngine.get_loc\u001b[1;34m()\u001b[0m\n",
      "\u001b[1;32mpandas/_libs/index.pyx\u001b[0m in \u001b[0;36mpandas._libs.index.IndexEngine.get_loc\u001b[1;34m()\u001b[0m\n",
      "\u001b[1;32mpandas/_libs/index_class_helper.pxi\u001b[0m in \u001b[0;36mpandas._libs.index.Int64Engine._check_type\u001b[1;34m()\u001b[0m\n",
      "\u001b[1;31mKeyError\u001b[0m: 'Wood'"
     ]
    }
   ],
   "source": [
    "b1 = a.loc['Wood']"
   ]
  },
  {
   "cell_type": "code",
   "execution_count": 65,
   "metadata": {},
   "outputs": [],
   "source": [
    "a = pd.read_csv('FL_insurance_sample.csv',index_col ='construction')"
   ]
  },
  {
   "cell_type": "code",
   "execution_count": 66,
   "metadata": {},
   "outputs": [],
   "source": [
    "b1 = a.loc['Wood']"
   ]
  },
  {
   "cell_type": "code",
   "execution_count": 67,
   "metadata": {},
   "outputs": [
    {
     "data": {
      "text/html": [
       "<div>\n",
       "<style scoped>\n",
       "    .dataframe tbody tr th:only-of-type {\n",
       "        vertical-align: middle;\n",
       "    }\n",
       "\n",
       "    .dataframe tbody tr th {\n",
       "        vertical-align: top;\n",
       "    }\n",
       "\n",
       "    .dataframe thead th {\n",
       "        text-align: right;\n",
       "    }\n",
       "</style>\n",
       "<table border=\"1\" class=\"dataframe\">\n",
       "  <thead>\n",
       "    <tr style=\"text-align: right;\">\n",
       "      <th></th>\n",
       "      <th>policyID</th>\n",
       "      <th>statecode</th>\n",
       "      <th>county</th>\n",
       "      <th>eq_site_limit</th>\n",
       "      <th>hu_site_limit</th>\n",
       "      <th>fl_site_limit</th>\n",
       "      <th>fr_site_limit</th>\n",
       "      <th>tiv_2011</th>\n",
       "      <th>tiv_2012</th>\n",
       "      <th>eq_site_deductible</th>\n",
       "      <th>hu_site_deductible</th>\n",
       "      <th>fl_site_deductible</th>\n",
       "      <th>fr_site_deductible</th>\n",
       "      <th>point_latitude</th>\n",
       "      <th>point_longitude</th>\n",
       "      <th>line</th>\n",
       "      <th>point_granularity</th>\n",
       "    </tr>\n",
       "    <tr>\n",
       "      <th>construction</th>\n",
       "      <th></th>\n",
       "      <th></th>\n",
       "      <th></th>\n",
       "      <th></th>\n",
       "      <th></th>\n",
       "      <th></th>\n",
       "      <th></th>\n",
       "      <th></th>\n",
       "      <th></th>\n",
       "      <th></th>\n",
       "      <th></th>\n",
       "      <th></th>\n",
       "      <th></th>\n",
       "      <th></th>\n",
       "      <th></th>\n",
       "      <th></th>\n",
       "      <th></th>\n",
       "    </tr>\n",
       "  </thead>\n",
       "  <tbody>\n",
       "    <tr>\n",
       "      <th>Wood</th>\n",
       "      <td>206893</td>\n",
       "      <td>FL</td>\n",
       "      <td>CLAY COUNTY</td>\n",
       "      <td>190724.4</td>\n",
       "      <td>190724.40</td>\n",
       "      <td>190724.4</td>\n",
       "      <td>190724.4</td>\n",
       "      <td>190724.40</td>\n",
       "      <td>192476.78</td>\n",
       "      <td>0.0</td>\n",
       "      <td>0.0</td>\n",
       "      <td>0.0</td>\n",
       "      <td>0</td>\n",
       "      <td>30.089579</td>\n",
       "      <td>-81.700455</td>\n",
       "      <td>Residential</td>\n",
       "      <td>1</td>\n",
       "    </tr>\n",
       "    <tr>\n",
       "      <th>Wood</th>\n",
       "      <td>333743</td>\n",
       "      <td>FL</td>\n",
       "      <td>CLAY COUNTY</td>\n",
       "      <td>0.0</td>\n",
       "      <td>79520.76</td>\n",
       "      <td>0.0</td>\n",
       "      <td>0.0</td>\n",
       "      <td>79520.76</td>\n",
       "      <td>86854.48</td>\n",
       "      <td>0.0</td>\n",
       "      <td>0.0</td>\n",
       "      <td>0.0</td>\n",
       "      <td>0</td>\n",
       "      <td>30.063236</td>\n",
       "      <td>-81.707703</td>\n",
       "      <td>Residential</td>\n",
       "      <td>3</td>\n",
       "    </tr>\n",
       "    <tr>\n",
       "      <th>Wood</th>\n",
       "      <td>172534</td>\n",
       "      <td>FL</td>\n",
       "      <td>CLAY COUNTY</td>\n",
       "      <td>0.0</td>\n",
       "      <td>254281.50</td>\n",
       "      <td>0.0</td>\n",
       "      <td>254281.5</td>\n",
       "      <td>254281.50</td>\n",
       "      <td>246144.49</td>\n",
       "      <td>0.0</td>\n",
       "      <td>0.0</td>\n",
       "      <td>0.0</td>\n",
       "      <td>0</td>\n",
       "      <td>30.060614</td>\n",
       "      <td>-81.702675</td>\n",
       "      <td>Residential</td>\n",
       "      <td>1</td>\n",
       "    </tr>\n",
       "    <tr>\n",
       "      <th>Wood</th>\n",
       "      <td>223488</td>\n",
       "      <td>FL</td>\n",
       "      <td>CLAY COUNTY</td>\n",
       "      <td>328500.0</td>\n",
       "      <td>328500.00</td>\n",
       "      <td>328500.0</td>\n",
       "      <td>328500.0</td>\n",
       "      <td>328500.00</td>\n",
       "      <td>348374.25</td>\n",
       "      <td>0.0</td>\n",
       "      <td>16425.0</td>\n",
       "      <td>0.0</td>\n",
       "      <td>0</td>\n",
       "      <td>30.102217</td>\n",
       "      <td>-81.707146</td>\n",
       "      <td>Residential</td>\n",
       "      <td>1</td>\n",
       "    </tr>\n",
       "    <tr>\n",
       "      <th>Wood</th>\n",
       "      <td>433512</td>\n",
       "      <td>FL</td>\n",
       "      <td>CLAY COUNTY</td>\n",
       "      <td>315000.0</td>\n",
       "      <td>315000.00</td>\n",
       "      <td>315000.0</td>\n",
       "      <td>315000.0</td>\n",
       "      <td>315000.00</td>\n",
       "      <td>265821.57</td>\n",
       "      <td>0.0</td>\n",
       "      <td>15750.0</td>\n",
       "      <td>0.0</td>\n",
       "      <td>0</td>\n",
       "      <td>30.118774</td>\n",
       "      <td>-81.704613</td>\n",
       "      <td>Residential</td>\n",
       "      <td>1</td>\n",
       "    </tr>\n",
       "    <tr>\n",
       "      <th>Wood</th>\n",
       "      <td>894922</td>\n",
       "      <td>FL</td>\n",
       "      <td>CLAY COUNTY</td>\n",
       "      <td>0.0</td>\n",
       "      <td>24059.09</td>\n",
       "      <td>0.0</td>\n",
       "      <td>0.0</td>\n",
       "      <td>24059.09</td>\n",
       "      <td>33952.19</td>\n",
       "      <td>0.0</td>\n",
       "      <td>0.0</td>\n",
       "      <td>0.0</td>\n",
       "      <td>0</td>\n",
       "      <td>30.095957</td>\n",
       "      <td>-81.695099</td>\n",
       "      <td>Residential</td>\n",
       "      <td>1</td>\n",
       "    </tr>\n",
       "    <tr>\n",
       "      <th>Wood</th>\n",
       "      <td>422834</td>\n",
       "      <td>FL</td>\n",
       "      <td>CLAY COUNTY</td>\n",
       "      <td>0.0</td>\n",
       "      <td>48115.94</td>\n",
       "      <td>0.0</td>\n",
       "      <td>0.0</td>\n",
       "      <td>48115.94</td>\n",
       "      <td>66755.39</td>\n",
       "      <td>0.0</td>\n",
       "      <td>0.0</td>\n",
       "      <td>0.0</td>\n",
       "      <td>0</td>\n",
       "      <td>30.100073</td>\n",
       "      <td>-81.739822</td>\n",
       "      <td>Residential</td>\n",
       "      <td>1</td>\n",
       "    </tr>\n",
       "    <tr>\n",
       "      <th>Wood</th>\n",
       "      <td>582721</td>\n",
       "      <td>FL</td>\n",
       "      <td>CLAY COUNTY</td>\n",
       "      <td>0.0</td>\n",
       "      <td>28869.12</td>\n",
       "      <td>0.0</td>\n",
       "      <td>0.0</td>\n",
       "      <td>28869.12</td>\n",
       "      <td>42826.99</td>\n",
       "      <td>0.0</td>\n",
       "      <td>0.0</td>\n",
       "      <td>0.0</td>\n",
       "      <td>0</td>\n",
       "      <td>30.092480</td>\n",
       "      <td>-81.725167</td>\n",
       "      <td>Residential</td>\n",
       "      <td>1</td>\n",
       "    </tr>\n",
       "    <tr>\n",
       "      <th>Wood</th>\n",
       "      <td>842700</td>\n",
       "      <td>FL</td>\n",
       "      <td>CLAY COUNTY</td>\n",
       "      <td>0.0</td>\n",
       "      <td>56135.64</td>\n",
       "      <td>0.0</td>\n",
       "      <td>0.0</td>\n",
       "      <td>56135.64</td>\n",
       "      <td>50656.80</td>\n",
       "      <td>0.0</td>\n",
       "      <td>0.0</td>\n",
       "      <td>0.0</td>\n",
       "      <td>0</td>\n",
       "      <td>30.101356</td>\n",
       "      <td>-81.726248</td>\n",
       "      <td>Residential</td>\n",
       "      <td>1</td>\n",
       "    </tr>\n",
       "    <tr>\n",
       "      <th>Wood</th>\n",
       "      <td>874333</td>\n",
       "      <td>FL</td>\n",
       "      <td>CLAY COUNTY</td>\n",
       "      <td>0.0</td>\n",
       "      <td>48115.94</td>\n",
       "      <td>0.0</td>\n",
       "      <td>0.0</td>\n",
       "      <td>48115.94</td>\n",
       "      <td>67905.07</td>\n",
       "      <td>0.0</td>\n",
       "      <td>0.0</td>\n",
       "      <td>0.0</td>\n",
       "      <td>0</td>\n",
       "      <td>30.113743</td>\n",
       "      <td>-81.727463</td>\n",
       "      <td>Residential</td>\n",
       "      <td>1</td>\n",
       "    </tr>\n",
       "    <tr>\n",
       "      <th>Wood</th>\n",
       "      <td>580146</td>\n",
       "      <td>FL</td>\n",
       "      <td>CLAY COUNTY</td>\n",
       "      <td>0.0</td>\n",
       "      <td>48115.94</td>\n",
       "      <td>0.0</td>\n",
       "      <td>0.0</td>\n",
       "      <td>48115.94</td>\n",
       "      <td>66938.90</td>\n",
       "      <td>0.0</td>\n",
       "      <td>0.0</td>\n",
       "      <td>0.0</td>\n",
       "      <td>0</td>\n",
       "      <td>30.121655</td>\n",
       "      <td>-81.732391</td>\n",
       "      <td>Residential</td>\n",
       "      <td>3</td>\n",
       "    </tr>\n",
       "    <tr>\n",
       "      <th>Wood</th>\n",
       "      <td>456149</td>\n",
       "      <td>FL</td>\n",
       "      <td>CLAY COUNTY</td>\n",
       "      <td>0.0</td>\n",
       "      <td>80192.49</td>\n",
       "      <td>0.0</td>\n",
       "      <td>0.0</td>\n",
       "      <td>80192.49</td>\n",
       "      <td>86421.04</td>\n",
       "      <td>0.0</td>\n",
       "      <td>0.0</td>\n",
       "      <td>0.0</td>\n",
       "      <td>0</td>\n",
       "      <td>30.109537</td>\n",
       "      <td>-81.741661</td>\n",
       "      <td>Residential</td>\n",
       "      <td>1</td>\n",
       "    </tr>\n",
       "    <tr>\n",
       "      <th>Wood</th>\n",
       "      <td>767862</td>\n",
       "      <td>FL</td>\n",
       "      <td>CLAY COUNTY</td>\n",
       "      <td>0.0</td>\n",
       "      <td>48115.94</td>\n",
       "      <td>0.0</td>\n",
       "      <td>0.0</td>\n",
       "      <td>48115.94</td>\n",
       "      <td>73798.50</td>\n",
       "      <td>0.0</td>\n",
       "      <td>0.0</td>\n",
       "      <td>0.0</td>\n",
       "      <td>0</td>\n",
       "      <td>30.118240</td>\n",
       "      <td>-81.745335</td>\n",
       "      <td>Residential</td>\n",
       "      <td>3</td>\n",
       "    </tr>\n",
       "    <tr>\n",
       "      <th>Wood</th>\n",
       "      <td>353022</td>\n",
       "      <td>FL</td>\n",
       "      <td>CLAY COUNTY</td>\n",
       "      <td>0.0</td>\n",
       "      <td>60946.79</td>\n",
       "      <td>0.0</td>\n",
       "      <td>0.0</td>\n",
       "      <td>60946.79</td>\n",
       "      <td>62467.29</td>\n",
       "      <td>0.0</td>\n",
       "      <td>0.0</td>\n",
       "      <td>0.0</td>\n",
       "      <td>0</td>\n",
       "      <td>30.065799</td>\n",
       "      <td>-81.717416</td>\n",
       "      <td>Residential</td>\n",
       "      <td>1</td>\n",
       "    </tr>\n",
       "    <tr>\n",
       "      <th>Wood</th>\n",
       "      <td>367814</td>\n",
       "      <td>FL</td>\n",
       "      <td>CLAY COUNTY</td>\n",
       "      <td>0.0</td>\n",
       "      <td>28869.12</td>\n",
       "      <td>0.0</td>\n",
       "      <td>0.0</td>\n",
       "      <td>28869.12</td>\n",
       "      <td>42727.74</td>\n",
       "      <td>0.0</td>\n",
       "      <td>0.0</td>\n",
       "      <td>0.0</td>\n",
       "      <td>0</td>\n",
       "      <td>30.082993</td>\n",
       "      <td>-81.710581</td>\n",
       "      <td>Residential</td>\n",
       "      <td>1</td>\n",
       "    </tr>\n",
       "    <tr>\n",
       "      <th>Wood</th>\n",
       "      <td>983122</td>\n",
       "      <td>FL</td>\n",
       "      <td>CLAY COUNTY</td>\n",
       "      <td>0.0</td>\n",
       "      <td>179562.23</td>\n",
       "      <td>0.0</td>\n",
       "      <td>0.0</td>\n",
       "      <td>179562.23</td>\n",
       "      <td>211372.57</td>\n",
       "      <td>0.0</td>\n",
       "      <td>0.0</td>\n",
       "      <td>0.0</td>\n",
       "      <td>0</td>\n",
       "      <td>30.095783</td>\n",
       "      <td>-81.713181</td>\n",
       "      <td>Residential</td>\n",
       "      <td>3</td>\n",
       "    </tr>\n",
       "    <tr>\n",
       "      <th>Wood</th>\n",
       "      <td>934215</td>\n",
       "      <td>FL</td>\n",
       "      <td>CLAY COUNTY</td>\n",
       "      <td>0.0</td>\n",
       "      <td>177744.16</td>\n",
       "      <td>0.0</td>\n",
       "      <td>0.0</td>\n",
       "      <td>177744.16</td>\n",
       "      <td>157171.16</td>\n",
       "      <td>0.0</td>\n",
       "      <td>0.0</td>\n",
       "      <td>0.0</td>\n",
       "      <td>0</td>\n",
       "      <td>30.110518</td>\n",
       "      <td>-81.727478</td>\n",
       "      <td>Residential</td>\n",
       "      <td>1</td>\n",
       "    </tr>\n",
       "    <tr>\n",
       "      <th>Wood</th>\n",
       "      <td>385951</td>\n",
       "      <td>FL</td>\n",
       "      <td>CLAY COUNTY</td>\n",
       "      <td>0.0</td>\n",
       "      <td>17757.58</td>\n",
       "      <td>0.0</td>\n",
       "      <td>0.0</td>\n",
       "      <td>17757.58</td>\n",
       "      <td>16948.72</td>\n",
       "      <td>0.0</td>\n",
       "      <td>0.0</td>\n",
       "      <td>0.0</td>\n",
       "      <td>0</td>\n",
       "      <td>30.102880</td>\n",
       "      <td>-81.705719</td>\n",
       "      <td>Residential</td>\n",
       "      <td>1</td>\n",
       "    </tr>\n",
       "    <tr>\n",
       "      <th>Wood</th>\n",
       "      <td>716332</td>\n",
       "      <td>FL</td>\n",
       "      <td>CLAY COUNTY</td>\n",
       "      <td>0.0</td>\n",
       "      <td>130129.87</td>\n",
       "      <td>0.0</td>\n",
       "      <td>0.0</td>\n",
       "      <td>130129.87</td>\n",
       "      <td>101758.43</td>\n",
       "      <td>0.0</td>\n",
       "      <td>0.0</td>\n",
       "      <td>0.0</td>\n",
       "      <td>0</td>\n",
       "      <td>30.068468</td>\n",
       "      <td>-81.716240</td>\n",
       "      <td>Residential</td>\n",
       "      <td>1</td>\n",
       "    </tr>\n",
       "    <tr>\n",
       "      <th>Wood</th>\n",
       "      <td>751262</td>\n",
       "      <td>FL</td>\n",
       "      <td>CLAY COUNTY</td>\n",
       "      <td>0.0</td>\n",
       "      <td>42854.77</td>\n",
       "      <td>0.0</td>\n",
       "      <td>0.0</td>\n",
       "      <td>42854.77</td>\n",
       "      <td>63592.88</td>\n",
       "      <td>0.0</td>\n",
       "      <td>0.0</td>\n",
       "      <td>0.0</td>\n",
       "      <td>0</td>\n",
       "      <td>30.068468</td>\n",
       "      <td>-81.716240</td>\n",
       "      <td>Residential</td>\n",
       "      <td>1</td>\n",
       "    </tr>\n",
       "    <tr>\n",
       "      <th>Wood</th>\n",
       "      <td>633663</td>\n",
       "      <td>FL</td>\n",
       "      <td>CLAY COUNTY</td>\n",
       "      <td>0.0</td>\n",
       "      <td>785.58</td>\n",
       "      <td>0.0</td>\n",
       "      <td>0.0</td>\n",
       "      <td>785.58</td>\n",
       "      <td>662.18</td>\n",
       "      <td>0.0</td>\n",
       "      <td>0.0</td>\n",
       "      <td>0.0</td>\n",
       "      <td>0</td>\n",
       "      <td>30.068468</td>\n",
       "      <td>-81.716240</td>\n",
       "      <td>Residential</td>\n",
       "      <td>1</td>\n",
       "    </tr>\n",
       "    <tr>\n",
       "      <th>Wood</th>\n",
       "      <td>105851</td>\n",
       "      <td>FL</td>\n",
       "      <td>CLAY COUNTY</td>\n",
       "      <td>0.0</td>\n",
       "      <td>170361.91</td>\n",
       "      <td>0.0</td>\n",
       "      <td>0.0</td>\n",
       "      <td>170361.91</td>\n",
       "      <td>177176.38</td>\n",
       "      <td>0.0</td>\n",
       "      <td>0.0</td>\n",
       "      <td>0.0</td>\n",
       "      <td>0</td>\n",
       "      <td>30.068468</td>\n",
       "      <td>-81.716240</td>\n",
       "      <td>Residential</td>\n",
       "      <td>1</td>\n",
       "    </tr>\n",
       "    <tr>\n",
       "      <th>Wood</th>\n",
       "      <td>710400</td>\n",
       "      <td>FL</td>\n",
       "      <td>CLAY COUNTY</td>\n",
       "      <td>0.0</td>\n",
       "      <td>1430.89</td>\n",
       "      <td>0.0</td>\n",
       "      <td>0.0</td>\n",
       "      <td>1430.89</td>\n",
       "      <td>1861.41</td>\n",
       "      <td>0.0</td>\n",
       "      <td>0.0</td>\n",
       "      <td>0.0</td>\n",
       "      <td>0</td>\n",
       "      <td>30.068468</td>\n",
       "      <td>-81.716240</td>\n",
       "      <td>Residential</td>\n",
       "      <td>1</td>\n",
       "    </tr>\n",
       "    <tr>\n",
       "      <th>Wood</th>\n",
       "      <td>703001</td>\n",
       "      <td>FL</td>\n",
       "      <td>CLAY COUNTY</td>\n",
       "      <td>0.0</td>\n",
       "      <td>129913.27</td>\n",
       "      <td>0.0</td>\n",
       "      <td>0.0</td>\n",
       "      <td>129913.27</td>\n",
       "      <td>101692.86</td>\n",
       "      <td>0.0</td>\n",
       "      <td>0.0</td>\n",
       "      <td>0.0</td>\n",
       "      <td>0</td>\n",
       "      <td>30.079785</td>\n",
       "      <td>-81.706865</td>\n",
       "      <td>Residential</td>\n",
       "      <td>4</td>\n",
       "    </tr>\n",
       "    <tr>\n",
       "      <th>Wood</th>\n",
       "      <td>717603</td>\n",
       "      <td>FL</td>\n",
       "      <td>CLAY COUNTY</td>\n",
       "      <td>0.0</td>\n",
       "      <td>22512.61</td>\n",
       "      <td>0.0</td>\n",
       "      <td>0.0</td>\n",
       "      <td>22512.61</td>\n",
       "      <td>28637.17</td>\n",
       "      <td>0.0</td>\n",
       "      <td>0.0</td>\n",
       "      <td>0.0</td>\n",
       "      <td>0</td>\n",
       "      <td>30.080120</td>\n",
       "      <td>-81.718452</td>\n",
       "      <td>Residential</td>\n",
       "      <td>1</td>\n",
       "    </tr>\n",
       "    <tr>\n",
       "      <th>Wood</th>\n",
       "      <td>937659</td>\n",
       "      <td>FL</td>\n",
       "      <td>SUWANNEE COUNTY</td>\n",
       "      <td>0.0</td>\n",
       "      <td>9246.60</td>\n",
       "      <td>0.0</td>\n",
       "      <td>9246.6</td>\n",
       "      <td>9246.60</td>\n",
       "      <td>10880.22</td>\n",
       "      <td>0.0</td>\n",
       "      <td>0.0</td>\n",
       "      <td>0.0</td>\n",
       "      <td>0</td>\n",
       "      <td>29.959805</td>\n",
       "      <td>-82.926659</td>\n",
       "      <td>Residential</td>\n",
       "      <td>3</td>\n",
       "    </tr>\n",
       "    <tr>\n",
       "      <th>Wood</th>\n",
       "      <td>294022</td>\n",
       "      <td>FL</td>\n",
       "      <td>SUWANNEE COUNTY</td>\n",
       "      <td>0.0</td>\n",
       "      <td>96164.64</td>\n",
       "      <td>0.0</td>\n",
       "      <td>0.0</td>\n",
       "      <td>96164.64</td>\n",
       "      <td>69357.78</td>\n",
       "      <td>0.0</td>\n",
       "      <td>0.0</td>\n",
       "      <td>0.0</td>\n",
       "      <td>0</td>\n",
       "      <td>29.959805</td>\n",
       "      <td>-82.926659</td>\n",
       "      <td>Residential</td>\n",
       "      <td>3</td>\n",
       "    </tr>\n",
       "    <tr>\n",
       "      <th>Wood</th>\n",
       "      <td>410500</td>\n",
       "      <td>FL</td>\n",
       "      <td>SUWANNEE COUNTY</td>\n",
       "      <td>0.0</td>\n",
       "      <td>11095.92</td>\n",
       "      <td>0.0</td>\n",
       "      <td>0.0</td>\n",
       "      <td>11095.92</td>\n",
       "      <td>12737.89</td>\n",
       "      <td>0.0</td>\n",
       "      <td>0.0</td>\n",
       "      <td>0.0</td>\n",
       "      <td>0</td>\n",
       "      <td>29.959805</td>\n",
       "      <td>-82.926659</td>\n",
       "      <td>Residential</td>\n",
       "      <td>3</td>\n",
       "    </tr>\n",
       "    <tr>\n",
       "      <th>Wood</th>\n",
       "      <td>524433</td>\n",
       "      <td>FL</td>\n",
       "      <td>SUWANNEE COUNTY</td>\n",
       "      <td>218475.0</td>\n",
       "      <td>218475.00</td>\n",
       "      <td>218475.0</td>\n",
       "      <td>218475.0</td>\n",
       "      <td>218475.00</td>\n",
       "      <td>199030.29</td>\n",
       "      <td>0.0</td>\n",
       "      <td>4369.5</td>\n",
       "      <td>0.0</td>\n",
       "      <td>0</td>\n",
       "      <td>29.962601</td>\n",
       "      <td>-82.926155</td>\n",
       "      <td>Residential</td>\n",
       "      <td>3</td>\n",
       "    </tr>\n",
       "    <tr>\n",
       "      <th>Wood</th>\n",
       "      <td>491831</td>\n",
       "      <td>FL</td>\n",
       "      <td>SUWANNEE COUNTY</td>\n",
       "      <td>4365.0</td>\n",
       "      <td>4365.00</td>\n",
       "      <td>4365.0</td>\n",
       "      <td>4365.0</td>\n",
       "      <td>4365.00</td>\n",
       "      <td>4438.05</td>\n",
       "      <td>0.0</td>\n",
       "      <td>87.3</td>\n",
       "      <td>0.0</td>\n",
       "      <td>0</td>\n",
       "      <td>29.962601</td>\n",
       "      <td>-82.926155</td>\n",
       "      <td>Residential</td>\n",
       "      <td>3</td>\n",
       "    </tr>\n",
       "    <tr>\n",
       "      <th>...</th>\n",
       "      <td>...</td>\n",
       "      <td>...</td>\n",
       "      <td>...</td>\n",
       "      <td>...</td>\n",
       "      <td>...</td>\n",
       "      <td>...</td>\n",
       "      <td>...</td>\n",
       "      <td>...</td>\n",
       "      <td>...</td>\n",
       "      <td>...</td>\n",
       "      <td>...</td>\n",
       "      <td>...</td>\n",
       "      <td>...</td>\n",
       "      <td>...</td>\n",
       "      <td>...</td>\n",
       "      <td>...</td>\n",
       "      <td>...</td>\n",
       "    </tr>\n",
       "    <tr>\n",
       "      <th>Wood</th>\n",
       "      <td>169552</td>\n",
       "      <td>FL</td>\n",
       "      <td>PINELLAS COUNTY</td>\n",
       "      <td>0.0</td>\n",
       "      <td>94601.28</td>\n",
       "      <td>0.0</td>\n",
       "      <td>0.0</td>\n",
       "      <td>94601.28</td>\n",
       "      <td>116932.85</td>\n",
       "      <td>0.0</td>\n",
       "      <td>0.0</td>\n",
       "      <td>0.0</td>\n",
       "      <td>0</td>\n",
       "      <td>28.059505</td>\n",
       "      <td>-82.708570</td>\n",
       "      <td>Residential</td>\n",
       "      <td>3</td>\n",
       "    </tr>\n",
       "    <tr>\n",
       "      <th>Wood</th>\n",
       "      <td>469174</td>\n",
       "      <td>FL</td>\n",
       "      <td>PINELLAS COUNTY</td>\n",
       "      <td>0.0</td>\n",
       "      <td>63312.01</td>\n",
       "      <td>0.0</td>\n",
       "      <td>0.0</td>\n",
       "      <td>63312.01</td>\n",
       "      <td>70909.45</td>\n",
       "      <td>0.0</td>\n",
       "      <td>0.0</td>\n",
       "      <td>0.0</td>\n",
       "      <td>0</td>\n",
       "      <td>28.029942</td>\n",
       "      <td>-82.666489</td>\n",
       "      <td>Residential</td>\n",
       "      <td>3</td>\n",
       "    </tr>\n",
       "    <tr>\n",
       "      <th>Wood</th>\n",
       "      <td>664998</td>\n",
       "      <td>FL</td>\n",
       "      <td>PINELLAS COUNTY</td>\n",
       "      <td>0.0</td>\n",
       "      <td>31035.66</td>\n",
       "      <td>0.0</td>\n",
       "      <td>0.0</td>\n",
       "      <td>31035.66</td>\n",
       "      <td>50948.13</td>\n",
       "      <td>0.0</td>\n",
       "      <td>0.0</td>\n",
       "      <td>0.0</td>\n",
       "      <td>0</td>\n",
       "      <td>28.048200</td>\n",
       "      <td>-82.681200</td>\n",
       "      <td>Residential</td>\n",
       "      <td>4</td>\n",
       "    </tr>\n",
       "    <tr>\n",
       "      <th>Wood</th>\n",
       "      <td>343579</td>\n",
       "      <td>FL</td>\n",
       "      <td>PINELLAS COUNTY</td>\n",
       "      <td>0.0</td>\n",
       "      <td>176981.69</td>\n",
       "      <td>0.0</td>\n",
       "      <td>0.0</td>\n",
       "      <td>176981.69</td>\n",
       "      <td>247642.52</td>\n",
       "      <td>0.0</td>\n",
       "      <td>0.0</td>\n",
       "      <td>0.0</td>\n",
       "      <td>0</td>\n",
       "      <td>28.031706</td>\n",
       "      <td>-82.654648</td>\n",
       "      <td>Residential</td>\n",
       "      <td>1</td>\n",
       "    </tr>\n",
       "    <tr>\n",
       "      <th>Wood</th>\n",
       "      <td>309899</td>\n",
       "      <td>FL</td>\n",
       "      <td>PINELLAS COUNTY</td>\n",
       "      <td>0.0</td>\n",
       "      <td>136841.51</td>\n",
       "      <td>0.0</td>\n",
       "      <td>0.0</td>\n",
       "      <td>136841.51</td>\n",
       "      <td>203943.12</td>\n",
       "      <td>0.0</td>\n",
       "      <td>0.0</td>\n",
       "      <td>0.0</td>\n",
       "      <td>0</td>\n",
       "      <td>28.031706</td>\n",
       "      <td>-82.654648</td>\n",
       "      <td>Residential</td>\n",
       "      <td>1</td>\n",
       "    </tr>\n",
       "    <tr>\n",
       "      <th>Wood</th>\n",
       "      <td>740085</td>\n",
       "      <td>FL</td>\n",
       "      <td>PINELLAS COUNTY</td>\n",
       "      <td>0.0</td>\n",
       "      <td>91227.68</td>\n",
       "      <td>0.0</td>\n",
       "      <td>0.0</td>\n",
       "      <td>91227.68</td>\n",
       "      <td>114054.12</td>\n",
       "      <td>0.0</td>\n",
       "      <td>0.0</td>\n",
       "      <td>0.0</td>\n",
       "      <td>0</td>\n",
       "      <td>28.031706</td>\n",
       "      <td>-82.654648</td>\n",
       "      <td>Residential</td>\n",
       "      <td>1</td>\n",
       "    </tr>\n",
       "    <tr>\n",
       "      <th>Wood</th>\n",
       "      <td>413841</td>\n",
       "      <td>FL</td>\n",
       "      <td>PINELLAS COUNTY</td>\n",
       "      <td>0.0</td>\n",
       "      <td>42147.19</td>\n",
       "      <td>0.0</td>\n",
       "      <td>0.0</td>\n",
       "      <td>42147.19</td>\n",
       "      <td>59612.98</td>\n",
       "      <td>0.0</td>\n",
       "      <td>0.0</td>\n",
       "      <td>0.0</td>\n",
       "      <td>0</td>\n",
       "      <td>28.031706</td>\n",
       "      <td>-82.654648</td>\n",
       "      <td>Residential</td>\n",
       "      <td>1</td>\n",
       "    </tr>\n",
       "    <tr>\n",
       "      <th>Wood</th>\n",
       "      <td>307927</td>\n",
       "      <td>FL</td>\n",
       "      <td>PINELLAS COUNTY</td>\n",
       "      <td>0.0</td>\n",
       "      <td>77543.52</td>\n",
       "      <td>0.0</td>\n",
       "      <td>0.0</td>\n",
       "      <td>77543.52</td>\n",
       "      <td>91243.29</td>\n",
       "      <td>0.0</td>\n",
       "      <td>0.0</td>\n",
       "      <td>0.0</td>\n",
       "      <td>0</td>\n",
       "      <td>28.031706</td>\n",
       "      <td>-82.654648</td>\n",
       "      <td>Residential</td>\n",
       "      <td>1</td>\n",
       "    </tr>\n",
       "    <tr>\n",
       "      <th>Wood</th>\n",
       "      <td>216642</td>\n",
       "      <td>FL</td>\n",
       "      <td>PINELLAS COUNTY</td>\n",
       "      <td>0.0</td>\n",
       "      <td>103087.27</td>\n",
       "      <td>0.0</td>\n",
       "      <td>0.0</td>\n",
       "      <td>103087.27</td>\n",
       "      <td>144091.27</td>\n",
       "      <td>0.0</td>\n",
       "      <td>0.0</td>\n",
       "      <td>0.0</td>\n",
       "      <td>0</td>\n",
       "      <td>28.039028</td>\n",
       "      <td>-82.664238</td>\n",
       "      <td>Residential</td>\n",
       "      <td>1</td>\n",
       "    </tr>\n",
       "    <tr>\n",
       "      <th>Wood</th>\n",
       "      <td>604331</td>\n",
       "      <td>FL</td>\n",
       "      <td>PINELLAS COUNTY</td>\n",
       "      <td>0.0</td>\n",
       "      <td>10640.80</td>\n",
       "      <td>0.0</td>\n",
       "      <td>0.0</td>\n",
       "      <td>10640.80</td>\n",
       "      <td>15506.62</td>\n",
       "      <td>0.0</td>\n",
       "      <td>0.0</td>\n",
       "      <td>0.0</td>\n",
       "      <td>0</td>\n",
       "      <td>28.065830</td>\n",
       "      <td>-82.689340</td>\n",
       "      <td>Residential</td>\n",
       "      <td>3</td>\n",
       "    </tr>\n",
       "    <tr>\n",
       "      <th>Wood</th>\n",
       "      <td>869899</td>\n",
       "      <td>FL</td>\n",
       "      <td>PINELLAS COUNTY</td>\n",
       "      <td>0.0</td>\n",
       "      <td>38671.41</td>\n",
       "      <td>0.0</td>\n",
       "      <td>0.0</td>\n",
       "      <td>38671.41</td>\n",
       "      <td>62323.23</td>\n",
       "      <td>0.0</td>\n",
       "      <td>0.0</td>\n",
       "      <td>0.0</td>\n",
       "      <td>0</td>\n",
       "      <td>28.048200</td>\n",
       "      <td>-82.681200</td>\n",
       "      <td>Residential</td>\n",
       "      <td>4</td>\n",
       "    </tr>\n",
       "    <tr>\n",
       "      <th>Wood</th>\n",
       "      <td>614977</td>\n",
       "      <td>FL</td>\n",
       "      <td>PINELLAS COUNTY</td>\n",
       "      <td>0.0</td>\n",
       "      <td>27808.93</td>\n",
       "      <td>0.0</td>\n",
       "      <td>0.0</td>\n",
       "      <td>27808.93</td>\n",
       "      <td>31955.80</td>\n",
       "      <td>0.0</td>\n",
       "      <td>0.0</td>\n",
       "      <td>0.0</td>\n",
       "      <td>0</td>\n",
       "      <td>28.065830</td>\n",
       "      <td>-82.689340</td>\n",
       "      <td>Residential</td>\n",
       "      <td>3</td>\n",
       "    </tr>\n",
       "    <tr>\n",
       "      <th>Wood</th>\n",
       "      <td>656879</td>\n",
       "      <td>FL</td>\n",
       "      <td>PINELLAS COUNTY</td>\n",
       "      <td>0.0</td>\n",
       "      <td>26437.78</td>\n",
       "      <td>0.0</td>\n",
       "      <td>0.0</td>\n",
       "      <td>26437.78</td>\n",
       "      <td>21866.42</td>\n",
       "      <td>0.0</td>\n",
       "      <td>0.0</td>\n",
       "      <td>0.0</td>\n",
       "      <td>0</td>\n",
       "      <td>28.065830</td>\n",
       "      <td>-82.689340</td>\n",
       "      <td>Residential</td>\n",
       "      <td>3</td>\n",
       "    </tr>\n",
       "    <tr>\n",
       "      <th>Wood</th>\n",
       "      <td>764180</td>\n",
       "      <td>FL</td>\n",
       "      <td>PINELLAS COUNTY</td>\n",
       "      <td>0.0</td>\n",
       "      <td>6576.60</td>\n",
       "      <td>0.0</td>\n",
       "      <td>0.0</td>\n",
       "      <td>6576.60</td>\n",
       "      <td>6842.97</td>\n",
       "      <td>0.0</td>\n",
       "      <td>0.0</td>\n",
       "      <td>0.0</td>\n",
       "      <td>0</td>\n",
       "      <td>28.065830</td>\n",
       "      <td>-82.689340</td>\n",
       "      <td>Residential</td>\n",
       "      <td>3</td>\n",
       "    </tr>\n",
       "    <tr>\n",
       "      <th>Wood</th>\n",
       "      <td>463561</td>\n",
       "      <td>FL</td>\n",
       "      <td>PINELLAS COUNTY</td>\n",
       "      <td>0.0</td>\n",
       "      <td>1272.63</td>\n",
       "      <td>0.0</td>\n",
       "      <td>0.0</td>\n",
       "      <td>1272.63</td>\n",
       "      <td>1468.10</td>\n",
       "      <td>0.0</td>\n",
       "      <td>0.0</td>\n",
       "      <td>0.0</td>\n",
       "      <td>0</td>\n",
       "      <td>28.065830</td>\n",
       "      <td>-82.689340</td>\n",
       "      <td>Residential</td>\n",
       "      <td>3</td>\n",
       "    </tr>\n",
       "    <tr>\n",
       "      <th>Wood</th>\n",
       "      <td>797175</td>\n",
       "      <td>FL</td>\n",
       "      <td>PINELLAS COUNTY</td>\n",
       "      <td>0.0</td>\n",
       "      <td>7389.44</td>\n",
       "      <td>0.0</td>\n",
       "      <td>0.0</td>\n",
       "      <td>7389.44</td>\n",
       "      <td>11633.72</td>\n",
       "      <td>0.0</td>\n",
       "      <td>0.0</td>\n",
       "      <td>0.0</td>\n",
       "      <td>0</td>\n",
       "      <td>28.042495</td>\n",
       "      <td>-82.695545</td>\n",
       "      <td>Residential</td>\n",
       "      <td>3</td>\n",
       "    </tr>\n",
       "    <tr>\n",
       "      <th>Wood</th>\n",
       "      <td>143414</td>\n",
       "      <td>FL</td>\n",
       "      <td>PINELLAS COUNTY</td>\n",
       "      <td>0.0</td>\n",
       "      <td>25739.89</td>\n",
       "      <td>0.0</td>\n",
       "      <td>0.0</td>\n",
       "      <td>25739.89</td>\n",
       "      <td>38533.23</td>\n",
       "      <td>0.0</td>\n",
       "      <td>0.0</td>\n",
       "      <td>0.0</td>\n",
       "      <td>0</td>\n",
       "      <td>28.042495</td>\n",
       "      <td>-82.695545</td>\n",
       "      <td>Residential</td>\n",
       "      <td>3</td>\n",
       "    </tr>\n",
       "    <tr>\n",
       "      <th>Wood</th>\n",
       "      <td>825304</td>\n",
       "      <td>FL</td>\n",
       "      <td>PINELLAS COUNTY</td>\n",
       "      <td>0.0</td>\n",
       "      <td>18309.39</td>\n",
       "      <td>0.0</td>\n",
       "      <td>0.0</td>\n",
       "      <td>18309.39</td>\n",
       "      <td>25782.85</td>\n",
       "      <td>0.0</td>\n",
       "      <td>0.0</td>\n",
       "      <td>0.0</td>\n",
       "      <td>0</td>\n",
       "      <td>28.042495</td>\n",
       "      <td>-82.695545</td>\n",
       "      <td>Residential</td>\n",
       "      <td>3</td>\n",
       "    </tr>\n",
       "    <tr>\n",
       "      <th>Wood</th>\n",
       "      <td>335445</td>\n",
       "      <td>FL</td>\n",
       "      <td>PINELLAS COUNTY</td>\n",
       "      <td>47250.9</td>\n",
       "      <td>47250.90</td>\n",
       "      <td>47250.9</td>\n",
       "      <td>47250.9</td>\n",
       "      <td>47250.90</td>\n",
       "      <td>37895.60</td>\n",
       "      <td>0.0</td>\n",
       "      <td>0.0</td>\n",
       "      <td>0.0</td>\n",
       "      <td>0</td>\n",
       "      <td>28.081780</td>\n",
       "      <td>-82.748710</td>\n",
       "      <td>Residential</td>\n",
       "      <td>1</td>\n",
       "    </tr>\n",
       "    <tr>\n",
       "      <th>Wood</th>\n",
       "      <td>451921</td>\n",
       "      <td>FL</td>\n",
       "      <td>PINELLAS COUNTY</td>\n",
       "      <td>18630.0</td>\n",
       "      <td>18630.00</td>\n",
       "      <td>18630.0</td>\n",
       "      <td>18630.0</td>\n",
       "      <td>18630.00</td>\n",
       "      <td>21790.39</td>\n",
       "      <td>0.0</td>\n",
       "      <td>0.0</td>\n",
       "      <td>0.0</td>\n",
       "      <td>0</td>\n",
       "      <td>28.081780</td>\n",
       "      <td>-82.748710</td>\n",
       "      <td>Residential</td>\n",
       "      <td>1</td>\n",
       "    </tr>\n",
       "    <tr>\n",
       "      <th>Wood</th>\n",
       "      <td>859202</td>\n",
       "      <td>FL</td>\n",
       "      <td>PINELLAS COUNTY</td>\n",
       "      <td>9450.0</td>\n",
       "      <td>9450.00</td>\n",
       "      <td>9450.0</td>\n",
       "      <td>9450.0</td>\n",
       "      <td>9450.00</td>\n",
       "      <td>9577.31</td>\n",
       "      <td>0.0</td>\n",
       "      <td>0.0</td>\n",
       "      <td>0.0</td>\n",
       "      <td>0</td>\n",
       "      <td>28.053280</td>\n",
       "      <td>-82.745920</td>\n",
       "      <td>Residential</td>\n",
       "      <td>1</td>\n",
       "    </tr>\n",
       "    <tr>\n",
       "      <th>Wood</th>\n",
       "      <td>938910</td>\n",
       "      <td>FL</td>\n",
       "      <td>PINELLAS COUNTY</td>\n",
       "      <td>0.0</td>\n",
       "      <td>35408.70</td>\n",
       "      <td>0.0</td>\n",
       "      <td>35408.7</td>\n",
       "      <td>35408.70</td>\n",
       "      <td>51588.17</td>\n",
       "      <td>0.0</td>\n",
       "      <td>0.0</td>\n",
       "      <td>0.0</td>\n",
       "      <td>0</td>\n",
       "      <td>28.122885</td>\n",
       "      <td>-82.770218</td>\n",
       "      <td>Residential</td>\n",
       "      <td>3</td>\n",
       "    </tr>\n",
       "    <tr>\n",
       "      <th>Wood</th>\n",
       "      <td>592170</td>\n",
       "      <td>FL</td>\n",
       "      <td>PINELLAS COUNTY</td>\n",
       "      <td>0.0</td>\n",
       "      <td>24574.50</td>\n",
       "      <td>0.0</td>\n",
       "      <td>24574.5</td>\n",
       "      <td>24574.50</td>\n",
       "      <td>40907.70</td>\n",
       "      <td>0.0</td>\n",
       "      <td>0.0</td>\n",
       "      <td>0.0</td>\n",
       "      <td>0</td>\n",
       "      <td>28.122885</td>\n",
       "      <td>-82.770218</td>\n",
       "      <td>Residential</td>\n",
       "      <td>3</td>\n",
       "    </tr>\n",
       "    <tr>\n",
       "      <th>Wood</th>\n",
       "      <td>827844</td>\n",
       "      <td>FL</td>\n",
       "      <td>PINELLAS COUNTY</td>\n",
       "      <td>0.0</td>\n",
       "      <td>38112.30</td>\n",
       "      <td>0.0</td>\n",
       "      <td>38112.3</td>\n",
       "      <td>38112.30</td>\n",
       "      <td>52710.45</td>\n",
       "      <td>0.0</td>\n",
       "      <td>0.0</td>\n",
       "      <td>0.0</td>\n",
       "      <td>0</td>\n",
       "      <td>28.122885</td>\n",
       "      <td>-82.770218</td>\n",
       "      <td>Residential</td>\n",
       "      <td>3</td>\n",
       "    </tr>\n",
       "    <tr>\n",
       "      <th>Wood</th>\n",
       "      <td>876385</td>\n",
       "      <td>FL</td>\n",
       "      <td>PINELLAS COUNTY</td>\n",
       "      <td>0.0</td>\n",
       "      <td>18312.30</td>\n",
       "      <td>0.0</td>\n",
       "      <td>18312.3</td>\n",
       "      <td>18312.30</td>\n",
       "      <td>18575.81</td>\n",
       "      <td>0.0</td>\n",
       "      <td>0.0</td>\n",
       "      <td>0.0</td>\n",
       "      <td>0</td>\n",
       "      <td>28.122885</td>\n",
       "      <td>-82.770218</td>\n",
       "      <td>Residential</td>\n",
       "      <td>3</td>\n",
       "    </tr>\n",
       "    <tr>\n",
       "      <th>Wood</th>\n",
       "      <td>167630</td>\n",
       "      <td>FL</td>\n",
       "      <td>PINELLAS COUNTY</td>\n",
       "      <td>0.0</td>\n",
       "      <td>4522.50</td>\n",
       "      <td>0.0</td>\n",
       "      <td>4522.5</td>\n",
       "      <td>4522.50</td>\n",
       "      <td>4048.11</td>\n",
       "      <td>0.0</td>\n",
       "      <td>0.0</td>\n",
       "      <td>0.0</td>\n",
       "      <td>0</td>\n",
       "      <td>28.122885</td>\n",
       "      <td>-82.770218</td>\n",
       "      <td>Residential</td>\n",
       "      <td>3</td>\n",
       "    </tr>\n",
       "    <tr>\n",
       "      <th>Wood</th>\n",
       "      <td>241496</td>\n",
       "      <td>FL</td>\n",
       "      <td>PINELLAS COUNTY</td>\n",
       "      <td>0.0</td>\n",
       "      <td>1350.00</td>\n",
       "      <td>0.0</td>\n",
       "      <td>1350.0</td>\n",
       "      <td>1350.00</td>\n",
       "      <td>1430.16</td>\n",
       "      <td>0.0</td>\n",
       "      <td>0.0</td>\n",
       "      <td>0.0</td>\n",
       "      <td>0</td>\n",
       "      <td>28.122885</td>\n",
       "      <td>-82.770218</td>\n",
       "      <td>Residential</td>\n",
       "      <td>3</td>\n",
       "    </tr>\n",
       "    <tr>\n",
       "      <th>Wood</th>\n",
       "      <td>780814</td>\n",
       "      <td>FL</td>\n",
       "      <td>PINELLAS COUNTY</td>\n",
       "      <td>0.0</td>\n",
       "      <td>9770.40</td>\n",
       "      <td>0.0</td>\n",
       "      <td>9770.4</td>\n",
       "      <td>9770.40</td>\n",
       "      <td>9349.98</td>\n",
       "      <td>0.0</td>\n",
       "      <td>0.0</td>\n",
       "      <td>0.0</td>\n",
       "      <td>0</td>\n",
       "      <td>28.122885</td>\n",
       "      <td>-82.770218</td>\n",
       "      <td>Residential</td>\n",
       "      <td>3</td>\n",
       "    </tr>\n",
       "    <tr>\n",
       "      <th>Wood</th>\n",
       "      <td>404309</td>\n",
       "      <td>FL</td>\n",
       "      <td>PINELLAS COUNTY</td>\n",
       "      <td>0.0</td>\n",
       "      <td>88722.00</td>\n",
       "      <td>0.0</td>\n",
       "      <td>88722.0</td>\n",
       "      <td>88722.00</td>\n",
       "      <td>155065.65</td>\n",
       "      <td>0.0</td>\n",
       "      <td>0.0</td>\n",
       "      <td>0.0</td>\n",
       "      <td>0</td>\n",
       "      <td>28.122885</td>\n",
       "      <td>-82.770218</td>\n",
       "      <td>Residential</td>\n",
       "      <td>3</td>\n",
       "    </tr>\n",
       "    <tr>\n",
       "      <th>Wood</th>\n",
       "      <td>791209</td>\n",
       "      <td>FL</td>\n",
       "      <td>PINELLAS COUNTY</td>\n",
       "      <td>173286.9</td>\n",
       "      <td>173286.90</td>\n",
       "      <td>0.0</td>\n",
       "      <td>0.0</td>\n",
       "      <td>173286.90</td>\n",
       "      <td>205527.97</td>\n",
       "      <td>0.0</td>\n",
       "      <td>0.0</td>\n",
       "      <td>0.0</td>\n",
       "      <td>0</td>\n",
       "      <td>28.110550</td>\n",
       "      <td>-82.766360</td>\n",
       "      <td>Residential</td>\n",
       "      <td>4</td>\n",
       "    </tr>\n",
       "  </tbody>\n",
       "</table>\n",
       "<p>21581 rows × 17 columns</p>\n",
       "</div>"
      ],
      "text/plain": [
       "              policyID statecode           county  eq_site_limit  \\\n",
       "construction                                                       \n",
       "Wood            206893        FL      CLAY COUNTY       190724.4   \n",
       "Wood            333743        FL      CLAY COUNTY            0.0   \n",
       "Wood            172534        FL      CLAY COUNTY            0.0   \n",
       "Wood            223488        FL      CLAY COUNTY       328500.0   \n",
       "Wood            433512        FL      CLAY COUNTY       315000.0   \n",
       "Wood            894922        FL      CLAY COUNTY            0.0   \n",
       "Wood            422834        FL      CLAY COUNTY            0.0   \n",
       "Wood            582721        FL      CLAY COUNTY            0.0   \n",
       "Wood            842700        FL      CLAY COUNTY            0.0   \n",
       "Wood            874333        FL      CLAY COUNTY            0.0   \n",
       "Wood            580146        FL      CLAY COUNTY            0.0   \n",
       "Wood            456149        FL      CLAY COUNTY            0.0   \n",
       "Wood            767862        FL      CLAY COUNTY            0.0   \n",
       "Wood            353022        FL      CLAY COUNTY            0.0   \n",
       "Wood            367814        FL      CLAY COUNTY            0.0   \n",
       "Wood            983122        FL      CLAY COUNTY            0.0   \n",
       "Wood            934215        FL      CLAY COUNTY            0.0   \n",
       "Wood            385951        FL      CLAY COUNTY            0.0   \n",
       "Wood            716332        FL      CLAY COUNTY            0.0   \n",
       "Wood            751262        FL      CLAY COUNTY            0.0   \n",
       "Wood            633663        FL      CLAY COUNTY            0.0   \n",
       "Wood            105851        FL      CLAY COUNTY            0.0   \n",
       "Wood            710400        FL      CLAY COUNTY            0.0   \n",
       "Wood            703001        FL      CLAY COUNTY            0.0   \n",
       "Wood            717603        FL      CLAY COUNTY            0.0   \n",
       "Wood            937659        FL  SUWANNEE COUNTY            0.0   \n",
       "Wood            294022        FL  SUWANNEE COUNTY            0.0   \n",
       "Wood            410500        FL  SUWANNEE COUNTY            0.0   \n",
       "Wood            524433        FL  SUWANNEE COUNTY       218475.0   \n",
       "Wood            491831        FL  SUWANNEE COUNTY         4365.0   \n",
       "...                ...       ...              ...            ...   \n",
       "Wood            169552        FL  PINELLAS COUNTY            0.0   \n",
       "Wood            469174        FL  PINELLAS COUNTY            0.0   \n",
       "Wood            664998        FL  PINELLAS COUNTY            0.0   \n",
       "Wood            343579        FL  PINELLAS COUNTY            0.0   \n",
       "Wood            309899        FL  PINELLAS COUNTY            0.0   \n",
       "Wood            740085        FL  PINELLAS COUNTY            0.0   \n",
       "Wood            413841        FL  PINELLAS COUNTY            0.0   \n",
       "Wood            307927        FL  PINELLAS COUNTY            0.0   \n",
       "Wood            216642        FL  PINELLAS COUNTY            0.0   \n",
       "Wood            604331        FL  PINELLAS COUNTY            0.0   \n",
       "Wood            869899        FL  PINELLAS COUNTY            0.0   \n",
       "Wood            614977        FL  PINELLAS COUNTY            0.0   \n",
       "Wood            656879        FL  PINELLAS COUNTY            0.0   \n",
       "Wood            764180        FL  PINELLAS COUNTY            0.0   \n",
       "Wood            463561        FL  PINELLAS COUNTY            0.0   \n",
       "Wood            797175        FL  PINELLAS COUNTY            0.0   \n",
       "Wood            143414        FL  PINELLAS COUNTY            0.0   \n",
       "Wood            825304        FL  PINELLAS COUNTY            0.0   \n",
       "Wood            335445        FL  PINELLAS COUNTY        47250.9   \n",
       "Wood            451921        FL  PINELLAS COUNTY        18630.0   \n",
       "Wood            859202        FL  PINELLAS COUNTY         9450.0   \n",
       "Wood            938910        FL  PINELLAS COUNTY            0.0   \n",
       "Wood            592170        FL  PINELLAS COUNTY            0.0   \n",
       "Wood            827844        FL  PINELLAS COUNTY            0.0   \n",
       "Wood            876385        FL  PINELLAS COUNTY            0.0   \n",
       "Wood            167630        FL  PINELLAS COUNTY            0.0   \n",
       "Wood            241496        FL  PINELLAS COUNTY            0.0   \n",
       "Wood            780814        FL  PINELLAS COUNTY            0.0   \n",
       "Wood            404309        FL  PINELLAS COUNTY            0.0   \n",
       "Wood            791209        FL  PINELLAS COUNTY       173286.9   \n",
       "\n",
       "              hu_site_limit  fl_site_limit  fr_site_limit   tiv_2011  \\\n",
       "construction                                                           \n",
       "Wood              190724.40       190724.4       190724.4  190724.40   \n",
       "Wood               79520.76            0.0            0.0   79520.76   \n",
       "Wood              254281.50            0.0       254281.5  254281.50   \n",
       "Wood              328500.00       328500.0       328500.0  328500.00   \n",
       "Wood              315000.00       315000.0       315000.0  315000.00   \n",
       "Wood               24059.09            0.0            0.0   24059.09   \n",
       "Wood               48115.94            0.0            0.0   48115.94   \n",
       "Wood               28869.12            0.0            0.0   28869.12   \n",
       "Wood               56135.64            0.0            0.0   56135.64   \n",
       "Wood               48115.94            0.0            0.0   48115.94   \n",
       "Wood               48115.94            0.0            0.0   48115.94   \n",
       "Wood               80192.49            0.0            0.0   80192.49   \n",
       "Wood               48115.94            0.0            0.0   48115.94   \n",
       "Wood               60946.79            0.0            0.0   60946.79   \n",
       "Wood               28869.12            0.0            0.0   28869.12   \n",
       "Wood              179562.23            0.0            0.0  179562.23   \n",
       "Wood              177744.16            0.0            0.0  177744.16   \n",
       "Wood               17757.58            0.0            0.0   17757.58   \n",
       "Wood              130129.87            0.0            0.0  130129.87   \n",
       "Wood               42854.77            0.0            0.0   42854.77   \n",
       "Wood                 785.58            0.0            0.0     785.58   \n",
       "Wood              170361.91            0.0            0.0  170361.91   \n",
       "Wood                1430.89            0.0            0.0    1430.89   \n",
       "Wood              129913.27            0.0            0.0  129913.27   \n",
       "Wood               22512.61            0.0            0.0   22512.61   \n",
       "Wood                9246.60            0.0         9246.6    9246.60   \n",
       "Wood               96164.64            0.0            0.0   96164.64   \n",
       "Wood               11095.92            0.0            0.0   11095.92   \n",
       "Wood              218475.00       218475.0       218475.0  218475.00   \n",
       "Wood                4365.00         4365.0         4365.0    4365.00   \n",
       "...                     ...            ...            ...        ...   \n",
       "Wood               94601.28            0.0            0.0   94601.28   \n",
       "Wood               63312.01            0.0            0.0   63312.01   \n",
       "Wood               31035.66            0.0            0.0   31035.66   \n",
       "Wood              176981.69            0.0            0.0  176981.69   \n",
       "Wood              136841.51            0.0            0.0  136841.51   \n",
       "Wood               91227.68            0.0            0.0   91227.68   \n",
       "Wood               42147.19            0.0            0.0   42147.19   \n",
       "Wood               77543.52            0.0            0.0   77543.52   \n",
       "Wood              103087.27            0.0            0.0  103087.27   \n",
       "Wood               10640.80            0.0            0.0   10640.80   \n",
       "Wood               38671.41            0.0            0.0   38671.41   \n",
       "Wood               27808.93            0.0            0.0   27808.93   \n",
       "Wood               26437.78            0.0            0.0   26437.78   \n",
       "Wood                6576.60            0.0            0.0    6576.60   \n",
       "Wood                1272.63            0.0            0.0    1272.63   \n",
       "Wood                7389.44            0.0            0.0    7389.44   \n",
       "Wood               25739.89            0.0            0.0   25739.89   \n",
       "Wood               18309.39            0.0            0.0   18309.39   \n",
       "Wood               47250.90        47250.9        47250.9   47250.90   \n",
       "Wood               18630.00        18630.0        18630.0   18630.00   \n",
       "Wood                9450.00         9450.0         9450.0    9450.00   \n",
       "Wood               35408.70            0.0        35408.7   35408.70   \n",
       "Wood               24574.50            0.0        24574.5   24574.50   \n",
       "Wood               38112.30            0.0        38112.3   38112.30   \n",
       "Wood               18312.30            0.0        18312.3   18312.30   \n",
       "Wood                4522.50            0.0         4522.5    4522.50   \n",
       "Wood                1350.00            0.0         1350.0    1350.00   \n",
       "Wood                9770.40            0.0         9770.4    9770.40   \n",
       "Wood               88722.00            0.0        88722.0   88722.00   \n",
       "Wood              173286.90            0.0            0.0  173286.90   \n",
       "\n",
       "               tiv_2012  eq_site_deductible  hu_site_deductible  \\\n",
       "construction                                                      \n",
       "Wood          192476.78                 0.0                 0.0   \n",
       "Wood           86854.48                 0.0                 0.0   \n",
       "Wood          246144.49                 0.0                 0.0   \n",
       "Wood          348374.25                 0.0             16425.0   \n",
       "Wood          265821.57                 0.0             15750.0   \n",
       "Wood           33952.19                 0.0                 0.0   \n",
       "Wood           66755.39                 0.0                 0.0   \n",
       "Wood           42826.99                 0.0                 0.0   \n",
       "Wood           50656.80                 0.0                 0.0   \n",
       "Wood           67905.07                 0.0                 0.0   \n",
       "Wood           66938.90                 0.0                 0.0   \n",
       "Wood           86421.04                 0.0                 0.0   \n",
       "Wood           73798.50                 0.0                 0.0   \n",
       "Wood           62467.29                 0.0                 0.0   \n",
       "Wood           42727.74                 0.0                 0.0   \n",
       "Wood          211372.57                 0.0                 0.0   \n",
       "Wood          157171.16                 0.0                 0.0   \n",
       "Wood           16948.72                 0.0                 0.0   \n",
       "Wood          101758.43                 0.0                 0.0   \n",
       "Wood           63592.88                 0.0                 0.0   \n",
       "Wood             662.18                 0.0                 0.0   \n",
       "Wood          177176.38                 0.0                 0.0   \n",
       "Wood            1861.41                 0.0                 0.0   \n",
       "Wood          101692.86                 0.0                 0.0   \n",
       "Wood           28637.17                 0.0                 0.0   \n",
       "Wood           10880.22                 0.0                 0.0   \n",
       "Wood           69357.78                 0.0                 0.0   \n",
       "Wood           12737.89                 0.0                 0.0   \n",
       "Wood          199030.29                 0.0              4369.5   \n",
       "Wood            4438.05                 0.0                87.3   \n",
       "...                 ...                 ...                 ...   \n",
       "Wood          116932.85                 0.0                 0.0   \n",
       "Wood           70909.45                 0.0                 0.0   \n",
       "Wood           50948.13                 0.0                 0.0   \n",
       "Wood          247642.52                 0.0                 0.0   \n",
       "Wood          203943.12                 0.0                 0.0   \n",
       "Wood          114054.12                 0.0                 0.0   \n",
       "Wood           59612.98                 0.0                 0.0   \n",
       "Wood           91243.29                 0.0                 0.0   \n",
       "Wood          144091.27                 0.0                 0.0   \n",
       "Wood           15506.62                 0.0                 0.0   \n",
       "Wood           62323.23                 0.0                 0.0   \n",
       "Wood           31955.80                 0.0                 0.0   \n",
       "Wood           21866.42                 0.0                 0.0   \n",
       "Wood            6842.97                 0.0                 0.0   \n",
       "Wood            1468.10                 0.0                 0.0   \n",
       "Wood           11633.72                 0.0                 0.0   \n",
       "Wood           38533.23                 0.0                 0.0   \n",
       "Wood           25782.85                 0.0                 0.0   \n",
       "Wood           37895.60                 0.0                 0.0   \n",
       "Wood           21790.39                 0.0                 0.0   \n",
       "Wood            9577.31                 0.0                 0.0   \n",
       "Wood           51588.17                 0.0                 0.0   \n",
       "Wood           40907.70                 0.0                 0.0   \n",
       "Wood           52710.45                 0.0                 0.0   \n",
       "Wood           18575.81                 0.0                 0.0   \n",
       "Wood            4048.11                 0.0                 0.0   \n",
       "Wood            1430.16                 0.0                 0.0   \n",
       "Wood            9349.98                 0.0                 0.0   \n",
       "Wood          155065.65                 0.0                 0.0   \n",
       "Wood          205527.97                 0.0                 0.0   \n",
       "\n",
       "              fl_site_deductible  fr_site_deductible  point_latitude  \\\n",
       "construction                                                           \n",
       "Wood                         0.0                   0       30.089579   \n",
       "Wood                         0.0                   0       30.063236   \n",
       "Wood                         0.0                   0       30.060614   \n",
       "Wood                         0.0                   0       30.102217   \n",
       "Wood                         0.0                   0       30.118774   \n",
       "Wood                         0.0                   0       30.095957   \n",
       "Wood                         0.0                   0       30.100073   \n",
       "Wood                         0.0                   0       30.092480   \n",
       "Wood                         0.0                   0       30.101356   \n",
       "Wood                         0.0                   0       30.113743   \n",
       "Wood                         0.0                   0       30.121655   \n",
       "Wood                         0.0                   0       30.109537   \n",
       "Wood                         0.0                   0       30.118240   \n",
       "Wood                         0.0                   0       30.065799   \n",
       "Wood                         0.0                   0       30.082993   \n",
       "Wood                         0.0                   0       30.095783   \n",
       "Wood                         0.0                   0       30.110518   \n",
       "Wood                         0.0                   0       30.102880   \n",
       "Wood                         0.0                   0       30.068468   \n",
       "Wood                         0.0                   0       30.068468   \n",
       "Wood                         0.0                   0       30.068468   \n",
       "Wood                         0.0                   0       30.068468   \n",
       "Wood                         0.0                   0       30.068468   \n",
       "Wood                         0.0                   0       30.079785   \n",
       "Wood                         0.0                   0       30.080120   \n",
       "Wood                         0.0                   0       29.959805   \n",
       "Wood                         0.0                   0       29.959805   \n",
       "Wood                         0.0                   0       29.959805   \n",
       "Wood                         0.0                   0       29.962601   \n",
       "Wood                         0.0                   0       29.962601   \n",
       "...                          ...                 ...             ...   \n",
       "Wood                         0.0                   0       28.059505   \n",
       "Wood                         0.0                   0       28.029942   \n",
       "Wood                         0.0                   0       28.048200   \n",
       "Wood                         0.0                   0       28.031706   \n",
       "Wood                         0.0                   0       28.031706   \n",
       "Wood                         0.0                   0       28.031706   \n",
       "Wood                         0.0                   0       28.031706   \n",
       "Wood                         0.0                   0       28.031706   \n",
       "Wood                         0.0                   0       28.039028   \n",
       "Wood                         0.0                   0       28.065830   \n",
       "Wood                         0.0                   0       28.048200   \n",
       "Wood                         0.0                   0       28.065830   \n",
       "Wood                         0.0                   0       28.065830   \n",
       "Wood                         0.0                   0       28.065830   \n",
       "Wood                         0.0                   0       28.065830   \n",
       "Wood                         0.0                   0       28.042495   \n",
       "Wood                         0.0                   0       28.042495   \n",
       "Wood                         0.0                   0       28.042495   \n",
       "Wood                         0.0                   0       28.081780   \n",
       "Wood                         0.0                   0       28.081780   \n",
       "Wood                         0.0                   0       28.053280   \n",
       "Wood                         0.0                   0       28.122885   \n",
       "Wood                         0.0                   0       28.122885   \n",
       "Wood                         0.0                   0       28.122885   \n",
       "Wood                         0.0                   0       28.122885   \n",
       "Wood                         0.0                   0       28.122885   \n",
       "Wood                         0.0                   0       28.122885   \n",
       "Wood                         0.0                   0       28.122885   \n",
       "Wood                         0.0                   0       28.122885   \n",
       "Wood                         0.0                   0       28.110550   \n",
       "\n",
       "              point_longitude         line  point_granularity  \n",
       "construction                                                   \n",
       "Wood               -81.700455  Residential                  1  \n",
       "Wood               -81.707703  Residential                  3  \n",
       "Wood               -81.702675  Residential                  1  \n",
       "Wood               -81.707146  Residential                  1  \n",
       "Wood               -81.704613  Residential                  1  \n",
       "Wood               -81.695099  Residential                  1  \n",
       "Wood               -81.739822  Residential                  1  \n",
       "Wood               -81.725167  Residential                  1  \n",
       "Wood               -81.726248  Residential                  1  \n",
       "Wood               -81.727463  Residential                  1  \n",
       "Wood               -81.732391  Residential                  3  \n",
       "Wood               -81.741661  Residential                  1  \n",
       "Wood               -81.745335  Residential                  3  \n",
       "Wood               -81.717416  Residential                  1  \n",
       "Wood               -81.710581  Residential                  1  \n",
       "Wood               -81.713181  Residential                  3  \n",
       "Wood               -81.727478  Residential                  1  \n",
       "Wood               -81.705719  Residential                  1  \n",
       "Wood               -81.716240  Residential                  1  \n",
       "Wood               -81.716240  Residential                  1  \n",
       "Wood               -81.716240  Residential                  1  \n",
       "Wood               -81.716240  Residential                  1  \n",
       "Wood               -81.716240  Residential                  1  \n",
       "Wood               -81.706865  Residential                  4  \n",
       "Wood               -81.718452  Residential                  1  \n",
       "Wood               -82.926659  Residential                  3  \n",
       "Wood               -82.926659  Residential                  3  \n",
       "Wood               -82.926659  Residential                  3  \n",
       "Wood               -82.926155  Residential                  3  \n",
       "Wood               -82.926155  Residential                  3  \n",
       "...                       ...          ...                ...  \n",
       "Wood               -82.708570  Residential                  3  \n",
       "Wood               -82.666489  Residential                  3  \n",
       "Wood               -82.681200  Residential                  4  \n",
       "Wood               -82.654648  Residential                  1  \n",
       "Wood               -82.654648  Residential                  1  \n",
       "Wood               -82.654648  Residential                  1  \n",
       "Wood               -82.654648  Residential                  1  \n",
       "Wood               -82.654648  Residential                  1  \n",
       "Wood               -82.664238  Residential                  1  \n",
       "Wood               -82.689340  Residential                  3  \n",
       "Wood               -82.681200  Residential                  4  \n",
       "Wood               -82.689340  Residential                  3  \n",
       "Wood               -82.689340  Residential                  3  \n",
       "Wood               -82.689340  Residential                  3  \n",
       "Wood               -82.689340  Residential                  3  \n",
       "Wood               -82.695545  Residential                  3  \n",
       "Wood               -82.695545  Residential                  3  \n",
       "Wood               -82.695545  Residential                  3  \n",
       "Wood               -82.748710  Residential                  1  \n",
       "Wood               -82.748710  Residential                  1  \n",
       "Wood               -82.745920  Residential                  1  \n",
       "Wood               -82.770218  Residential                  3  \n",
       "Wood               -82.770218  Residential                  3  \n",
       "Wood               -82.770218  Residential                  3  \n",
       "Wood               -82.770218  Residential                  3  \n",
       "Wood               -82.770218  Residential                  3  \n",
       "Wood               -82.770218  Residential                  3  \n",
       "Wood               -82.770218  Residential                  3  \n",
       "Wood               -82.770218  Residential                  3  \n",
       "Wood               -82.766360  Residential                  4  \n",
       "\n",
       "[21581 rows x 17 columns]"
      ]
     },
     "execution_count": 67,
     "metadata": {},
     "output_type": "execute_result"
    }
   ],
   "source": [
    "b1"
   ]
  },
  {
   "cell_type": "code",
   "execution_count": 68,
   "metadata": {},
   "outputs": [],
   "source": [
    "c=a.iloc[2]"
   ]
  },
  {
   "cell_type": "code",
   "execution_count": 69,
   "metadata": {},
   "outputs": [
    {
     "data": {
      "text/plain": [
       "policyID                   206893\n",
       "statecode                      FL\n",
       "county                CLAY COUNTY\n",
       "eq_site_limit              190724\n",
       "hu_site_limit              190724\n",
       "fl_site_limit              190724\n",
       "fr_site_limit              190724\n",
       "tiv_2011                   190724\n",
       "tiv_2012                   192477\n",
       "eq_site_deductible              0\n",
       "hu_site_deductible              0\n",
       "fl_site_deductible              0\n",
       "fr_site_deductible              0\n",
       "point_latitude            30.0896\n",
       "point_longitude          -81.7005\n",
       "line                  Residential\n",
       "point_granularity               1\n",
       "Name: Wood, dtype: object"
      ]
     },
     "execution_count": 69,
     "metadata": {},
     "output_type": "execute_result"
    }
   ],
   "source": [
    "c"
   ]
  },
  {
   "cell_type": "code",
   "execution_count": 2,
   "metadata": {},
   "outputs": [],
   "source": [
    "import numpy as np"
   ]
  },
  {
   "cell_type": "code",
   "execution_count": 3,
   "metadata": {},
   "outputs": [],
   "source": [
    "c = np.array([[1,2,3,4],[6,7,8,9]])"
   ]
  },
  {
   "cell_type": "code",
   "execution_count": 4,
   "metadata": {},
   "outputs": [
    {
     "data": {
      "text/plain": [
       "array([[1, 2, 3, 4],\n",
       "       [6, 7, 8, 9]])"
      ]
     },
     "execution_count": 4,
     "metadata": {},
     "output_type": "execute_result"
    }
   ],
   "source": [
    "c"
   ]
  },
  {
   "cell_type": "code",
   "execution_count": 5,
   "metadata": {},
   "outputs": [],
   "source": [
    "a = np.array([[1,2,3,4],[4,5,6,7],[7,8,9,1]])"
   ]
  },
  {
   "cell_type": "code",
   "execution_count": 6,
   "metadata": {},
   "outputs": [
    {
     "data": {
      "text/plain": [
       "array([[1, 2, 3, 4],\n",
       "       [4, 5, 6, 7],\n",
       "       [7, 8, 9, 1]])"
      ]
     },
     "execution_count": 6,
     "metadata": {},
     "output_type": "execute_result"
    }
   ],
   "source": [
    "a"
   ]
  },
  {
   "cell_type": "code",
   "execution_count": 11,
   "metadata": {},
   "outputs": [],
   "source": [
    "b = np.array([[3,4,5,6],[5,6,7,8],[7,8,9,1]])"
   ]
  },
  {
   "cell_type": "code",
   "execution_count": 12,
   "metadata": {},
   "outputs": [
    {
     "data": {
      "text/plain": [
       "array([[3, 4, 5, 6],\n",
       "       [5, 6, 7, 8],\n",
       "       [7, 8, 9, 1]])"
      ]
     },
     "execution_count": 12,
     "metadata": {},
     "output_type": "execute_result"
    }
   ],
   "source": [
    "b"
   ]
  },
  {
   "cell_type": "code",
   "execution_count": 20,
   "metadata": {},
   "outputs": [],
   "source": [
    "g = np.subtract(b,a)"
   ]
  },
  {
   "cell_type": "code",
   "execution_count": 16,
   "metadata": {},
   "outputs": [
    {
     "data": {
      "text/plain": [
       "array([[ 4,  6,  8, 10],\n",
       "       [ 9, 11, 13, 15],\n",
       "       [14, 16, 18,  2]])"
      ]
     },
     "execution_count": 16,
     "metadata": {},
     "output_type": "execute_result"
    }
   ],
   "source": [
    "g"
   ]
  },
  {
   "cell_type": "code",
   "execution_count": 19,
   "metadata": {},
   "outputs": [],
   "source": [
    "g = np.add(b,a)"
   ]
  },
  {
   "cell_type": "code",
   "execution_count": 21,
   "metadata": {},
   "outputs": [
    {
     "data": {
      "text/plain": [
       "array([[2, 2, 2, 2],\n",
       "       [1, 1, 1, 1],\n",
       "       [0, 0, 0, 0]])"
      ]
     },
     "execution_count": 21,
     "metadata": {},
     "output_type": "execute_result"
    }
   ],
   "source": [
    "g"
   ]
  },
  {
   "cell_type": "code",
   "execution_count": 22,
   "metadata": {},
   "outputs": [
    {
     "data": {
      "text/plain": [
       "array([[1, 4, 7],\n",
       "       [2, 5, 8],\n",
       "       [3, 6, 9],\n",
       "       [4, 7, 1]])"
      ]
     },
     "execution_count": 22,
     "metadata": {},
     "output_type": "execute_result"
    }
   ],
   "source": [
    "a.T"
   ]
  },
  {
   "cell_type": "code",
   "execution_count": 24,
   "metadata": {},
   "outputs": [
    {
     "data": {
      "text/plain": [
       "69"
      ]
     },
     "execution_count": 24,
     "metadata": {},
     "output_type": "execute_result"
    }
   ],
   "source": [
    "b.sum()"
   ]
  },
  {
   "cell_type": "code",
   "execution_count": 26,
   "metadata": {},
   "outputs": [
    {
     "data": {
      "text/plain": [
       "dtype('int32')"
      ]
     },
     "execution_count": 26,
     "metadata": {},
     "output_type": "execute_result"
    }
   ],
   "source": [
    "b.dtype"
   ]
  },
  {
   "cell_type": "raw",
   "metadata": {},
   "source": []
  },
  {
   "cell_type": "code",
   "execution_count": 30,
   "metadata": {},
   "outputs": [
    {
     "data": {
      "text/plain": [
       "array([[1.73205081, 2.        , 2.23606798, 2.44948974],\n",
       "       [2.23606798, 2.44948974, 2.64575131, 2.82842712],\n",
       "       [2.64575131, 2.82842712, 3.        , 1.        ]])"
      ]
     },
     "execution_count": 30,
     "metadata": {},
     "output_type": "execute_result"
    }
   ],
   "source": [
    "np.sqrt(b)"
   ]
  },
  {
   "cell_type": "code",
   "execution_count": 7,
   "metadata": {},
   "outputs": [],
   "source": [
    "import  matplotlib.pyplot as p"
   ]
  },
  {
   "cell_type": "code",
   "execution_count": 40,
   "metadata": {},
   "outputs": [],
   "source": [
    "list1 = [1,2,3,9,5]"
   ]
  },
  {
   "cell_type": "code",
   "execution_count": 61,
   "metadata": {},
   "outputs": [],
   "source": [
    "list2 = [6,7,8,9,10]\n",
    "list3 = [45,87,23,14,56]"
   ]
  },
  {
   "cell_type": "code",
   "execution_count": 71,
   "metadata": {},
   "outputs": [
    {
     "data": {
      "image/png": "[encoded data removed]",
      "text/plain": [
       "<Figure size 432x288 with 1 Axes>"
      ]
     },
     "metadata": {
      "needs_background": "light"
     },
     "output_type": "display_data"
    }
   ],
   "source": [
    "p.plot(list1 , label ='list1')\n",
    "p.plot(list2, label ='list2')\n",
    "p.plot(list3, label ='list3',linestyle = 'dotted')\n",
    "p.xlabel('num')\n",
    "p.ylabel('time')\n",
    "p.title('num vs time')\n",
    "p.legend()\n",
    "p.show()"
   ]
  },
  {
   "cell_type": "code",
   "execution_count": 86,
   "metadata": {},
   "outputs": [],
   "source": [
    "li =[45,23,15,12,78,98]"
   ]
  },
  {
   "cell_type": "code",
   "execution_count": 72,
   "metadata": {},
   "outputs": [],
   "source": [
    "na = ['Nizam','Nancy','Himbu','Rosi','Swap-null'] "
   ]
  },
  {
   "cell_type": "code",
   "execution_count": 87,
   "metadata": {},
   "outputs": [],
   "source": [
    "nu = [1,2,3,4,5]"
   ]
  },
  {
   "cell_type": "code",
   "execution_count": 78,
   "metadata": {},
   "outputs": [
    {
     "data": {
      "image/png": "[encoded data removed]",
      "text/plain": [
       "<Figure size 432x288 with 1 Axes>"
      ]
     },
     "metadata": {
      "needs_background": "light"
     },
     "output_type": "display_data"
    }
   ],
   "source": [
    "p.plot(na,nu ,label ='na')\n",
    "p.plot(li ,label = 'li')\n",
    "p.xlabel('name')\n",
    "p.ylabel('time')\n",
    "p.legend()\n",
    "p.show()\n"
   ]
  },
  {
   "cell_type": "code",
   "execution_count": 101,
   "metadata": {},
   "outputs": [
    {
     "data": {
      "image/png": "[encoded data removed]",
      "text/plain": [
       "<Figure size 432x288 with 1 Axes>"
      ]
     },
     "metadata": {
      "needs_background": "light"
     },
     "output_type": "display_data"
    }
   ],
   "source": [
    "l1 = [1,2,3,4,5]\n",
    "l2 = [4,5,6,7,8]\n",
    "l3 = [8,9,10,11,12]\n",
    "l4 = [13,14,15,16,17]\n",
    "p.bar(l1,l2,color= ['blue','yellow','red','green','pink'])\n",
    "p.bar(l3,l4,color= ['blue','yellow','red','green','pink'])\n",
    "p.show()"
   ]
  },
  {
   "cell_type": "code",
   "execution_count": 102,
   "metadata": {},
   "outputs": [
    {
     "data": {
      "text/plain": [
       "<matplotlib.collections.PathCollection at 0x1ec42a0e438>"
      ]
     },
     "execution_count": 102,
     "metadata": {},
     "output_type": "execute_result"
    },
    {
     "data": {
      "image/png": "[encoded data removed]",
      "text/plain": [
       "<Figure size 432x288 with 1 Axes>"
      ]
     },
     "metadata": {
      "needs_background": "light"
     },
     "output_type": "display_data"
    }
   ],
   "source": [
    "x = [1,3,5,6]\n",
    "y =[9,11,23,43]\n",
    "p.scatter(x,y)"
   ]
  },
  {
   "cell_type": "code",
   "execution_count": 9,
   "metadata": {},
   "outputs": [],
   "source": [
    "z = [3,5,7,8,3]"
   ]
  },
  {
   "cell_type": "code",
   "execution_count": 10,
   "metadata": {},
   "outputs": [],
   "source": [
    "v =['Nancy','Nizam','Himanshu','Rose','Swapnil']\n",
    "color = ['green','brown','yellow','pink','red']"
   ]
  },
  {
   "cell_type": "code",
   "execution_count": 20,
   "metadata": {},
   "outputs": [
    {
     "data": {
      "image/png": "[encoded data removed]",
      "text/plain": [
       "<Figure size 432x288 with 1 Axes>"
      ]
     },
     "metadata": {},
     "output_type": "display_data"
    }
   ],
   "source": [
    "p.pie(z,labels = v,colors = color,shadow =True,radius = 1)\n",
    "p.show()"
   ]
  },
  {
   "cell_type": "code",
   "execution_count": 25,
   "metadata": {},
   "outputs": [],
   "source": [
    "import hashlib as h"
   ]
  },
  {
   "cell_type": "code",
   "execution_count": 26,
   "metadata": {},
   "outputs": [
    {
     "data": {
      "text/plain": [
       "['__all__',\n",
       " '__builtin_constructor_cache',\n",
       " '__builtins__',\n",
       " '__cached__',\n",
       " '__doc__',\n",
       " '__file__',\n",
       " '__get_builtin_constructor',\n",
       " '__loader__',\n",
       " '__name__',\n",
       " '__package__',\n",
       " '__spec__',\n",
       " '_hashlib',\n",
       " 'algorithms_available',\n",
       " 'algorithms_guaranteed',\n",
       " 'blake2b',\n",
       " 'blake2s',\n",
       " 'md5',\n",
       " 'new',\n",
       " 'pbkdf2_hmac',\n",
       " 'scrypt',\n",
       " 'sha1',\n",
       " 'sha224',\n",
       " 'sha256',\n",
       " 'sha384',\n",
       " 'sha3_224',\n",
       " 'sha3_256',\n",
       " 'sha3_384',\n",
       " 'sha3_512',\n",
       " 'sha512',\n",
       " 'shake_128',\n",
       " 'shake_256']"
      ]
     },
     "execution_count": 26,
     "metadata": {},
     "output_type": "execute_result"
    }
   ],
   "source": [
    "dir(h)"
   ]
  },
  {
   "cell_type": "code",
   "execution_count": 38,
   "metadata": {},
   "outputs": [
    {
     "data": {
      "text/plain": [
       "<sha256 HASH object @ 0x000001FAD0B8E378>"
      ]
     },
     "execution_count": 38,
     "metadata": {},
     "output_type": "execute_result"
    }
   ],
   "source": [
    "str = 'abcd'\n",
    "h.sha256(str.encode())"
   ]
  },
  {
   "cell_type": "code",
   "execution_count": 33,
   "metadata": {},
   "outputs": [
    {
     "data": {
      "text/plain": [
       "'88d4266fd4e6338d13b845fcf289579d209c897823b9217da3e161936f031589'"
      ]
     },
     "execution_count": 33,
     "metadata": {},
     "output_type": "execute_result"
    }
   ],
   "source": [
    "a = h.sha256(str.encode())\n",
    "a.hexdigest()"
   ]
  },
  {
   "cell_type": "code",
   "execution_count": 39,
   "metadata": {},
   "outputs": [
    {
     "data": {
      "text/plain": [
       "'d8022f2060ad6efd297ab73dcc5355c9b214054b0d1776a136a669d26a7d3b14f73aa0d0ebff19ee333368f0164b6419a96da49e3e481753e7e96b716bdccb6f'"
      ]
     },
     "execution_count": 39,
     "metadata": {},
     "output_type": "execute_result"
    }
   ],
   "source": [
    "a = h.sha512(str.encode())\n",
    "a.hexdigest()"
   ]
  },
  {
   "cell_type": "code",
   "execution_count": 43,
   "metadata": {},
   "outputs": [],
   "source": [
    "name = ['a','s','d','f','g']\n",
    "age = [12,13,14,15,16]\n",
    "college = ['n','b','v','c','x']\n",
    "a = zip(name,age,college)\n",
    "\n"
   ]
  },
  {
   "cell_type": "code",
   "execution_count": 44,
   "metadata": {},
   "outputs": [],
   "source": [
    "c = set(a)"
   ]
  },
  {
   "cell_type": "code",
   "execution_count": 45,
   "metadata": {},
   "outputs": [
    {
     "data": {
      "text/plain": [
       "{('a', 12, 'n'),\n",
       " ('d', 14, 'v'),\n",
       " ('f', 15, 'c'),\n",
       " ('g', 16, 'x'),\n",
       " ('s', 13, 'b')}"
      ]
     },
     "execution_count": 45,
     "metadata": {},
     "output_type": "execute_result"
    }
   ],
   "source": [
    "c"
   ]
  },
  {
   "cell_type": "code",
   "execution_count": 46,
   "metadata": {},
   "outputs": [],
   "source": [
    "import pyautogui as ui"
   ]
  },
  {
   "cell_type": "code",
   "execution_count": 47,
   "metadata": {},
   "outputs": [
    {
     "data": {
      "text/plain": [
       "Point(x=1379, y=885)"
      ]
     },
     "execution_count": 47,
     "metadata": {},
     "output_type": "execute_result"
    }
   ],
   "source": [
    "ui.position()"
   ]
  },
  {
   "cell_type": "code",
   "execution_count": 49,
   "metadata": {},
   "outputs": [
    {
     "data": {
      "text/plain": [
       "Size(width=1440, height=900)"
      ]
     },
     "execution_count": 49,
     "metadata": {},
     "output_type": "execute_result"
    }
   ],
   "source": [
    "ui.size()"
   ]
  },
  {
   "cell_type": "code",
   "execution_count": 50,
   "metadata": {},
   "outputs": [
    {
     "data": {
      "text/plain": [
       "Point(x=460, y=415)"
      ]
     },
     "execution_count": 50,
     "metadata": {},
     "output_type": "execute_result"
    }
   ],
   "source": [
    "ui.position()"
   ]
  },
  {
   "cell_type": "code",
   "execution_count": 51,
   "metadata": {},
   "outputs": [],
   "source": [
    "ui.click(x=460,y=414)"
   ]
  },
  {
   "cell_type": "code",
   "execution_count": 52,
   "metadata": {},
   "outputs": [
    {
     "data": {
      "text/plain": [
       "Point(x=511, y=408)"
      ]
     },
     "execution_count": 52,
     "metadata": {},
     "output_type": "execute_result"
    }
   ],
   "source": [
    "ui.position()"
   ]
  },
  {
   "cell_type": "code",
   "execution_count": 53,
   "metadata": {},
   "outputs": [],
   "source": [
    "ui.click(x=511,y=408)"
   ]
  },
  {
   "cell_type": "code",
   "execution_count": 57,
   "metadata": {},
   "outputs": [],
   "source": [
    "ui.hotkey('alt','tab')"
   ]
  },
  {
   "cell_type": "code",
   "execution_count": 59,
   "metadata": {},
   "outputs": [
    {
     "data": {
      "text/plain": [
       "Point(x=773, y=420)"
      ]
     },
     "execution_count": 59,
     "metadata": {},
     "output_type": "execute_result"
    }
   ],
   "source": [
    "ui.position()"
   ]
  },
  {
   "cell_type": "code",
   "execution_count": 61,
   "metadata": {},
   "outputs": [
    {
     "data": {
      "text/plain": [
       "Point(x=550, y=403)"
      ]
     },
     "execution_count": 61,
     "metadata": {},
     "output_type": "execute_result"
    }
   ],
   "source": [
    "ui.position()"
   ]
  },
  {
   "cell_type": "code",
   "execution_count": 62,
   "metadata": {},
   "outputs": [],
   "source": [
    "ui.position()\n",
    "\n",
    "ui.hotkey('alt','tab')\n",
    "ui.click(x=460,y=414)\n",
    "ui.typewrite(\"youtube.com\")\n",
    "ui.press('Enter')"
   ]
  },
  {
   "cell_type": "code",
   "execution_count": 64,
   "metadata": {},
   "outputs": [],
   "source": [
    "ui.hotkey('alt','tab')\n",
    "ui.click(x=460,y=414)\n",
    "ui.typewrite(\"youtube.com\")\n",
    "ui.press('Enter')"
   ]
  },
  {
   "cell_type": "code",
   "execution_count": 65,
   "metadata": {},
   "outputs": [],
   "source": [
    "ui.hotkey('alt','tab')\n",
    "ui.click(x=460,y=414)\n",
    "ui.typewrite(\"youtube.com\")\n",
    "ui.press('Enter')"
   ]
  },
  {
   "cell_type": "code",
   "execution_count": 66,
   "metadata": {},
   "outputs": [
    {
     "ename": "SyntaxError",
     "evalue": "invalid syntax (<ipython-input-66-570fb09b218f>, line 1)",
     "output_type": "error",
     "traceback": [
      "\u001b[1;36m  File \u001b[1;32m\"<ipython-input-66-570fb09b218f>\"\u001b[1;36m, line \u001b[1;32m1\u001b[0m\n\u001b[1;33m    for i in range\u001b[0m\n\u001b[1;37m                  ^\u001b[0m\n\u001b[1;31mSyntaxError\u001b[0m\u001b[1;31m:\u001b[0m invalid syntax\n"
     ]
    }
   ],
   "source": [
    "for i in range\n",
    "ui.hotkey('alt','tab')\n",
    "ui.click(x=460,y=414)\n",
    "ui.typewrite(\"youtube.com\")\n",
    "ui.press('Enter')"
   ]
  },
  {
   "cell_type": "code",
   "execution_count": 68,
   "metadata": {},
   "outputs": [],
   "source": [
    "import time"
   ]
  },
  {
   "cell_type": "code",
   "execution_count": 79,
   "metadata": {},
   "outputs": [
    {
     "ename": "FailSafeException",
     "evalue": "PyAutoGUI fail-safe triggered from mouse moving to a corner of the screen. To disable this fail-safe, set pyautogui.FAILSAFE to False. DISABLING FAIL-SAFE IS NOT RECOMMENDED.",
     "output_type": "error",
     "traceback": [
      "\u001b[1;31m---------------------------------------------------------------------------\u001b[0m",
      "\u001b[1;31mFailSafeException\u001b[0m                         Traceback (most recent call last)",
      "\u001b[1;32m<ipython-input-79-26e90cea3436>\u001b[0m in \u001b[0;36m<module>\u001b[1;34m\u001b[0m\n\u001b[0;32m      1\u001b[0m \u001b[1;32mfor\u001b[0m \u001b[0mi\u001b[0m \u001b[1;32min\u001b[0m \u001b[0mrange\u001b[0m\u001b[1;33m(\u001b[0m\u001b[1;36m500\u001b[0m\u001b[1;33m)\u001b[0m\u001b[1;33m:\u001b[0m\u001b[1;33m\u001b[0m\u001b[1;33m\u001b[0m\u001b[0m\n\u001b[1;32m----> 2\u001b[1;33m     \u001b[0mui\u001b[0m\u001b[1;33m.\u001b[0m\u001b[0mhotkey\u001b[0m\u001b[1;33m(\u001b[0m\u001b[1;34m'alt'\u001b[0m\u001b[1;33m,\u001b[0m\u001b[1;34m'tab'\u001b[0m\u001b[1;33m)\u001b[0m\u001b[1;33m\u001b[0m\u001b[1;33m\u001b[0m\u001b[0m\n\u001b[0m\u001b[0;32m      3\u001b[0m     \u001b[0mtime\u001b[0m\u001b[1;33m.\u001b[0m\u001b[0msleep\u001b[0m\u001b[1;33m(\u001b[0m\u001b[1;36m0.1\u001b[0m\u001b[1;33m)\u001b[0m\u001b[1;33m\u001b[0m\u001b[1;33m\u001b[0m\u001b[0m\n",
      "\u001b[1;32mC:\\ProgramData\\Anaconda3\\lib\\site-packages\\pyautogui\\__init__.py\u001b[0m in \u001b[0;36mhotkey\u001b[1;34m(*args, **kwargs)\u001b[0m\n\u001b[0;32m   1197\u001b[0m     \u001b[0minterval\u001b[0m \u001b[1;33m=\u001b[0m \u001b[0mfloat\u001b[0m\u001b[1;33m(\u001b[0m\u001b[0mkwargs\u001b[0m\u001b[1;33m.\u001b[0m\u001b[0mget\u001b[0m\u001b[1;33m(\u001b[0m\u001b[1;34m'interval'\u001b[0m\u001b[1;33m,\u001b[0m \u001b[1;36m0.0\u001b[0m\u001b[1;33m)\u001b[0m\u001b[1;33m)\u001b[0m \u001b[1;31m# TODO - this should be taken out.\u001b[0m\u001b[1;33m\u001b[0m\u001b[1;33m\u001b[0m\u001b[0m\n\u001b[0;32m   1198\u001b[0m \u001b[1;33m\u001b[0m\u001b[0m\n\u001b[1;32m-> 1199\u001b[1;33m     \u001b[0m_failSafeCheck\u001b[0m\u001b[1;33m(\u001b[0m\u001b[1;33m)\u001b[0m\u001b[1;33m\u001b[0m\u001b[1;33m\u001b[0m\u001b[0m\n\u001b[0m\u001b[0;32m   1200\u001b[0m \u001b[1;33m\u001b[0m\u001b[0m\n\u001b[0;32m   1201\u001b[0m     \u001b[0m_logScreenshot\u001b[0m\u001b[1;33m(\u001b[0m\u001b[0mkwargs\u001b[0m\u001b[1;33m.\u001b[0m\u001b[0mget\u001b[0m\u001b[1;33m(\u001b[0m\u001b[1;34m'logScreenshot'\u001b[0m\u001b[1;33m)\u001b[0m\u001b[1;33m,\u001b[0m \u001b[1;34m'hotkey'\u001b[0m\u001b[1;33m,\u001b[0m \u001b[1;34m','\u001b[0m\u001b[1;33m.\u001b[0m\u001b[0mjoin\u001b[0m\u001b[1;33m(\u001b[0m\u001b[0margs\u001b[0m\u001b[1;33m)\u001b[0m\u001b[1;33m,\u001b[0m \u001b[0mfolder\u001b[0m\u001b[1;33m=\u001b[0m\u001b[1;34m'.'\u001b[0m\u001b[1;33m)\u001b[0m\u001b[1;33m\u001b[0m\u001b[1;33m\u001b[0m\u001b[0m\n",
      "\u001b[1;32mC:\\ProgramData\\Anaconda3\\lib\\site-packages\\pyautogui\\__init__.py\u001b[0m in \u001b[0;36m_failSafeCheck\u001b[1;34m()\u001b[0m\n\u001b[0;32m   1220\u001b[0m \u001b[1;32mdef\u001b[0m \u001b[0m_failSafeCheck\u001b[0m\u001b[1;33m(\u001b[0m\u001b[1;33m)\u001b[0m\u001b[1;33m:\u001b[0m\u001b[1;33m\u001b[0m\u001b[1;33m\u001b[0m\u001b[0m\n\u001b[0;32m   1221\u001b[0m     \u001b[1;32mif\u001b[0m \u001b[0mFAILSAFE\u001b[0m \u001b[1;32mand\u001b[0m \u001b[0mtuple\u001b[0m\u001b[1;33m(\u001b[0m\u001b[0mposition\u001b[0m\u001b[1;33m(\u001b[0m\u001b[1;33m)\u001b[0m\u001b[1;33m)\u001b[0m \u001b[1;32min\u001b[0m \u001b[0mFAILSAFE_POINTS\u001b[0m\u001b[1;33m:\u001b[0m\u001b[1;33m\u001b[0m\u001b[1;33m\u001b[0m\u001b[0m\n\u001b[1;32m-> 1222\u001b[1;33m         \u001b[1;32mraise\u001b[0m \u001b[0mFailSafeException\u001b[0m\u001b[1;33m(\u001b[0m\u001b[1;34m'PyAutoGUI fail-safe triggered from mouse moving to a corner of the screen. To disable this fail-safe, set pyautogui.FAILSAFE to False. DISABLING FAIL-SAFE IS NOT RECOMMENDED.'\u001b[0m\u001b[1;33m)\u001b[0m\u001b[1;33m\u001b[0m\u001b[1;33m\u001b[0m\u001b[0m\n\u001b[0m\u001b[0;32m   1223\u001b[0m \u001b[1;33m\u001b[0m\u001b[0m\n\u001b[0;32m   1224\u001b[0m \u001b[1;33m\u001b[0m\u001b[0m\n",
      "\u001b[1;31mFailSafeException\u001b[0m: PyAutoGUI fail-safe triggered from mouse moving to a corner of the screen. To disable this fail-safe, set pyautogui.FAILSAFE to False. DISABLING FAIL-SAFE IS NOT RECOMMENDED."
     ]
    }
   ],
   "source": [
    "for i in range(500):\n",
    "    ui.hotkey('alt','tab')\n",
    "    time.sleep(0.1)"
   ]
  },
  {
   "cell_type": "code",
   "execution_count": null,
   "metadata": {},
   "outputs": [],
   "source": []
  }
 ],
 "metadata": {
  "kernelspec": {
   "display_name": "Python 3",
   "language": "python",
   "name": "python3"
  },
  "language_info": {
   "codemirror_mode": {
    "name": "ipython",
    "version": 3
   },
   "file_extension": ".py",
   "mimetype": "text/x-python",
   "name": "python",
   "nbconvert_exporter": "python",
   "pygments_lexer": "ipython3",
   "version": "3.7.3"
  }
 },
 "nbformat": 4,
 "nbformat_minor": 2
}
